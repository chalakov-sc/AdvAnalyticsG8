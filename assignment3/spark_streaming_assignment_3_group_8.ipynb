{
 "cells": [
  {
   "cell_type": "code",
   "execution_count": 96,
   "metadata": {},
   "outputs": [],
   "source": [
    "import threading\n",
    "\n",
    "# Helper thread to avoid the Spark StreamingContext from blocking Jupyter\n",
    "        \n",
    "class StreamingThread(threading.Thread):\n",
    "    def __init__(self, ssc):\n",
    "        super().__init__()\n",
    "        self.ssc = ssc\n",
    "    def run(self):\n",
    "        self.ssc.start()\n",
    "        self.ssc.awaitTermination()\n",
    "    def stop(self):\n",
    "        print('----- Stopping... this may take a few seconds -----')\n",
    "        self.ssc.stop(stopSparkContext=False, stopGraceFully=True)"
   ]
  },
  {
   "cell_type": "code",
   "execution_count": 97,
   "metadata": {},
   "outputs": [
    {
     "data": {
      "text/html": [
       "\n",
       "        <div>\n",
       "            <p><b>SparkContext</b></p>\n",
       "\n",
       "            <p><a href=\"http://192.168.1.198:4040\">Spark UI</a></p>\n",
       "\n",
       "            <dl>\n",
       "              <dt>Version</dt>\n",
       "                <dd><code>v3.5.1</code></dd>\n",
       "              <dt>Master</dt>\n",
       "                <dd><code>local[2]</code></dd>\n",
       "              <dt>AppName</dt>\n",
       "                <dd><code>PySparkShell</code></dd>\n",
       "            </dl>\n",
       "        </div>\n",
       "        "
      ],
      "text/plain": [
       "<SparkContext master=local[2] appName=PySparkShell>"
      ]
     },
     "execution_count": 97,
     "metadata": {},
     "output_type": "execute_result"
    }
   ],
   "source": [
    "sc"
   ]
  },
  {
   "cell_type": "code",
   "execution_count": 3,
   "metadata": {},
   "outputs": [],
   "source": [
    "import os\n",
    "from pyspark.streaming import StreamingContext"
   ]
  },
  {
   "cell_type": "code",
   "execution_count": 4,
   "metadata": {},
   "outputs": [
    {
     "name": "stderr",
     "output_type": "stream",
     "text": [
      "/Users/stantschal/Desktop/spark/spark-3.5.1-bin-hadoop3/python/pyspark/streaming/context.py:72: FutureWarning: DStream is deprecated as of Spark 3.4.0. Migrate to Structured Streaming.\n",
      "  warnings.warn(\n"
     ]
    }
   ],
   "source": [
    "# Save less frequently and create less subdirectories. I.e. every 120 seconds\n",
    "ssc = StreamingContext(sc, 120)"
   ]
  },
  {
   "cell_type": "code",
   "execution_count": 5,
   "metadata": {
    "scrolled": true
   },
   "outputs": [],
   "source": [
    "lines = ssc.socketTextStream(\"seppe.net\", 7778)"
   ]
  },
  {
   "cell_type": "code",
   "execution_count": 6,
   "metadata": {},
   "outputs": [
    {
     "name": "stdout",
     "output_type": "stream",
     "text": [
      "Saving to /Users/stantschal/Desktop/spark/notebooks/saved_stories\n"
     ]
    }
   ],
   "source": [
    "out_dir = f\"{os.path.abspath('')}{os.path.sep}saved_stories\"\n",
    "lines.repartition(1).saveAsTextFiles(f\"file:///{out_dir}\")\n",
    "print(\"Saving to\", out_dir)"
   ]
  },
  {
   "cell_type": "code",
   "execution_count": 7,
   "metadata": {},
   "outputs": [
    {
     "name": "stderr",
     "output_type": "stream",
     "text": [
      "24/05/05 09:19:16 WARN RandomBlockReplicationPolicy: Expecting 1 replicas with only 0 peer/s.\n",
      "24/05/05 09:19:16 WARN BlockManager: Block input-0-1714889956400 replicated to only 0 peer(s) instead of 1 peers\n",
      "24/05/05 09:19:20 WARN RandomBlockReplicationPolicy: Expecting 1 replicas with only 0 peer/s.\n",
      "24/05/05 09:19:20 WARN BlockManager: Block input-0-1714889960600 replicated to only 0 peer(s) instead of 1 peers\n",
      "24/05/05 09:19:22 WARN RandomBlockReplicationPolicy: Expecting 1 replicas with only 0 peer/s.\n",
      "24/05/05 09:19:22 WARN BlockManager: Block input-0-1714889962600 replicated to only 0 peer(s) instead of 1 peers\n",
      "24/05/05 09:19:23 WARN RandomBlockReplicationPolicy: Expecting 1 replicas with only 0 peer/s.\n",
      "24/05/05 09:19:23 WARN BlockManager: Block input-0-1714889963600 replicated to only 0 peer(s) instead of 1 peers\n",
      "24/05/05 09:19:24 WARN RandomBlockReplicationPolicy: Expecting 1 replicas with only 0 peer/s.\n",
      "24/05/05 09:19:24 WARN BlockManager: Block input-0-1714889964600 replicated to only 0 peer(s) instead of 1 peers\n",
      "24/05/05 09:19:30 WARN RandomBlockReplicationPolicy: Expecting 1 replicas with only 0 peer/s.\n",
      "24/05/05 09:19:30 WARN BlockManager: Block input-0-1714889969800 replicated to only 0 peer(s) instead of 1 peers\n",
      "24/05/05 09:19:30 WARN RandomBlockReplicationPolicy: Expecting 1 replicas with only 0 peer/s.\n",
      "24/05/05 09:19:30 WARN BlockManager: Block input-0-1714889970600 replicated to only 0 peer(s) instead of 1 peers\n",
      "24/05/05 09:19:33 WARN RandomBlockReplicationPolicy: Expecting 1 replicas with only 0 peer/s.\n",
      "24/05/05 09:19:33 WARN BlockManager: Block input-0-1714889973600 replicated to only 0 peer(s) instead of 1 peers\n",
      "24/05/05 09:19:37 WARN RandomBlockReplicationPolicy: Expecting 1 replicas with only 0 peer/s.\n",
      "24/05/05 09:19:37 WARN BlockManager: Block input-0-1714889977600 replicated to only 0 peer(s) instead of 1 peers\n",
      "24/05/05 09:19:39 WARN RandomBlockReplicationPolicy: Expecting 1 replicas with only 0 peer/s.\n",
      "24/05/05 09:19:39 WARN BlockManager: Block input-0-1714889979600 replicated to only 0 peer(s) instead of 1 peers\n",
      "24/05/05 09:19:41 WARN RandomBlockReplicationPolicy: Expecting 1 replicas with only 0 peer/s.\n",
      "24/05/05 09:19:41 WARN BlockManager: Block input-0-1714889980800 replicated to only 0 peer(s) instead of 1 peers\n",
      "24/05/05 09:19:46 WARN RandomBlockReplicationPolicy: Expecting 1 replicas with only 0 peer/s.\n",
      "24/05/05 09:19:46 WARN BlockManager: Block input-0-1714889985800 replicated to only 0 peer(s) instead of 1 peers\n",
      "24/05/05 09:19:51 WARN RandomBlockReplicationPolicy: Expecting 1 replicas with only 0 peer/s.\n",
      "24/05/05 09:19:51 WARN BlockManager: Block input-0-1714889990800 replicated to only 0 peer(s) instead of 1 peers\n",
      "24/05/05 09:19:52 WARN RandomBlockReplicationPolicy: Expecting 1 replicas with only 0 peer/s.\n",
      "24/05/05 09:19:52 WARN BlockManager: Block input-0-1714889991800 replicated to only 0 peer(s) instead of 1 peers\n",
      "24/05/05 09:19:56 WARN RandomBlockReplicationPolicy: Expecting 1 replicas with only 0 peer/s.\n",
      "24/05/05 09:19:56 WARN BlockManager: Block input-0-1714889996000 replicated to only 0 peer(s) instead of 1 peers\n",
      "24/05/05 09:19:59 WARN RandomBlockReplicationPolicy: Expecting 1 replicas with only 0 peer/s.\n",
      "24/05/05 09:19:59 WARN BlockManager: Block input-0-1714889998800 replicated to only 0 peer(s) instead of 1 peers\n",
      "24/05/05 09:20:01 WARN RandomBlockReplicationPolicy: Expecting 1 replicas with only 0 peer/s.\n",
      "24/05/05 09:20:01 WARN BlockManager: Block input-0-1714890000800 replicated to only 0 peer(s) instead of 1 peers\n",
      "24/05/05 09:20:06 WARN RandomBlockReplicationPolicy: Expecting 1 replicas with only 0 peer/s.\n",
      "24/05/05 09:20:06 WARN BlockManager: Block input-0-1714890005800 replicated to only 0 peer(s) instead of 1 peers\n",
      "24/05/05 09:20:11 WARN RandomBlockReplicationPolicy: Expecting 1 replicas with only 0 peer/s.\n",
      "24/05/05 09:20:11 WARN BlockManager: Block input-0-1714890010800 replicated to only 0 peer(s) instead of 1 peers\n",
      "24/05/05 09:20:16 WARN RandomBlockReplicationPolicy: Expecting 1 replicas with only 0 peer/s.\n",
      "24/05/05 09:20:16 WARN BlockManager: Block input-0-1714890016000 replicated to only 0 peer(s) instead of 1 peers\n",
      "24/05/05 09:20:17 WARN RandomBlockReplicationPolicy: Expecting 1 replicas with only 0 peer/s.\n",
      "24/05/05 09:20:17 WARN BlockManager: Block input-0-1714890017200 replicated to only 0 peer(s) instead of 1 peers\n",
      "24/05/05 09:20:22 WARN RandomBlockReplicationPolicy: Expecting 1 replicas with only 0 peer/s.\n",
      "24/05/05 09:20:22 WARN BlockManager: Block input-0-1714890022000 replicated to only 0 peer(s) instead of 1 peers\n",
      "24/05/05 09:20:24 WARN RandomBlockReplicationPolicy: Expecting 1 replicas with only 0 peer/s.\n",
      "24/05/05 09:20:24 WARN BlockManager: Block input-0-1714890024400 replicated to only 0 peer(s) instead of 1 peers\n",
      "24/05/05 09:20:26 WARN RandomBlockReplicationPolicy: Expecting 1 replicas with only 0 peer/s.\n",
      "24/05/05 09:20:26 WARN BlockManager: Block input-0-1714890026400 replicated to only 0 peer(s) instead of 1 peers\n",
      "24/05/05 09:20:27 WARN RandomBlockReplicationPolicy: Expecting 1 replicas with only 0 peer/s.\n",
      "24/05/05 09:20:27 WARN BlockManager: Block input-0-1714890027400 replicated to only 0 peer(s) instead of 1 peers\n",
      "24/05/05 09:20:31 WARN RandomBlockReplicationPolicy: Expecting 1 replicas with only 0 peer/s.\n",
      "24/05/05 09:20:31 WARN BlockManager: Block input-0-1714890031600 replicated to only 0 peer(s) instead of 1 peers\n",
      "24/05/05 09:20:34 WARN RandomBlockReplicationPolicy: Expecting 1 replicas with only 0 peer/s.\n",
      "24/05/05 09:20:34 WARN BlockManager: Block input-0-1714890034600 replicated to only 0 peer(s) instead of 1 peers\n",
      "24/05/05 09:20:39 WARN RandomBlockReplicationPolicy: Expecting 1 replicas with only 0 peer/s.\n",
      "24/05/05 09:20:39 WARN BlockManager: Block input-0-1714890039400 replicated to only 0 peer(s) instead of 1 peers\n",
      "24/05/05 09:20:41 WARN RandomBlockReplicationPolicy: Expecting 1 replicas with only 0 peer/s.\n",
      "24/05/05 09:20:41 WARN BlockManager: Block input-0-1714890041600 replicated to only 0 peer(s) instead of 1 peers\n",
      "24/05/05 09:20:44 WARN RandomBlockReplicationPolicy: Expecting 1 replicas with only 0 peer/s.\n",
      "24/05/05 09:20:44 WARN BlockManager: Block input-0-1714890044400 replicated to only 0 peer(s) instead of 1 peers\n",
      "24/05/05 09:20:47 WARN RandomBlockReplicationPolicy: Expecting 1 replicas with only 0 peer/s.\n",
      "24/05/05 09:20:47 WARN BlockManager: Block input-0-1714890047600 replicated to only 0 peer(s) instead of 1 peers\n",
      "24/05/05 09:20:51 WARN RandomBlockReplicationPolicy: Expecting 1 replicas with only 0 peer/s.\n",
      "24/05/05 09:20:51 WARN BlockManager: Block input-0-1714890051600 replicated to only 0 peer(s) instead of 1 peers\n",
      "24/05/05 09:20:54 WARN RandomBlockReplicationPolicy: Expecting 1 replicas with only 0 peer/s.\n",
      "24/05/05 09:20:54 WARN BlockManager: Block input-0-1714890054600 replicated to only 0 peer(s) instead of 1 peers\n",
      "24/05/05 09:20:56 WARN RandomBlockReplicationPolicy: Expecting 1 replicas with only 0 peer/s.\n",
      "24/05/05 09:20:56 WARN BlockManager: Block input-0-1714890056600 replicated to only 0 peer(s) instead of 1 peers\n",
      "24/05/05 09:21:00 WARN RandomBlockReplicationPolicy: Expecting 1 replicas with only 0 peer/s.\n",
      "24/05/05 09:21:00 WARN BlockManager: Block input-0-1714890060600 replicated to only 0 peer(s) instead of 1 peers\n",
      "24/05/05 09:21:05 WARN RandomBlockReplicationPolicy: Expecting 1 replicas with only 0 peer/s.\n",
      "24/05/05 09:21:05 WARN BlockManager: Block input-0-1714890065600 replicated to only 0 peer(s) instead of 1 peers\n",
      "24/05/05 09:21:10 WARN RandomBlockReplicationPolicy: Expecting 1 replicas with only 0 peer/s.\n",
      "24/05/05 09:21:10 WARN BlockManager: Block input-0-1714890070200 replicated to only 0 peer(s) instead of 1 peers\n",
      "24/05/05 09:21:13 WARN RandomBlockReplicationPolicy: Expecting 1 replicas with only 0 peer/s.\n",
      "24/05/05 09:21:13 WARN BlockManager: Block input-0-1714890072800 replicated to only 0 peer(s) instead of 1 peers\n",
      "24/05/05 09:21:17 WARN RandomBlockReplicationPolicy: Expecting 1 replicas with only 0 peer/s.\n",
      "24/05/05 09:21:17 WARN BlockManager: Block input-0-1714890076800 replicated to only 0 peer(s) instead of 1 peers\n",
      "24/05/05 09:21:20 WARN RandomBlockReplicationPolicy: Expecting 1 replicas with only 0 peer/s.\n",
      "24/05/05 09:21:20 WARN BlockManager: Block input-0-1714890079800 replicated to only 0 peer(s) instead of 1 peers\n",
      "24/05/05 09:21:25 WARN RandomBlockReplicationPolicy: Expecting 1 replicas with only 0 peer/s.\n",
      "24/05/05 09:21:25 WARN BlockManager: Block input-0-1714890084800 replicated to only 0 peer(s) instead of 1 peers\n",
      "24/05/05 09:21:28 WARN RandomBlockReplicationPolicy: Expecting 1 replicas with only 0 peer/s.\n",
      "24/05/05 09:21:28 WARN BlockManager: Block input-0-1714890087800 replicated to only 0 peer(s) instead of 1 peers\n",
      "24/05/05 09:21:30 WARN RandomBlockReplicationPolicy: Expecting 1 replicas with only 0 peer/s.\n",
      "24/05/05 09:21:30 WARN BlockManager: Block input-0-1714890089800 replicated to only 0 peer(s) instead of 1 peers\n",
      "24/05/05 09:21:32 WARN RandomBlockReplicationPolicy: Expecting 1 replicas with only 0 peer/s.\n",
      "24/05/05 09:21:32 WARN BlockManager: Block input-0-1714890091800 replicated to only 0 peer(s) instead of 1 peers\n",
      "24/05/05 09:21:35 WARN RandomBlockReplicationPolicy: Expecting 1 replicas with only 0 peer/s.\n",
      "24/05/05 09:21:35 WARN BlockManager: Block input-0-1714890094800 replicated to only 0 peer(s) instead of 1 peers\n",
      "24/05/05 09:21:37 WARN RandomBlockReplicationPolicy: Expecting 1 replicas with only 0 peer/s.\n",
      "24/05/05 09:21:37 WARN BlockManager: Block input-0-1714890097000 replicated to only 0 peer(s) instead of 1 peers\n",
      "24/05/05 09:21:39 WARN RandomBlockReplicationPolicy: Expecting 1 replicas with only 0 peer/s.\n",
      "24/05/05 09:21:39 WARN BlockManager: Block input-0-1714890099000 replicated to only 0 peer(s) instead of 1 peers\n",
      "24/05/05 09:21:42 WARN RandomBlockReplicationPolicy: Expecting 1 replicas with only 0 peer/s.\n",
      "24/05/05 09:21:42 WARN BlockManager: Block input-0-1714890102200 replicated to only 0 peer(s) instead of 1 peers\n",
      "24/05/05 09:21:44 WARN RandomBlockReplicationPolicy: Expecting 1 replicas with only 0 peer/s.\n",
      "24/05/05 09:21:44 WARN BlockManager: Block input-0-1714890104000 replicated to only 0 peer(s) instead of 1 peers\n",
      "24/05/05 09:21:49 WARN RandomBlockReplicationPolicy: Expecting 1 replicas with only 0 peer/s.\n",
      "24/05/05 09:21:49 WARN BlockManager: Block input-0-1714890109000 replicated to only 0 peer(s) instead of 1 peers\n",
      "24/05/05 09:22:54 WARN RandomBlockReplicationPolicy: Expecting 1 replicas with only 0 peer/s.\n",
      "24/05/05 09:22:54 WARN BlockManager: Block input-0-1714890174200 replicated to only 0 peer(s) instead of 1 peers\n",
      "24/05/05 09:22:57 WARN RandomBlockReplicationPolicy: Expecting 1 replicas with only 0 peer/s.\n",
      "24/05/05 09:22:57 WARN BlockManager: Block input-0-1714890177400 replicated to only 0 peer(s) instead of 1 peers\n",
      "24/05/05 09:23:02 WARN RandomBlockReplicationPolicy: Expecting 1 replicas with only 0 peer/s.\n",
      "24/05/05 09:23:02 WARN BlockManager: Block input-0-1714890182200 replicated to only 0 peer(s) instead of 1 peers\n",
      "24/05/05 09:23:06 WARN RandomBlockReplicationPolicy: Expecting 1 replicas with only 0 peer/s.\n",
      "24/05/05 09:23:06 WARN BlockManager: Block input-0-1714890186200 replicated to only 0 peer(s) instead of 1 peers\n",
      "24/05/05 09:23:11 WARN RandomBlockReplicationPolicy: Expecting 1 replicas with only 0 peer/s.\n",
      "24/05/05 09:23:11 WARN BlockManager: Block input-0-1714890191200 replicated to only 0 peer(s) instead of 1 peers\n",
      "24/05/05 09:23:12 WARN RandomBlockReplicationPolicy: Expecting 1 replicas with only 0 peer/s.\n",
      "24/05/05 09:23:12 WARN BlockManager: Block input-0-1714890192200 replicated to only 0 peer(s) instead of 1 peers\n",
      "24/05/05 09:23:13 WARN RandomBlockReplicationPolicy: Expecting 1 replicas with only 0 peer/s.\n",
      "24/05/05 09:23:13 WARN BlockManager: Block input-0-1714890193200 replicated to only 0 peer(s) instead of 1 peers\n",
      "24/05/05 09:23:14 WARN RandomBlockReplicationPolicy: Expecting 1 replicas with only 0 peer/s.\n",
      "24/05/05 09:23:14 WARN BlockManager: Block input-0-1714890194200 replicated to only 0 peer(s) instead of 1 peers\n",
      "24/05/05 09:23:16 WARN RandomBlockReplicationPolicy: Expecting 1 replicas with only 0 peer/s.\n",
      "24/05/05 09:23:16 WARN BlockManager: Block input-0-1714890196200 replicated to only 0 peer(s) instead of 1 peers\n",
      "24/05/05 09:23:20 WARN RandomBlockReplicationPolicy: Expecting 1 replicas with only 0 peer/s.\n",
      "24/05/05 09:23:20 WARN BlockManager: Block input-0-1714890200200 replicated to only 0 peer(s) instead of 1 peers\n",
      "24/05/05 09:23:24 WARN RandomBlockReplicationPolicy: Expecting 1 replicas with only 0 peer/s.\n",
      "24/05/05 09:23:24 WARN BlockManager: Block input-0-1714890204400 replicated to only 0 peer(s) instead of 1 peers\n",
      "24/05/05 09:23:27 WARN RandomBlockReplicationPolicy: Expecting 1 replicas with only 0 peer/s.\n",
      "24/05/05 09:23:27 WARN BlockManager: Block input-0-1714890207200 replicated to only 0 peer(s) instead of 1 peers\n",
      "24/05/05 09:23:32 WARN RandomBlockReplicationPolicy: Expecting 1 replicas with only 0 peer/s.\n",
      "24/05/05 09:23:32 WARN BlockManager: Block input-0-1714890212400 replicated to only 0 peer(s) instead of 1 peers\n",
      "24/05/05 09:23:34 WARN RandomBlockReplicationPolicy: Expecting 1 replicas with only 0 peer/s.\n",
      "24/05/05 09:23:34 WARN BlockManager: Block input-0-1714890213800 replicated to only 0 peer(s) instead of 1 peers\n",
      "24/05/05 09:23:36 WARN RandomBlockReplicationPolicy: Expecting 1 replicas with only 0 peer/s.\n",
      "24/05/05 09:23:36 WARN BlockManager: Block input-0-1714890215800 replicated to only 0 peer(s) instead of 1 peers\n",
      "24/05/05 09:23:38 WARN RandomBlockReplicationPolicy: Expecting 1 replicas with only 0 peer/s.\n",
      "24/05/05 09:23:38 WARN BlockManager: Block input-0-1714890218600 replicated to only 0 peer(s) instead of 1 peers\n",
      "24/05/05 09:23:40 WARN RandomBlockReplicationPolicy: Expecting 1 replicas with only 0 peer/s.\n",
      "24/05/05 09:23:40 WARN BlockManager: Block input-0-1714890220600 replicated to only 0 peer(s) instead of 1 peers\n",
      "24/05/05 09:23:43 WARN RandomBlockReplicationPolicy: Expecting 1 replicas with only 0 peer/s.\n",
      "24/05/05 09:23:43 WARN BlockManager: Block input-0-1714890223600 replicated to only 0 peer(s) instead of 1 peers\n",
      "24/05/05 09:23:45 WARN RandomBlockReplicationPolicy: Expecting 1 replicas with only 0 peer/s.\n",
      "24/05/05 09:23:45 WARN BlockManager: Block input-0-1714890225600 replicated to only 0 peer(s) instead of 1 peers\n",
      "24/05/05 09:23:48 WARN RandomBlockReplicationPolicy: Expecting 1 replicas with only 0 peer/s.\n",
      "24/05/05 09:23:48 WARN BlockManager: Block input-0-1714890227800 replicated to only 0 peer(s) instead of 1 peers\n",
      "24/05/05 09:23:51 WARN RandomBlockReplicationPolicy: Expecting 1 replicas with only 0 peer/s.\n",
      "24/05/05 09:23:51 WARN BlockManager: Block input-0-1714890230800 replicated to only 0 peer(s) instead of 1 peers\n",
      "24/05/05 09:23:55 WARN RandomBlockReplicationPolicy: Expecting 1 replicas with only 0 peer/s.\n",
      "24/05/05 09:23:55 WARN BlockManager: Block input-0-1714890234800 replicated to only 0 peer(s) instead of 1 peers\n",
      "24/05/05 09:23:57 WARN RandomBlockReplicationPolicy: Expecting 1 replicas with only 0 peer/s.\n",
      "24/05/05 09:23:57 WARN BlockManager: Block input-0-1714890237600 replicated to only 0 peer(s) instead of 1 peers\n",
      "24/05/05 09:24:01 WARN RandomBlockReplicationPolicy: Expecting 1 replicas with only 0 peer/s.\n",
      "24/05/05 09:24:01 WARN BlockManager: Block input-0-1714890241200 replicated to only 0 peer(s) instead of 1 peers\n",
      "24/05/05 09:24:06 WARN RandomBlockReplicationPolicy: Expecting 1 replicas with only 0 peer/s.\n",
      "24/05/05 09:24:06 WARN BlockManager: Block input-0-1714890246000 replicated to only 0 peer(s) instead of 1 peers\n",
      "24/05/05 09:24:08 WARN RandomBlockReplicationPolicy: Expecting 1 replicas with only 0 peer/s.\n",
      "24/05/05 09:24:08 WARN BlockManager: Block input-0-1714890248000 replicated to only 0 peer(s) instead of 1 peers\n",
      "24/05/05 09:24:10 WARN RandomBlockReplicationPolicy: Expecting 1 replicas with only 0 peer/s.\n",
      "24/05/05 09:24:10 WARN BlockManager: Block input-0-1714890249800 replicated to only 0 peer(s) instead of 1 peers\n",
      "24/05/05 09:24:11 WARN RandomBlockReplicationPolicy: Expecting 1 replicas with only 0 peer/s.\n",
      "24/05/05 09:24:11 WARN BlockManager: Block input-0-1714890251000 replicated to only 0 peer(s) instead of 1 peers\n",
      "24/05/05 09:24:16 WARN RandomBlockReplicationPolicy: Expecting 1 replicas with only 0 peer/s.\n",
      "24/05/05 09:24:16 WARN BlockManager: Block input-0-1714890256000 replicated to only 0 peer(s) instead of 1 peers\n",
      "24/05/05 09:24:19 WARN RandomBlockReplicationPolicy: Expecting 1 replicas with only 0 peer/s.\n",
      "24/05/05 09:24:19 WARN BlockManager: Block input-0-1714890258800 replicated to only 0 peer(s) instead of 1 peers\n",
      "24/05/05 09:24:22 WARN RandomBlockReplicationPolicy: Expecting 1 replicas with only 0 peer/s.\n",
      "24/05/05 09:24:22 WARN BlockManager: Block input-0-1714890261800 replicated to only 0 peer(s) instead of 1 peers\n",
      "24/05/05 09:24:23 WARN RandomBlockReplicationPolicy: Expecting 1 replicas with only 0 peer/s.\n",
      "24/05/05 09:24:23 WARN BlockManager: Block input-0-1714890263200 replicated to only 0 peer(s) instead of 1 peers\n",
      "24/05/05 09:24:26 WARN RandomBlockReplicationPolicy: Expecting 1 replicas with only 0 peer/s.\n",
      "24/05/05 09:24:26 WARN BlockManager: Block input-0-1714890266000 replicated to only 0 peer(s) instead of 1 peers\n",
      "24/05/05 09:24:30 WARN RandomBlockReplicationPolicy: Expecting 1 replicas with only 0 peer/s.\n",
      "24/05/05 09:24:30 WARN BlockManager: Block input-0-1714890270000 replicated to only 0 peer(s) instead of 1 peers\n",
      "24/05/05 09:24:31 WARN RandomBlockReplicationPolicy: Expecting 1 replicas with only 0 peer/s.\n",
      "24/05/05 09:24:31 WARN BlockManager: Block input-0-1714890271000 replicated to only 0 peer(s) instead of 1 peers\n",
      "24/05/05 09:24:33 WARN RandomBlockReplicationPolicy: Expecting 1 replicas with only 0 peer/s.\n",
      "24/05/05 09:24:33 WARN BlockManager: Block input-0-1714890273000 replicated to only 0 peer(s) instead of 1 peers\n",
      "24/05/05 09:24:38 WARN RandomBlockReplicationPolicy: Expecting 1 replicas with only 0 peer/s.\n",
      "24/05/05 09:24:38 WARN BlockManager: Block input-0-1714890278200 replicated to only 0 peer(s) instead of 1 peers\n",
      "24/05/05 09:24:40 WARN RandomBlockReplicationPolicy: Expecting 1 replicas with only 0 peer/s.\n",
      "24/05/05 09:24:40 WARN BlockManager: Block input-0-1714890280000 replicated to only 0 peer(s) instead of 1 peers\n",
      "24/05/05 09:24:42 WARN RandomBlockReplicationPolicy: Expecting 1 replicas with only 0 peer/s.\n",
      "24/05/05 09:24:42 WARN BlockManager: Block input-0-1714890282400 replicated to only 0 peer(s) instead of 1 peers\n",
      "24/05/05 09:24:44 WARN RandomBlockReplicationPolicy: Expecting 1 replicas with only 0 peer/s.\n",
      "24/05/05 09:24:44 WARN BlockManager: Block input-0-1714890284400 replicated to only 0 peer(s) instead of 1 peers\n",
      "24/05/05 09:24:48 WARN RandomBlockReplicationPolicy: Expecting 1 replicas with only 0 peer/s.\n",
      "24/05/05 09:24:48 WARN BlockManager: Block input-0-1714890288200 replicated to only 0 peer(s) instead of 1 peers\n",
      "24/05/05 09:24:50 WARN RandomBlockReplicationPolicy: Expecting 1 replicas with only 0 peer/s.\n",
      "24/05/05 09:24:50 WARN BlockManager: Block input-0-1714890290400 replicated to only 0 peer(s) instead of 1 peers\n",
      "24/05/05 09:24:51 WARN RandomBlockReplicationPolicy: Expecting 1 replicas with only 0 peer/s.\n",
      "24/05/05 09:24:51 WARN BlockManager: Block input-0-1714890291400 replicated to only 0 peer(s) instead of 1 peers\n",
      "24/05/05 09:24:54 WARN RandomBlockReplicationPolicy: Expecting 1 replicas with only 0 peer/s.\n",
      "24/05/05 09:24:54 WARN BlockManager: Block input-0-1714890294400 replicated to only 0 peer(s) instead of 1 peers\n",
      "24/05/05 09:24:56 WARN RandomBlockReplicationPolicy: Expecting 1 replicas with only 0 peer/s.\n",
      "24/05/05 09:24:56 WARN BlockManager: Block input-0-1714890296400 replicated to only 0 peer(s) instead of 1 peers\n",
      "24/05/05 09:24:58 WARN RandomBlockReplicationPolicy: Expecting 1 replicas with only 0 peer/s.\n",
      "24/05/05 09:24:58 WARN BlockManager: Block input-0-1714890298400 replicated to only 0 peer(s) instead of 1 peers\n",
      "24/05/05 09:25:02 WARN RandomBlockReplicationPolicy: Expecting 1 replicas with only 0 peer/s.\n",
      "24/05/05 09:25:02 WARN BlockManager: Block input-0-1714890302400 replicated to only 0 peer(s) instead of 1 peers\n",
      "24/05/05 09:25:05 WARN RandomBlockReplicationPolicy: Expecting 1 replicas with only 0 peer/s.\n",
      "24/05/05 09:25:05 WARN BlockManager: Block input-0-1714890305400 replicated to only 0 peer(s) instead of 1 peers\n",
      "24/05/05 09:25:06 WARN RandomBlockReplicationPolicy: Expecting 1 replicas with only 0 peer/s.\n",
      "24/05/05 09:25:06 WARN BlockManager: Block input-0-1714890306600 replicated to only 0 peer(s) instead of 1 peers\n",
      "24/05/05 09:25:08 WARN RandomBlockReplicationPolicy: Expecting 1 replicas with only 0 peer/s.\n",
      "24/05/05 09:25:08 WARN BlockManager: Block input-0-1714890308600 replicated to only 0 peer(s) instead of 1 peers\n",
      "24/05/05 09:26:13 WARN RandomBlockReplicationPolicy: Expecting 1 replicas with only 0 peer/s.\n",
      "24/05/05 09:26:13 WARN BlockManager: Block input-0-1714890373400 replicated to only 0 peer(s) instead of 1 peers\n",
      "24/05/05 09:26:18 WARN RandomBlockReplicationPolicy: Expecting 1 replicas with only 0 peer/s.\n",
      "24/05/05 09:26:18 WARN BlockManager: Block input-0-1714890378600 replicated to only 0 peer(s) instead of 1 peers\n",
      "24/05/05 09:26:19 WARN RandomBlockReplicationPolicy: Expecting 1 replicas with only 0 peer/s.\n",
      "24/05/05 09:26:19 WARN BlockManager: Block input-0-1714890379600 replicated to only 0 peer(s) instead of 1 peers\n",
      "24/05/05 09:26:24 WARN RandomBlockReplicationPolicy: Expecting 1 replicas with only 0 peer/s.\n",
      "24/05/05 09:26:24 WARN BlockManager: Block input-0-1714890384600 replicated to only 0 peer(s) instead of 1 peers\n",
      "24/05/05 09:26:30 WARN RandomBlockReplicationPolicy: Expecting 1 replicas with only 0 peer/s.\n",
      "24/05/05 09:26:30 WARN BlockManager: Block input-0-1714890390000 replicated to only 0 peer(s) instead of 1 peers\n",
      "24/05/05 09:26:32 WARN RandomBlockReplicationPolicy: Expecting 1 replicas with only 0 peer/s.\n",
      "24/05/05 09:26:32 WARN BlockManager: Block input-0-1714890391800 replicated to only 0 peer(s) instead of 1 peers\n",
      "24/05/05 09:26:34 WARN RandomBlockReplicationPolicy: Expecting 1 replicas with only 0 peer/s.\n",
      "24/05/05 09:26:34 WARN BlockManager: Block input-0-1714890393800 replicated to only 0 peer(s) instead of 1 peers\n",
      "24/05/05 09:26:37 WARN RandomBlockReplicationPolicy: Expecting 1 replicas with only 0 peer/s.\n",
      "24/05/05 09:26:37 WARN BlockManager: Block input-0-1714890396800 replicated to only 0 peer(s) instead of 1 peers\n",
      "24/05/05 09:26:40 WARN RandomBlockReplicationPolicy: Expecting 1 replicas with only 0 peer/s.\n",
      "24/05/05 09:26:40 WARN BlockManager: Block input-0-1714890399800 replicated to only 0 peer(s) instead of 1 peers\n",
      "24/05/05 09:26:45 WARN RandomBlockReplicationPolicy: Expecting 1 replicas with only 0 peer/s.\n",
      "24/05/05 09:26:45 WARN BlockManager: Block input-0-1714890404800 replicated to only 0 peer(s) instead of 1 peers\n",
      "24/05/05 09:26:47 WARN RandomBlockReplicationPolicy: Expecting 1 replicas with only 0 peer/s.\n",
      "24/05/05 09:26:47 WARN BlockManager: Block input-0-1714890407000 replicated to only 0 peer(s) instead of 1 peers\n",
      "24/05/05 09:26:52 WARN RandomBlockReplicationPolicy: Expecting 1 replicas with only 0 peer/s.\n",
      "24/05/05 09:26:52 WARN BlockManager: Block input-0-1714890411800 replicated to only 0 peer(s) instead of 1 peers\n",
      "24/05/05 09:26:56 WARN RandomBlockReplicationPolicy: Expecting 1 replicas with only 0 peer/s.\n",
      "24/05/05 09:26:56 WARN BlockManager: Block input-0-1714890415800 replicated to only 0 peer(s) instead of 1 peers\n",
      "24/05/05 09:27:00 WARN RandomBlockReplicationPolicy: Expecting 1 replicas with only 0 peer/s.\n",
      "24/05/05 09:27:00 WARN BlockManager: Block input-0-1714890419800 replicated to only 0 peer(s) instead of 1 peers\n",
      "24/05/05 09:27:03 WARN RandomBlockReplicationPolicy: Expecting 1 replicas with only 0 peer/s.\n",
      "24/05/05 09:27:03 WARN BlockManager: Block input-0-1714890423000 replicated to only 0 peer(s) instead of 1 peers\n",
      "24/05/05 09:27:06 WARN RandomBlockReplicationPolicy: Expecting 1 replicas with only 0 peer/s.\n",
      "24/05/05 09:27:06 WARN BlockManager: Block input-0-1714890426000 replicated to only 0 peer(s) instead of 1 peers\n",
      "24/05/05 09:27:10 WARN RandomBlockReplicationPolicy: Expecting 1 replicas with only 0 peer/s.\n",
      "24/05/05 09:27:10 WARN BlockManager: Block input-0-1714890430000 replicated to only 0 peer(s) instead of 1 peers\n",
      "24/05/05 09:27:15 WARN RandomBlockReplicationPolicy: Expecting 1 replicas with only 0 peer/s.\n",
      "24/05/05 09:27:15 WARN BlockManager: Block input-0-1714890434800 replicated to only 0 peer(s) instead of 1 peers\n",
      "24/05/05 09:27:16 WARN RandomBlockReplicationPolicy: Expecting 1 replicas with only 0 peer/s.\n",
      "24/05/05 09:27:16 WARN BlockManager: Block input-0-1714890436000 replicated to only 0 peer(s) instead of 1 peers\n",
      "24/05/05 09:27:18 WARN RandomBlockReplicationPolicy: Expecting 1 replicas with only 0 peer/s.\n",
      "24/05/05 09:27:18 WARN BlockManager: Block input-0-1714890438000 replicated to only 0 peer(s) instead of 1 peers\n",
      "24/05/05 09:27:19 WARN RandomBlockReplicationPolicy: Expecting 1 replicas with only 0 peer/s.\n",
      "24/05/05 09:27:19 WARN BlockManager: Block input-0-1714890439200 replicated to only 0 peer(s) instead of 1 peers\n",
      "24/05/05 09:27:21 WARN RandomBlockReplicationPolicy: Expecting 1 replicas with only 0 peer/s.\n",
      "24/05/05 09:27:21 WARN BlockManager: Block input-0-1714890441000 replicated to only 0 peer(s) instead of 1 peers\n",
      "24/05/05 09:27:24 WARN RandomBlockReplicationPolicy: Expecting 1 replicas with only 0 peer/s.\n",
      "24/05/05 09:27:24 WARN BlockManager: Block input-0-1714890444000 replicated to only 0 peer(s) instead of 1 peers\n",
      "24/05/05 09:27:27 WARN RandomBlockReplicationPolicy: Expecting 1 replicas with only 0 peer/s.\n",
      "24/05/05 09:27:27 WARN BlockManager: Block input-0-1714890447400 replicated to only 0 peer(s) instead of 1 peers\n",
      "24/05/05 09:27:28 WARN RandomBlockReplicationPolicy: Expecting 1 replicas with only 0 peer/s.\n",
      "24/05/05 09:27:28 WARN BlockManager: Block input-0-1714890448400 replicated to only 0 peer(s) instead of 1 peers\n",
      "24/05/05 09:27:33 WARN RandomBlockReplicationPolicy: Expecting 1 replicas with only 0 peer/s.\n",
      "24/05/05 09:27:33 WARN BlockManager: Block input-0-1714890453200 replicated to only 0 peer(s) instead of 1 peers\n",
      "24/05/05 09:27:35 WARN RandomBlockReplicationPolicy: Expecting 1 replicas with only 0 peer/s.\n",
      "24/05/05 09:27:35 WARN BlockManager: Block input-0-1714890455200 replicated to only 0 peer(s) instead of 1 peers\n",
      "24/05/05 09:27:36 WARN RandomBlockReplicationPolicy: Expecting 1 replicas with only 0 peer/s.\n",
      "24/05/05 09:27:36 WARN BlockManager: Block input-0-1714890456400 replicated to only 0 peer(s) instead of 1 peers\n",
      "24/05/05 09:27:41 WARN RandomBlockReplicationPolicy: Expecting 1 replicas with only 0 peer/s.\n",
      "24/05/05 09:27:41 WARN BlockManager: Block input-0-1714890461400 replicated to only 0 peer(s) instead of 1 peers\n",
      "24/05/05 09:27:46 WARN RandomBlockReplicationPolicy: Expecting 1 replicas with only 0 peer/s.\n",
      "24/05/05 09:27:46 WARN BlockManager: Block input-0-1714890466400 replicated to only 0 peer(s) instead of 1 peers\n",
      "24/05/05 09:27:51 WARN RandomBlockReplicationPolicy: Expecting 1 replicas with only 0 peer/s.\n",
      "24/05/05 09:27:51 WARN BlockManager: Block input-0-1714890471600 replicated to only 0 peer(s) instead of 1 peers\n",
      "24/05/05 09:27:56 WARN RandomBlockReplicationPolicy: Expecting 1 replicas with only 0 peer/s.\n",
      "24/05/05 09:27:56 WARN BlockManager: Block input-0-1714890475800 replicated to only 0 peer(s) instead of 1 peers\n",
      "24/05/05 09:28:00 WARN RandomBlockReplicationPolicy: Expecting 1 replicas with only 0 peer/s.\n",
      "24/05/05 09:28:00 WARN BlockManager: Block input-0-1714890480600 replicated to only 0 peer(s) instead of 1 peers\n",
      "24/05/05 09:28:05 WARN RandomBlockReplicationPolicy: Expecting 1 replicas with only 0 peer/s.\n",
      "24/05/05 09:28:05 WARN BlockManager: Block input-0-1714890484800 replicated to only 0 peer(s) instead of 1 peers\n",
      "24/05/05 09:28:07 WARN RandomBlockReplicationPolicy: Expecting 1 replicas with only 0 peer/s.\n",
      "24/05/05 09:28:07 WARN BlockManager: Block input-0-1714890487600 replicated to only 0 peer(s) instead of 1 peers\n",
      "24/05/05 09:28:09 WARN RandomBlockReplicationPolicy: Expecting 1 replicas with only 0 peer/s.\n",
      "24/05/05 09:28:09 WARN BlockManager: Block input-0-1714890488800 replicated to only 0 peer(s) instead of 1 peers\n",
      "24/05/05 09:28:10 WARN RandomBlockReplicationPolicy: Expecting 1 replicas with only 0 peer/s.\n",
      "24/05/05 09:28:10 WARN BlockManager: Block input-0-1714890489800 replicated to only 0 peer(s) instead of 1 peers\n",
      "24/05/05 09:28:14 WARN RandomBlockReplicationPolicy: Expecting 1 replicas with only 0 peer/s.\n",
      "24/05/05 09:28:14 WARN BlockManager: Block input-0-1714890493800 replicated to only 0 peer(s) instead of 1 peers\n",
      "24/05/05 09:28:15 WARN RandomBlockReplicationPolicy: Expecting 1 replicas with only 0 peer/s.\n",
      "24/05/05 09:28:15 WARN BlockManager: Block input-0-1714890494800 replicated to only 0 peer(s) instead of 1 peers\n",
      "24/05/05 09:28:16 WARN RandomBlockReplicationPolicy: Expecting 1 replicas with only 0 peer/s.\n",
      "24/05/05 09:28:16 WARN BlockManager: Block input-0-1714890495800 replicated to only 0 peer(s) instead of 1 peers\n",
      "24/05/05 09:28:18 WARN RandomBlockReplicationPolicy: Expecting 1 replicas with only 0 peer/s.\n",
      "24/05/05 09:28:18 WARN BlockManager: Block input-0-1714890498000 replicated to only 0 peer(s) instead of 1 peers\n",
      "24/05/05 09:28:20 WARN RandomBlockReplicationPolicy: Expecting 1 replicas with only 0 peer/s.\n",
      "24/05/05 09:28:20 WARN BlockManager: Block input-0-1714890500000 replicated to only 0 peer(s) instead of 1 peers\n",
      "24/05/05 09:28:24 WARN RandomBlockReplicationPolicy: Expecting 1 replicas with only 0 peer/s.\n",
      "24/05/05 09:28:24 WARN BlockManager: Block input-0-1714890504000 replicated to only 0 peer(s) instead of 1 peers\n",
      "24/05/05 09:28:26 WARN RandomBlockReplicationPolicy: Expecting 1 replicas with only 0 peer/s.\n",
      "24/05/05 09:28:26 WARN BlockManager: Block input-0-1714890506000 replicated to only 0 peer(s) instead of 1 peers\n",
      "24/05/05 09:28:30 WARN RandomBlockReplicationPolicy: Expecting 1 replicas with only 0 peer/s.\n",
      "24/05/05 09:28:30 WARN BlockManager: Block input-0-1714890510200 replicated to only 0 peer(s) instead of 1 peers\n",
      "24/05/05 09:28:33 WARN RandomBlockReplicationPolicy: Expecting 1 replicas with only 0 peer/s.\n",
      "24/05/05 09:28:33 WARN BlockManager: Block input-0-1714890513200 replicated to only 0 peer(s) instead of 1 peers\n",
      "24/05/05 09:28:35 WARN RandomBlockReplicationPolicy: Expecting 1 replicas with only 0 peer/s.\n",
      "24/05/05 09:28:35 WARN BlockManager: Block input-0-1714890515000 replicated to only 0 peer(s) instead of 1 peers\n",
      "24/05/05 09:28:39 WARN RandomBlockReplicationPolicy: Expecting 1 replicas with only 0 peer/s.\n",
      "24/05/05 09:28:39 WARN BlockManager: Block input-0-1714890519200 replicated to only 0 peer(s) instead of 1 peers\n",
      "24/05/05 09:28:41 WARN RandomBlockReplicationPolicy: Expecting 1 replicas with only 0 peer/s.\n",
      "24/05/05 09:28:41 WARN BlockManager: Block input-0-1714890521400 replicated to only 0 peer(s) instead of 1 peers\n",
      "24/05/05 09:28:44 WARN RandomBlockReplicationPolicy: Expecting 1 replicas with only 0 peer/s.\n",
      "24/05/05 09:28:44 WARN BlockManager: Block input-0-1714890524400 replicated to only 0 peer(s) instead of 1 peers\n",
      "24/05/05 09:29:49 WARN RandomBlockReplicationPolicy: Expecting 1 replicas with only 0 peer/s.\n",
      "24/05/05 09:29:49 WARN BlockManager: Block input-0-1714890589600 replicated to only 0 peer(s) instead of 1 peers\n",
      "24/05/05 09:29:53 WARN RandomBlockReplicationPolicy: Expecting 1 replicas with only 0 peer/s.\n",
      "24/05/05 09:29:53 WARN BlockManager: Block input-0-1714890592800 replicated to only 0 peer(s) instead of 1 peers\n",
      "24/05/05 09:29:53 WARN RandomBlockReplicationPolicy: Expecting 1 replicas with only 0 peer/s.\n",
      "24/05/05 09:29:53 WARN BlockManager: Block input-0-1714890593600 replicated to only 0 peer(s) instead of 1 peers\n",
      "24/05/05 09:29:57 WARN RandomBlockReplicationPolicy: Expecting 1 replicas with only 0 peer/s.\n",
      "24/05/05 09:29:57 WARN BlockManager: Block input-0-1714890597000 replicated to only 0 peer(s) instead of 1 peers\n",
      "24/05/05 09:29:59 WARN RandomBlockReplicationPolicy: Expecting 1 replicas with only 0 peer/s.\n",
      "24/05/05 09:29:59 WARN BlockManager: Block input-0-1714890599000 replicated to only 0 peer(s) instead of 1 peers\n",
      "24/05/05 09:30:03 WARN RandomBlockReplicationPolicy: Expecting 1 replicas with only 0 peer/s.\n",
      "24/05/05 09:30:03 WARN BlockManager: Block input-0-1714890603200 replicated to only 0 peer(s) instead of 1 peers\n",
      "24/05/05 09:30:05 WARN RandomBlockReplicationPolicy: Expecting 1 replicas with only 0 peer/s.\n",
      "24/05/05 09:30:05 WARN BlockManager: Block input-0-1714890605000 replicated to only 0 peer(s) instead of 1 peers\n",
      "24/05/05 09:30:10 WARN RandomBlockReplicationPolicy: Expecting 1 replicas with only 0 peer/s.\n",
      "24/05/05 09:30:10 WARN BlockManager: Block input-0-1714890610200 replicated to only 0 peer(s) instead of 1 peers\n",
      "24/05/05 09:30:11 WARN RandomBlockReplicationPolicy: Expecting 1 replicas with only 0 peer/s.\n",
      "24/05/05 09:30:11 WARN BlockManager: Block input-0-1714890611200 replicated to only 0 peer(s) instead of 1 peers\n",
      "24/05/05 09:30:14 WARN RandomBlockReplicationPolicy: Expecting 1 replicas with only 0 peer/s.\n",
      "24/05/05 09:30:14 WARN BlockManager: Block input-0-1714890614200 replicated to only 0 peer(s) instead of 1 peers\n",
      "24/05/05 09:30:18 WARN RandomBlockReplicationPolicy: Expecting 1 replicas with only 0 peer/s.\n",
      "24/05/05 09:30:18 WARN BlockManager: Block input-0-1714890618400 replicated to only 0 peer(s) instead of 1 peers\n",
      "24/05/05 09:30:22 WARN RandomBlockReplicationPolicy: Expecting 1 replicas with only 0 peer/s.\n",
      "24/05/05 09:30:22 WARN BlockManager: Block input-0-1714890622200 replicated to only 0 peer(s) instead of 1 peers\n",
      "24/05/05 09:30:27 WARN RandomBlockReplicationPolicy: Expecting 1 replicas with only 0 peer/s.\n",
      "24/05/05 09:30:27 WARN BlockManager: Block input-0-1714890627600 replicated to only 0 peer(s) instead of 1 peers\n",
      "24/05/05 09:31:31 WARN RandomBlockReplicationPolicy: Expecting 1 replicas with only 0 peer/s.\n",
      "24/05/05 09:31:31 WARN BlockManager: Block input-0-1714890691400 replicated to only 0 peer(s) instead of 1 peers\n",
      "24/05/05 09:32:32 WARN RandomBlockReplicationPolicy: Expecting 1 replicas with only 0 peer/s.\n",
      "24/05/05 09:32:32 WARN BlockManager: Block input-0-1714890752600 replicated to only 0 peer(s) instead of 1 peers\n",
      "24/05/05 09:33:37 WARN RandomBlockReplicationPolicy: Expecting 1 replicas with only 0 peer/s.\n",
      "24/05/05 09:33:37 WARN BlockManager: Block input-0-1714890817600 replicated to only 0 peer(s) instead of 1 peers\n",
      "24/05/05 09:34:40 WARN RandomBlockReplicationPolicy: Expecting 1 replicas with only 0 peer/s.\n",
      "24/05/05 09:34:40 WARN BlockManager: Block input-0-1714890880600 replicated to only 0 peer(s) instead of 1 peers\n",
      "24/05/05 09:34:42 WARN RandomBlockReplicationPolicy: Expecting 1 replicas with only 0 peer/s.\n",
      "24/05/05 09:34:42 WARN BlockManager: Block input-0-1714890882600 replicated to only 0 peer(s) instead of 1 peers\n",
      "24/05/05 09:37:47 WARN RandomBlockReplicationPolicy: Expecting 1 replicas with only 0 peer/s.\n",
      "24/05/05 09:37:47 WARN BlockManager: Block input-0-1714891067000 replicated to only 0 peer(s) instead of 1 peers\n",
      "24/05/05 09:42:50 WARN RandomBlockReplicationPolicy: Expecting 1 replicas with only 0 peer/s.\n",
      "24/05/05 09:42:50 WARN BlockManager: Block input-0-1714891370600 replicated to only 0 peer(s) instead of 1 peers\n",
      "24/05/05 09:46:53 WARN RandomBlockReplicationPolicy: Expecting 1 replicas with only 0 peer/s.\n",
      "24/05/05 09:46:53 WARN BlockManager: Block input-0-1714891612800 replicated to only 0 peer(s) instead of 1 peers\n",
      "24/05/05 09:48:55 WARN RandomBlockReplicationPolicy: Expecting 1 replicas with only 0 peer/s.\n",
      "24/05/05 09:48:55 WARN BlockManager: Block input-0-1714891734800 replicated to only 0 peer(s) instead of 1 peers\n",
      "24/05/05 09:48:56 WARN RandomBlockReplicationPolicy: Expecting 1 replicas with only 0 peer/s.\n",
      "24/05/05 09:48:56 WARN BlockManager: Block input-0-1714891735800 replicated to only 0 peer(s) instead of 1 peers\n",
      "24/05/05 09:54:59 WARN RandomBlockReplicationPolicy: Expecting 1 replicas with only 0 peer/s.\n",
      "24/05/05 09:54:59 WARN BlockManager: Block input-0-1714892099200 replicated to only 0 peer(s) instead of 1 peers\n",
      "24/05/05 09:57:00 WARN RandomBlockReplicationPolicy: Expecting 1 replicas with only 0 peer/s.\n",
      "24/05/05 09:57:00 WARN BlockManager: Block input-0-1714892220600 replicated to only 0 peer(s) instead of 1 peers\n",
      "24/05/05 10:01:05 WARN RandomBlockReplicationPolicy: Expecting 1 replicas with only 0 peer/s.\n",
      "24/05/05 10:01:05 WARN BlockManager: Block input-0-1714892464800 replicated to only 0 peer(s) instead of 1 peers\n",
      "24/05/05 10:02:06 WARN RandomBlockReplicationPolicy: Expecting 1 replicas with only 0 peer/s.\n",
      "24/05/05 10:02:06 WARN BlockManager: Block input-0-1714892526000 replicated to only 0 peer(s) instead of 1 peers\n",
      "24/05/05 10:07:08 WARN RandomBlockReplicationPolicy: Expecting 1 replicas with only 0 peer/s.\n",
      "24/05/05 10:07:08 WARN BlockManager: Block input-0-1714892828200 replicated to only 0 peer(s) instead of 1 peers\n",
      "24/05/05 10:08:11 WARN RandomBlockReplicationPolicy: Expecting 1 replicas with only 0 peer/s.\n",
      "24/05/05 10:08:11 WARN BlockManager: Block input-0-1714892891200 replicated to only 0 peer(s) instead of 1 peers\n",
      "24/05/05 10:11:12 WARN RandomBlockReplicationPolicy: Expecting 1 replicas with only 0 peer/s.\n",
      "24/05/05 10:11:12 WARN BlockManager: Block input-0-1714893072400 replicated to only 0 peer(s) instead of 1 peers\n",
      "24/05/05 10:15:14 WARN RandomBlockReplicationPolicy: Expecting 1 replicas with only 0 peer/s.\n",
      "24/05/05 10:15:14 WARN BlockManager: Block input-0-1714893313800 replicated to only 0 peer(s) instead of 1 peers\n",
      "24/05/05 10:16:17 WARN RandomBlockReplicationPolicy: Expecting 1 replicas with only 0 peer/s.\n",
      "24/05/05 10:16:17 WARN BlockManager: Block input-0-1714893377000 replicated to only 0 peer(s) instead of 1 peers\n",
      "[Stage 0:>                                                          (0 + 1) / 1]\r"
     ]
    }
   ],
   "source": [
    "ssc_t = StreamingThread(ssc)\n",
    "ssc_t.start()"
   ]
  },
  {
   "cell_type": "code",
   "execution_count": 8,
   "metadata": {
    "scrolled": true
   },
   "outputs": [
    {
     "name": "stdout",
     "output_type": "stream",
     "text": [
      "----- Stopping... this may take a few seconds -----\n"
     ]
    },
    {
     "name": "stderr",
     "output_type": "stream",
     "text": [
      "24/05/05 10:26:46 WARN SocketReceiver: Error receiving data\n",
      "java.net.SocketException: Socket closed\n",
      "\tat java.base/java.net.SocketInputStream.socketRead0(Native Method)\n",
      "\tat java.base/java.net.SocketInputStream.socketRead(SocketInputStream.java:115)\n",
      "\tat java.base/java.net.SocketInputStream.read(SocketInputStream.java:168)\n",
      "\tat java.base/java.net.SocketInputStream.read(SocketInputStream.java:140)\n",
      "\tat java.base/sun.nio.cs.StreamDecoder.readBytes(StreamDecoder.java:284)\n",
      "\tat java.base/sun.nio.cs.StreamDecoder.implRead(StreamDecoder.java:326)\n",
      "\tat java.base/sun.nio.cs.StreamDecoder.read(StreamDecoder.java:178)\n",
      "\tat java.base/java.io.InputStreamReader.read(InputStreamReader.java:181)\n",
      "\tat java.base/java.io.BufferedReader.fill(BufferedReader.java:161)\n",
      "\tat java.base/java.io.BufferedReader.readLine(BufferedReader.java:326)\n",
      "\tat java.base/java.io.BufferedReader.readLine(BufferedReader.java:392)\n",
      "\tat org.apache.spark.streaming.dstream.SocketReceiver$$anon$2.getNext(SocketInputDStream.scala:121)\n",
      "\tat org.apache.spark.streaming.dstream.SocketReceiver$$anon$2.getNext(SocketInputDStream.scala:119)\n",
      "\tat org.apache.spark.util.NextIterator.hasNext(NextIterator.scala:73)\n",
      "\tat org.apache.spark.streaming.dstream.SocketReceiver.receive(SocketInputDStream.scala:91)\n",
      "\tat org.apache.spark.streaming.dstream.SocketReceiver$$anon$1.run(SocketInputDStream.scala:72)\n",
      "24/05/05 10:26:46 ERROR ReceiverTracker: Deregistered receiver for stream 0: Stopped by driver\n",
      "24/05/05 10:26:46 WARN ReceiverSupervisorImpl: Restarting receiver with delay 2000 ms: Error receiving data\n",
      "java.net.SocketException: Socket closed\n",
      "\tat java.base/java.net.SocketInputStream.socketRead0(Native Method)\n",
      "\tat java.base/java.net.SocketInputStream.socketRead(SocketInputStream.java:115)\n",
      "\tat java.base/java.net.SocketInputStream.read(SocketInputStream.java:168)\n",
      "\tat java.base/java.net.SocketInputStream.read(SocketInputStream.java:140)\n",
      "\tat java.base/sun.nio.cs.StreamDecoder.readBytes(StreamDecoder.java:284)\n",
      "\tat java.base/sun.nio.cs.StreamDecoder.implRead(StreamDecoder.java:326)\n",
      "\tat java.base/sun.nio.cs.StreamDecoder.read(StreamDecoder.java:178)\n",
      "\tat java.base/java.io.InputStreamReader.read(InputStreamReader.java:181)\n",
      "\tat java.base/java.io.BufferedReader.fill(BufferedReader.java:161)\n",
      "\tat java.base/java.io.BufferedReader.readLine(BufferedReader.java:326)\n",
      "\tat java.base/java.io.BufferedReader.readLine(BufferedReader.java:392)\n",
      "\tat org.apache.spark.streaming.dstream.SocketReceiver$$anon$2.getNext(SocketInputDStream.scala:121)\n",
      "\tat org.apache.spark.streaming.dstream.SocketReceiver$$anon$2.getNext(SocketInputDStream.scala:119)\n",
      "\tat org.apache.spark.util.NextIterator.hasNext(NextIterator.scala:73)\n",
      "\tat org.apache.spark.streaming.dstream.SocketReceiver.receive(SocketInputDStream.scala:91)\n",
      "\tat org.apache.spark.streaming.dstream.SocketReceiver$$anon$1.run(SocketInputDStream.scala:72)\n",
      "24/05/05 10:26:46 WARN ReceiverSupervisorImpl: Receiver has been stopped\n",
      "Exception in thread \"receiver-supervisor-future-0\" java.lang.InterruptedException: sleep interrupted\n",
      "\tat java.base/java.lang.Thread.sleep(Native Method)\n",
      "\tat org.apache.spark.streaming.receiver.ReceiverSupervisor.$anonfun$restartReceiver$1(ReceiverSupervisor.scala:196)\n",
      "\tat scala.runtime.java8.JFunction0$mcV$sp.apply(JFunction0$mcV$sp.java:23)\n",
      "\tat scala.concurrent.Future$.$anonfun$apply$1(Future.scala:659)\n",
      "\tat scala.util.Success.$anonfun$map$1(Try.scala:255)\n",
      "\tat scala.util.Success.map(Try.scala:213)\n",
      "\tat scala.concurrent.Future.$anonfun$map$1(Future.scala:292)\n",
      "\tat scala.concurrent.impl.Promise.liftedTree1$1(Promise.scala:33)\n",
      "\tat scala.concurrent.impl.Promise.$anonfun$transform$1(Promise.scala:33)\n",
      "\tat scala.concurrent.impl.CallbackRunnable.run(Promise.scala:64)\n",
      "\tat java.base/java.util.concurrent.ThreadPoolExecutor.runWorker(ThreadPoolExecutor.java:1128)\n",
      "\tat java.base/java.util.concurrent.ThreadPoolExecutor$Worker.run(ThreadPoolExecutor.java:628)\n",
      "\tat java.base/java.lang.Thread.run(Thread.java:829)\n",
      "                                                                                \r"
     ]
    }
   ],
   "source": [
    "# Don't run this cell unless you want to stop. You should see subdirectories appear in the out_dir\n",
    "ssc_t.stop()"
   ]
  },
  {
   "cell_type": "code",
   "execution_count": 156,
   "metadata": {},
   "outputs": [],
   "source": [
    "#base_dir = \"/Users/stantschal/Desktop/spark/notebooks/saved_stories\""
   ]
  },
  {
   "cell_type": "code",
   "execution_count": 157,
   "metadata": {},
   "outputs": [],
   "source": [
    "#def find_json_files(base_dir):\n",
    "#    json_files = []\n",
    "#    for root, dirs, files in os.walk(base_dir):\n",
    "#        for file in files:\n",
    "#            if file.startswith(\"part\"):\n",
    "#                json_files.append(os.path.join(root, file))\n",
    "#    return json_files"
   ]
  },
  {
   "cell_type": "code",
   "execution_count": 158,
   "metadata": {},
   "outputs": [],
   "source": [
    "#json_files = find_json_files(base_dir)"
   ]
  },
  {
   "cell_type": "code",
   "execution_count": null,
   "metadata": {},
   "outputs": [],
   "source": [
    "#df.to_json(\"/Users/stantschal/Desktop/spark/notebooks/all_files.json\", orient=\"records\")"
   ]
  },
  {
   "cell_type": "code",
   "execution_count": 166,
   "metadata": {},
   "outputs": [
    {
     "name": "stderr",
     "output_type": "stream",
     "text": [
      "                                                                                \r"
     ]
    }
   ],
   "source": [
    "df = spark.read.json(\"/Users/stantschal/Desktop/spark/notebooks/all_files.json\")"
   ]
  },
  {
   "cell_type": "code",
   "execution_count": 167,
   "metadata": {},
   "outputs": [
    {
     "data": {
      "text/plain": [
       "3452"
      ]
     },
     "execution_count": 167,
     "metadata": {},
     "output_type": "execute_result"
    }
   ],
   "source": [
    "df.count()"
   ]
  },
  {
   "cell_type": "code",
   "execution_count": 6,
   "metadata": {},
   "outputs": [],
   "source": [
    "from pyspark.sql.functions import col, count\n",
    "grouped_df = df.groupBy(\"aid\").agg(count(\"aid\").alias(\"count\"))\n",
    "duplicates_df = grouped_df.filter(col(\"count\") > 1)"
   ]
  },
  {
   "cell_type": "code",
   "execution_count": 7,
   "metadata": {},
   "outputs": [
    {
     "name": "stderr",
     "output_type": "stream",
     "text": [
      "                                                                                \r"
     ]
    },
    {
     "data": {
      "text/plain": [
       "380"
      ]
     },
     "execution_count": 7,
     "metadata": {},
     "output_type": "execute_result"
    }
   ],
   "source": [
    "duplicates_df.count()"
   ]
  },
  {
   "cell_type": "code",
   "execution_count": 8,
   "metadata": {},
   "outputs": [],
   "source": [
    "df = df.dropDuplicates([\"aid\"])"
   ]
  },
  {
   "cell_type": "code",
   "execution_count": 9,
   "metadata": {},
   "outputs": [
    {
     "name": "stderr",
     "output_type": "stream",
     "text": [
      "                                                                                \r"
     ]
    },
    {
     "data": {
      "text/plain": [
       "3072"
      ]
     },
     "execution_count": 9,
     "metadata": {},
     "output_type": "execute_result"
    }
   ],
   "source": [
    "df.count()"
   ]
  },
  {
   "cell_type": "code",
   "execution_count": 10,
   "metadata": {},
   "outputs": [
    {
     "name": "stdout",
     "output_type": "stream",
     "text": [
      "root\n",
      " |-- aid: string (nullable = true)\n",
      " |-- comments: long (nullable = true)\n",
      " |-- domain: string (nullable = true)\n",
      " |-- frontpage: boolean (nullable = true)\n",
      " |-- posted_at: string (nullable = true)\n",
      " |-- source_text: string (nullable = true)\n",
      " |-- source_title: string (nullable = true)\n",
      " |-- title: string (nullable = true)\n",
      " |-- url: string (nullable = true)\n",
      " |-- user: string (nullable = true)\n",
      " |-- votes: long (nullable = true)\n",
      "\n"
     ]
    }
   ],
   "source": [
    "df.printSchema()"
   ]
  },
  {
   "cell_type": "code",
   "execution_count": 11,
   "metadata": {},
   "outputs": [
    {
     "name": "stderr",
     "output_type": "stream",
     "text": [
      "                                                                                \r"
     ]
    }
   ],
   "source": [
    "df = df.toPandas()"
   ]
  },
  {
   "cell_type": "code",
   "execution_count": 12,
   "metadata": {},
   "outputs": [
    {
     "data": {
      "image/png": "[encoded data removed]",
      "text/plain": [
       "<Figure size 2500x1000 with 2 Axes>"
      ]
     },
     "metadata": {},
     "output_type": "display_data"
    }
   ],
   "source": [
    "import missingno as msno\n",
    "import matplotlib.pyplot as plt\n",
    "\n",
    "msno.matrix(df)\n",
    "plt.show()"
   ]
  },
  {
   "cell_type": "code",
   "execution_count": 13,
   "metadata": {},
   "outputs": [],
   "source": [
    "#drop entire rows with na values\n",
    "df = df.dropna()"
   ]
  },
  {
   "cell_type": "code",
   "execution_count": 14,
   "metadata": {},
   "outputs": [
    {
     "data": {
      "image/png": "[encoded data removed]",
      "text/plain": [
       "<Figure size 2500x1000 with 2 Axes>"
      ]
     },
     "metadata": {},
     "output_type": "display_data"
    }
   ],
   "source": [
    "msno.matrix(df)\n",
    "plt.show()"
   ]
  },
  {
   "cell_type": "code",
   "execution_count": 15,
   "metadata": {},
   "outputs": [
    {
     "data": {
      "text/plain": [
       "aid             2998\n",
       "comments        2998\n",
       "domain          2998\n",
       "frontpage       2998\n",
       "posted_at       2998\n",
       "source_text     2998\n",
       "source_title    2998\n",
       "title           2998\n",
       "url             2998\n",
       "user            2998\n",
       "votes           2998\n",
       "dtype: int64"
      ]
     },
     "execution_count": 15,
     "metadata": {},
     "output_type": "execute_result"
    }
   ],
   "source": [
    "df.count()"
   ]
  },
  {
   "cell_type": "code",
   "execution_count": 16,
   "metadata": {},
   "outputs": [],
   "source": [
    "#find entries with 403 Forbidden and remove them from the dataset\n",
    "mask = df['source_text'].str.contains(\"403 Forbidden\", case=False) | df['source_title'].str.contains(\"403 Forbidden\", case=False)"
   ]
  },
  {
   "cell_type": "code",
   "execution_count": 17,
   "metadata": {},
   "outputs": [],
   "source": [
    "rows_to_remove = df[mask]"
   ]
  },
  {
   "cell_type": "code",
   "execution_count": 18,
   "metadata": {},
   "outputs": [
    {
     "data": {
      "text/plain": [
       "(10, 11)"
      ]
     },
     "execution_count": 18,
     "metadata": {},
     "output_type": "execute_result"
    }
   ],
   "source": [
    "rows_to_remove.shape"
   ]
  },
  {
   "cell_type": "code",
   "execution_count": 19,
   "metadata": {},
   "outputs": [
    {
     "data": {
      "text/html": [
       "<div>\n",
       "<style scoped>\n",
       "    .dataframe tbody tr th:only-of-type {\n",
       "        vertical-align: middle;\n",
       "    }\n",
       "\n",
       "    .dataframe tbody tr th {\n",
       "        vertical-align: top;\n",
       "    }\n",
       "\n",
       "    .dataframe thead th {\n",
       "        text-align: right;\n",
       "    }\n",
       "</style>\n",
       "<table border=\"1\" class=\"dataframe\">\n",
       "  <thead>\n",
       "    <tr style=\"text-align: right;\">\n",
       "      <th></th>\n",
       "      <th>aid</th>\n",
       "      <th>comments</th>\n",
       "      <th>domain</th>\n",
       "      <th>frontpage</th>\n",
       "      <th>posted_at</th>\n",
       "      <th>source_text</th>\n",
       "      <th>source_title</th>\n",
       "      <th>title</th>\n",
       "      <th>url</th>\n",
       "      <th>user</th>\n",
       "      <th>votes</th>\n",
       "    </tr>\n",
       "  </thead>\n",
       "  <tbody>\n",
       "    <tr>\n",
       "      <th>12</th>\n",
       "      <td>39988522</td>\n",
       "      <td>0</td>\n",
       "      <td>sardinasystems.com</td>\n",
       "      <td>False</td>\n",
       "      <td>2024-04-10 09:01:30</td>\n",
       "      <td>403 Forbidden\\n\\n# 403 Forbidden\\n\\nnginx\\n\\n</td>\n",
       "      <td>403 Forbidden</td>\n",
       "      <td>Join the Webinar on Winning Cloud Migration Ta...</td>\n",
       "      <td>https://www.sardinasystems.com/migrate-from-vm...</td>\n",
       "      <td>SardinaSystems</td>\n",
       "      <td>1</td>\n",
       "    </tr>\n",
       "    <tr>\n",
       "      <th>138</th>\n",
       "      <td>40010332</td>\n",
       "      <td>6</td>\n",
       "      <td>poast.org</td>\n",
       "      <td>True</td>\n",
       "      <td>2024-04-12 07:53:42</td>\n",
       "      <td>403 Forbidden\\n\\n# 403 Forbidden\\n\\nnginx\\n\\n</td>\n",
       "      <td>403 Forbidden</td>\n",
       "      <td>Explaining Llm.c in Layman Terms</td>\n",
       "      <td>https://nitter.poast.org/karpathy/status/17781...</td>\n",
       "      <td>publius_0xf3</td>\n",
       "      <td>25</td>\n",
       "    </tr>\n",
       "    <tr>\n",
       "      <th>389</th>\n",
       "      <td>40071789</td>\n",
       "      <td>0</td>\n",
       "      <td>artificial-gravity.com</td>\n",
       "      <td>False</td>\n",
       "      <td>2024-04-18 00:46:17</td>\n",
       "      <td>403 Forbidden\\n\\n403 Forbidden\\n\\nPlease forwa...</td>\n",
       "      <td>403 Forbidden</td>\n",
       "      <td>SpinCalc: An artificial-gravity calculator in ...</td>\n",
       "      <td>https://www.artificial-gravity.com/sw/SpinCalc/</td>\n",
       "      <td>delichon</td>\n",
       "      <td>1</td>\n",
       "    </tr>\n",
       "    <tr>\n",
       "      <th>442</th>\n",
       "      <td>40073202</td>\n",
       "      <td>0</td>\n",
       "      <td>jacobfilipp.com</td>\n",
       "      <td>False</td>\n",
       "      <td>2024-04-18 05:16:53</td>\n",
       "      <td>403 Forbidden\\n\\n# 403\\n\\n## Forbidden\\n\\nAcce...</td>\n",
       "      <td>403 Forbidden</td>\n",
       "      <td>A place I've never been to. A place I'll never go</td>\n",
       "      <td>https://jacobfilipp.com/place/</td>\n",
       "      <td>jfil</td>\n",
       "      <td>1</td>\n",
       "    </tr>\n",
       "    <tr>\n",
       "      <th>448</th>\n",
       "      <td>40073394</td>\n",
       "      <td>2</td>\n",
       "      <td>dedoimedo.com</td>\n",
       "      <td>False</td>\n",
       "      <td>2024-04-18 06:02:51</td>\n",
       "      <td>403 Forbidden\\n\\n# Forbidden\\n\\nYou don't have...</td>\n",
       "      <td>403 Forbidden</td>\n",
       "      <td>Wayland, where are we in 2024? Any good for be...</td>\n",
       "      <td>https://www.dedoimedo.com/computers/wayland-20...</td>\n",
       "      <td>jandeboevrie</td>\n",
       "      <td>2</td>\n",
       "    </tr>\n",
       "  </tbody>\n",
       "</table>\n",
       "</div>"
      ],
      "text/plain": [
       "          aid  comments                  domain  frontpage  \\\n",
       "12   39988522         0      sardinasystems.com      False   \n",
       "138  40010332         6               poast.org       True   \n",
       "389  40071789         0  artificial-gravity.com      False   \n",
       "442  40073202         0         jacobfilipp.com      False   \n",
       "448  40073394         2           dedoimedo.com      False   \n",
       "\n",
       "               posted_at                                        source_text  \\\n",
       "12   2024-04-10 09:01:30      403 Forbidden\\n\\n# 403 Forbidden\\n\\nnginx\\n\\n   \n",
       "138  2024-04-12 07:53:42      403 Forbidden\\n\\n# 403 Forbidden\\n\\nnginx\\n\\n   \n",
       "389  2024-04-18 00:46:17  403 Forbidden\\n\\n403 Forbidden\\n\\nPlease forwa...   \n",
       "442  2024-04-18 05:16:53  403 Forbidden\\n\\n# 403\\n\\n## Forbidden\\n\\nAcce...   \n",
       "448  2024-04-18 06:02:51  403 Forbidden\\n\\n# Forbidden\\n\\nYou don't have...   \n",
       "\n",
       "      source_title                                              title  \\\n",
       "12   403 Forbidden  Join the Webinar on Winning Cloud Migration Ta...   \n",
       "138  403 Forbidden                   Explaining Llm.c in Layman Terms   \n",
       "389  403 Forbidden  SpinCalc: An artificial-gravity calculator in ...   \n",
       "442  403 Forbidden  A place I've never been to. A place I'll never go   \n",
       "448  403 Forbidden  Wayland, where are we in 2024? Any good for be...   \n",
       "\n",
       "                                                   url            user  votes  \n",
       "12   https://www.sardinasystems.com/migrate-from-vm...  SardinaSystems      1  \n",
       "138  https://nitter.poast.org/karpathy/status/17781...    publius_0xf3     25  \n",
       "389    https://www.artificial-gravity.com/sw/SpinCalc/        delichon      1  \n",
       "442                     https://jacobfilipp.com/place/            jfil      1  \n",
       "448  https://www.dedoimedo.com/computers/wayland-20...    jandeboevrie      2  "
      ]
     },
     "execution_count": 19,
     "metadata": {},
     "output_type": "execute_result"
    }
   ],
   "source": [
    "rows_to_remove.head()"
   ]
  },
  {
   "cell_type": "code",
   "execution_count": 20,
   "metadata": {},
   "outputs": [],
   "source": [
    "#remove 403 error rows\n",
    "df = df[~mask]"
   ]
  },
  {
   "cell_type": "code",
   "execution_count": 21,
   "metadata": {},
   "outputs": [
    {
     "data": {
      "text/plain": [
       "aid             2988\n",
       "comments        2988\n",
       "domain          2988\n",
       "frontpage       2988\n",
       "posted_at       2988\n",
       "source_text     2988\n",
       "source_title    2988\n",
       "title           2988\n",
       "url             2988\n",
       "user            2988\n",
       "votes           2988\n",
       "dtype: int64"
      ]
     },
     "execution_count": 21,
     "metadata": {},
     "output_type": "execute_result"
    }
   ],
   "source": [
    "df.count()"
   ]
  },
  {
   "cell_type": "code",
   "execution_count": 22,
   "metadata": {},
   "outputs": [],
   "source": [
    "#detect if the the language of the title is not in english and collect only those ones that are\n",
    "from langdetect import detect, LangDetectException\n",
    "\n",
    "def is_english(text):\n",
    "    try:\n",
    "        return detect(text) == 'en'\n",
    "    except LangDetectException:\n",
    "        return False\n",
    "\n",
    "df['is_english'] = df['title'].apply(is_english)\n",
    "\n",
    "df = df[df['is_english']]\n",
    "\n",
    "df = df.drop(columns=['is_english'])"
   ]
  },
  {
   "cell_type": "code",
   "execution_count": 23,
   "metadata": {},
   "outputs": [
    {
     "data": {
      "text/plain": [
       "(2728, 11)"
      ]
     },
     "execution_count": 23,
     "metadata": {},
     "output_type": "execute_result"
    }
   ],
   "source": [
    "df.shape"
   ]
  },
  {
   "cell_type": "code",
   "execution_count": 24,
   "metadata": {},
   "outputs": [
    {
     "name": "stderr",
     "output_type": "stream",
     "text": [
      "[nltk_data] Downloading package punkt to\n",
      "[nltk_data]     /Users/stantschal/nltk_data...\n",
      "[nltk_data]   Package punkt is already up-to-date!\n",
      "[nltk_data] Downloading package stopwords to\n",
      "[nltk_data]     /Users/stantschal/nltk_data...\n",
      "[nltk_data]   Package stopwords is already up-to-date!\n",
      "[nltk_data] Downloading package wordnet to\n",
      "[nltk_data]     /Users/stantschal/nltk_data...\n",
      "[nltk_data]   Package wordnet is already up-to-date!\n",
      "[nltk_data] Downloading package omw-1.4 to\n",
      "[nltk_data]     /Users/stantschal/nltk_data...\n",
      "[nltk_data]   Package omw-1.4 is already up-to-date!\n"
     ]
    }
   ],
   "source": [
    "#lemmatize the source text and title into separate columns. Values stored as a lists.\n",
    "import pandas as pd\n",
    "import re\n",
    "import nltk\n",
    "from nltk.corpus import stopwords\n",
    "from nltk.tokenize import word_tokenize\n",
    "from nltk.stem import WordNetLemmatizer\n",
    "\n",
    "nltk.download('punkt')\n",
    "nltk.download('stopwords')\n",
    "nltk.download('wordnet')\n",
    "nltk.download('omw-1.4')\n",
    "\n",
    "lemmatizer = WordNetLemmatizer()\n",
    "stop_words = set(stopwords.words(\"english\"))\n",
    "\n",
    "def clean_text(text):\n",
    "    text = re.sub(r'<.*?>', '', text)\n",
    "    \n",
    "    text = re.sub(r'\\\\n', ' ', text)\n",
    "    \n",
    "    text = re.sub(r'[^\\w\\s]', '', text)\n",
    "    \n",
    "    tokens = word_tokenize(text.lower())\n",
    "    \n",
    "    filtered_tokens = [t for t in tokens if t not in stop_words]\n",
    "    \n",
    "    lemmatized_tokens = [lemmatizer.lemmatize(t) for t in filtered_tokens]\n",
    "    \n",
    "    return lemmatized_tokens\n",
    "\n",
    "df['clean_source_text'] = df['source_text'].apply(clean_text)\n",
    "\n",
    "df['clean_source_title'] = df['title'].apply(clean_text)"
   ]
  },
  {
   "cell_type": "code",
   "execution_count": 25,
   "metadata": {},
   "outputs": [],
   "source": [
    "#count the number of words from clean_source_text\n",
    "def count_words(word_list):\n",
    "    return len(word_list)\n",
    "    \n",
    "df['word_count'] = df['clean_source_text'].apply(count_words)"
   ]
  },
  {
   "cell_type": "code",
   "execution_count": 26,
   "metadata": {},
   "outputs": [],
   "source": [
    "#collect only the domain name\n",
    "from urllib.parse import urlparse\n",
    "\n",
    "def extract_domain(url):\n",
    "    if not url.startswith((\"http://\", \"https://\")):\n",
    "        url = \"http://\" + url\n",
    "    parsed_url = urlparse(url)\n",
    "    if not parsed_url.netloc:\n",
    "        return \"Invalid URL\"\n",
    "    domain_parts = parsed_url.netloc.split('.')\n",
    "    main_domain = domain_parts[-2] if len(domain_parts) > 1 else domain_parts[0]\n",
    "    \n",
    "    return main_domain\n",
    "\n",
    "df['domain_name'] = df['domain'].apply(extract_domain)"
   ]
  },
  {
   "cell_type": "code",
   "execution_count": 27,
   "metadata": {},
   "outputs": [
    {
     "data": {
      "text/html": [
       "<div>\n",
       "<style scoped>\n",
       "    .dataframe tbody tr th:only-of-type {\n",
       "        vertical-align: middle;\n",
       "    }\n",
       "\n",
       "    .dataframe tbody tr th {\n",
       "        vertical-align: top;\n",
       "    }\n",
       "\n",
       "    .dataframe thead th {\n",
       "        text-align: right;\n",
       "    }\n",
       "</style>\n",
       "<table border=\"1\" class=\"dataframe\">\n",
       "  <thead>\n",
       "    <tr style=\"text-align: right;\">\n",
       "      <th></th>\n",
       "      <th>aid</th>\n",
       "      <th>comments</th>\n",
       "      <th>domain</th>\n",
       "      <th>frontpage</th>\n",
       "      <th>posted_at</th>\n",
       "      <th>source_text</th>\n",
       "      <th>source_title</th>\n",
       "      <th>title</th>\n",
       "      <th>url</th>\n",
       "      <th>user</th>\n",
       "      <th>votes</th>\n",
       "      <th>clean_source_text</th>\n",
       "      <th>clean_source_title</th>\n",
       "      <th>word_count</th>\n",
       "      <th>domain_name</th>\n",
       "    </tr>\n",
       "  </thead>\n",
       "  <tbody>\n",
       "    <tr>\n",
       "      <th>1</th>\n",
       "      <td>39988400</td>\n",
       "      <td>0</td>\n",
       "      <td>acm.org</td>\n",
       "      <td>False</td>\n",
       "      <td>2024-04-10 08:44:24</td>\n",
       "      <td>Wigderson Named Turing Awardee for Decisive Wo...</td>\n",
       "      <td>Wigderson Named Turing Awardee for Decisive Wo...</td>\n",
       "      <td>Wigderson receives Turing Award for contributi...</td>\n",
       "      <td>https://cacm.acm.org/news/wigderson-named-turi...</td>\n",
       "      <td>chmaynard</td>\n",
       "      <td>1</td>\n",
       "      <td>[wigderson, named, turing, awardee, decisive, ...</td>\n",
       "      <td>[wigderson, receives, turing, award, contribut...</td>\n",
       "      <td>415</td>\n",
       "      <td>acm</td>\n",
       "    </tr>\n",
       "    <tr>\n",
       "      <th>2</th>\n",
       "      <td>39988404</td>\n",
       "      <td>0</td>\n",
       "      <td>medium.com/pythoneers</td>\n",
       "      <td>False</td>\n",
       "      <td>2024-04-10 08:45:02</td>\n",
       "      <td>Just a moment...\\n\\n# medium.com\\n\\n## Verifyi...</td>\n",
       "      <td>Just a moment...</td>\n",
       "      <td>The Definitive Guide to LLM Writing Styles</td>\n",
       "      <td>https://medium.com/pythoneers/the-definitive-g...</td>\n",
       "      <td>viktorbezdek</td>\n",
       "      <td>1</td>\n",
       "      <td>[moment, mediumcom, verifying, human, may, tak...</td>\n",
       "      <td>[definitive, guide, llm, writing, style]</td>\n",
       "      <td>24</td>\n",
       "      <td>medium</td>\n",
       "    </tr>\n",
       "    <tr>\n",
       "      <th>3</th>\n",
       "      <td>39988415</td>\n",
       "      <td>0</td>\n",
       "      <td>techcrunch.com</td>\n",
       "      <td>True</td>\n",
       "      <td>2024-04-10 08:46:40</td>\n",
       "      <td>TechCrunch is part of the Yahoo family of bran...</td>\n",
       "      <td>TechCrunch is part of the Yahoo family of brands</td>\n",
       "      <td>Microsoft employees exposed internal passwords...</td>\n",
       "      <td>https://techcrunch.com/2024/04/09/microsoft-em...</td>\n",
       "      <td>croes</td>\n",
       "      <td>3</td>\n",
       "      <td>[techcrunch, part, yahoo, family, brand]</td>\n",
       "      <td>[microsoft, employee, exposed, internal, passw...</td>\n",
       "      <td>5</td>\n",
       "      <td>techcrunch</td>\n",
       "    </tr>\n",
       "    <tr>\n",
       "      <th>4</th>\n",
       "      <td>39988417</td>\n",
       "      <td>0</td>\n",
       "      <td>github.com/mrconter1</td>\n",
       "      <td>False</td>\n",
       "      <td>2024-04-10 08:46:47</td>\n",
       "      <td>GitHub - mrconter1/PullRequestBenchmark: Evalu...</td>\n",
       "      <td>GitHub - mrconter1/PullRequestBenchmark: Evalu...</td>\n",
       "      <td>PullRequestBenchmark Challenge: Can AI Replace...</td>\n",
       "      <td>https://github.com/mrconter1/PullRequestBenchmark</td>\n",
       "      <td>AIReach</td>\n",
       "      <td>1</td>\n",
       "      <td>[github, mrconter1pullrequestbenchmark, evalua...</td>\n",
       "      <td>[pullrequestbenchmark, challenge, ai, replace,...</td>\n",
       "      <td>708</td>\n",
       "      <td>github</td>\n",
       "    </tr>\n",
       "    <tr>\n",
       "      <th>5</th>\n",
       "      <td>39988418</td>\n",
       "      <td>0</td>\n",
       "      <td>acm.org</td>\n",
       "      <td>False</td>\n",
       "      <td>2024-04-10 08:46:47</td>\n",
       "      <td>Specifying the Power and Limitations of Random...</td>\n",
       "      <td>Specifying the Power and Limitations of Random...</td>\n",
       "      <td>Specifying the Power and Limitations of Random...</td>\n",
       "      <td>https://cacm.acm.org/opinion/specifying-the-po...</td>\n",
       "      <td>chmaynard</td>\n",
       "      <td>1</td>\n",
       "      <td>[specifying, power, limitation, randomness, co...</td>\n",
       "      <td>[specifying, power, limitation, randomness]</td>\n",
       "      <td>976</td>\n",
       "      <td>acm</td>\n",
       "    </tr>\n",
       "  </tbody>\n",
       "</table>\n",
       "</div>"
      ],
      "text/plain": [
       "        aid  comments                 domain  frontpage            posted_at  \\\n",
       "1  39988400         0                acm.org      False  2024-04-10 08:44:24   \n",
       "2  39988404         0  medium.com/pythoneers      False  2024-04-10 08:45:02   \n",
       "3  39988415         0         techcrunch.com       True  2024-04-10 08:46:40   \n",
       "4  39988417         0   github.com/mrconter1      False  2024-04-10 08:46:47   \n",
       "5  39988418         0                acm.org      False  2024-04-10 08:46:47   \n",
       "\n",
       "                                         source_text  \\\n",
       "1  Wigderson Named Turing Awardee for Decisive Wo...   \n",
       "2  Just a moment...\\n\\n# medium.com\\n\\n## Verifyi...   \n",
       "3  TechCrunch is part of the Yahoo family of bran...   \n",
       "4  GitHub - mrconter1/PullRequestBenchmark: Evalu...   \n",
       "5  Specifying the Power and Limitations of Random...   \n",
       "\n",
       "                                        source_title  \\\n",
       "1  Wigderson Named Turing Awardee for Decisive Wo...   \n",
       "2                                   Just a moment...   \n",
       "3   TechCrunch is part of the Yahoo family of brands   \n",
       "4  GitHub - mrconter1/PullRequestBenchmark: Evalu...   \n",
       "5  Specifying the Power and Limitations of Random...   \n",
       "\n",
       "                                               title  \\\n",
       "1  Wigderson receives Turing Award for contributi...   \n",
       "2         The Definitive Guide to LLM Writing Styles   \n",
       "3  Microsoft employees exposed internal passwords...   \n",
       "4  PullRequestBenchmark Challenge: Can AI Replace...   \n",
       "5  Specifying the Power and Limitations of Random...   \n",
       "\n",
       "                                                 url          user  votes  \\\n",
       "1  https://cacm.acm.org/news/wigderson-named-turi...     chmaynard      1   \n",
       "2  https://medium.com/pythoneers/the-definitive-g...  viktorbezdek      1   \n",
       "3  https://techcrunch.com/2024/04/09/microsoft-em...         croes      3   \n",
       "4  https://github.com/mrconter1/PullRequestBenchmark       AIReach      1   \n",
       "5  https://cacm.acm.org/opinion/specifying-the-po...     chmaynard      1   \n",
       "\n",
       "                                   clean_source_text  \\\n",
       "1  [wigderson, named, turing, awardee, decisive, ...   \n",
       "2  [moment, mediumcom, verifying, human, may, tak...   \n",
       "3           [techcrunch, part, yahoo, family, brand]   \n",
       "4  [github, mrconter1pullrequestbenchmark, evalua...   \n",
       "5  [specifying, power, limitation, randomness, co...   \n",
       "\n",
       "                                  clean_source_title  word_count domain_name  \n",
       "1  [wigderson, receives, turing, award, contribut...         415         acm  \n",
       "2           [definitive, guide, llm, writing, style]          24      medium  \n",
       "3  [microsoft, employee, exposed, internal, passw...           5  techcrunch  \n",
       "4  [pullrequestbenchmark, challenge, ai, replace,...         708      github  \n",
       "5        [specifying, power, limitation, randomness]         976         acm  "
      ]
     },
     "execution_count": 27,
     "metadata": {},
     "output_type": "execute_result"
    }
   ],
   "source": [
    "df.head()"
   ]
  },
  {
   "cell_type": "code",
   "execution_count": 28,
   "metadata": {},
   "outputs": [],
   "source": [
    "#split the dataset into 70% train and 30% test\n",
    "from sklearn.model_selection import train_test_split\n",
    "train_df, test_df = train_test_split(df, test_size=0.2, random_state=42)"
   ]
  },
  {
   "cell_type": "code",
   "execution_count": 29,
   "metadata": {},
   "outputs": [
    {
     "data": {
      "text/html": [
       "<div>\n",
       "<style scoped>\n",
       "    .dataframe tbody tr th:only-of-type {\n",
       "        vertical-align: middle;\n",
       "    }\n",
       "\n",
       "    .dataframe tbody tr th {\n",
       "        vertical-align: top;\n",
       "    }\n",
       "\n",
       "    .dataframe thead th {\n",
       "        text-align: right;\n",
       "    }\n",
       "</style>\n",
       "<table border=\"1\" class=\"dataframe\">\n",
       "  <thead>\n",
       "    <tr style=\"text-align: right;\">\n",
       "      <th></th>\n",
       "      <th>aid</th>\n",
       "      <th>comments</th>\n",
       "      <th>domain</th>\n",
       "      <th>frontpage</th>\n",
       "      <th>posted_at</th>\n",
       "      <th>source_text</th>\n",
       "      <th>source_title</th>\n",
       "      <th>title</th>\n",
       "      <th>url</th>\n",
       "      <th>user</th>\n",
       "      <th>votes</th>\n",
       "      <th>clean_source_text</th>\n",
       "      <th>clean_source_title</th>\n",
       "      <th>word_count</th>\n",
       "      <th>domain_name</th>\n",
       "    </tr>\n",
       "  </thead>\n",
       "  <tbody>\n",
       "    <tr>\n",
       "      <th>2012</th>\n",
       "      <td>40074351</td>\n",
       "      <td>0</td>\n",
       "      <td>ai-gen.blog</td>\n",
       "      <td>False</td>\n",
       "      <td>2024-04-18 09:18:06</td>\n",
       "      <td>AI-gen Blog - AI Powered Content, Reimagined b...</td>\n",
       "      <td>Is Reading Your Mind Possible? New AI Research...</td>\n",
       "      <td>Is Reading Your Mind Possible? New AI Research...</td>\n",
       "      <td>https://www.ai-gen.blog/2024/04/is-reading-you...</td>\n",
       "      <td>nowhereai</td>\n",
       "      <td>3</td>\n",
       "      <td>[aigen, blog, ai, powered, content, reimagined...</td>\n",
       "      <td>[reading, mind, possible, new, ai, research, d...</td>\n",
       "      <td>540</td>\n",
       "      <td>ai-gen</td>\n",
       "    </tr>\n",
       "    <tr>\n",
       "      <th>391</th>\n",
       "      <td>40071820</td>\n",
       "      <td>0</td>\n",
       "      <td>ncatlab.org</td>\n",
       "      <td>False</td>\n",
       "      <td>2024-04-18 00:50:22</td>\n",
       "      <td>Standard Conjectures on Algebraic Cycles in nL...</td>\n",
       "      <td>Standard Conjectures on Algebraic Cycles in nLab</td>\n",
       "      <td>Standard Conjectures on Algebraic Cycles</td>\n",
       "      <td>https://ncatlab.org/nlab/show/Standard+Conject...</td>\n",
       "      <td>gone35</td>\n",
       "      <td>1</td>\n",
       "      <td>[standard, conjecture, algebraic, cycle, nlab,...</td>\n",
       "      <td>[standard, conjecture, algebraic, cycle]</td>\n",
       "      <td>652</td>\n",
       "      <td>ncatlab</td>\n",
       "    </tr>\n",
       "    <tr>\n",
       "      <th>2051</th>\n",
       "      <td>40092209</td>\n",
       "      <td>0</td>\n",
       "      <td>nytimes.com</td>\n",
       "      <td>False</td>\n",
       "      <td>2024-04-19 21:38:52</td>\n",
       "      <td>Daniel C. Dennett, Widely Read and Fiercely De...</td>\n",
       "      <td>Daniel C. Dennett, Widely Read and Fiercely De...</td>\n",
       "      <td>Daniel C. Dennett, Widely Read and Fiercely De...</td>\n",
       "      <td>https://www.nytimes.com/2024/04/19/books/danie...</td>\n",
       "      <td>wjb3</td>\n",
       "      <td>1</td>\n",
       "      <td>[daniel, c, dennett, widely, read, fiercely, d...</td>\n",
       "      <td>[daniel, c, dennett, widely, read, fiercely, d...</td>\n",
       "      <td>2591</td>\n",
       "      <td>nytimes</td>\n",
       "    </tr>\n",
       "    <tr>\n",
       "      <th>1373</th>\n",
       "      <td>40230259</td>\n",
       "      <td>0</td>\n",
       "      <td>venturebeat.com</td>\n",
       "      <td>False</td>\n",
       "      <td>2024-05-01 22:16:07</td>\n",
       "      <td>Just a moment...\\n\\n# venturebeat.com\\n\\n## Ve...</td>\n",
       "      <td>Just a moment...</td>\n",
       "      <td>Unity announces another new CEO: ex-Zynga exec...</td>\n",
       "      <td>https://venturebeat.com/games/unity-appoints-e...</td>\n",
       "      <td>doomlaser</td>\n",
       "      <td>2</td>\n",
       "      <td>[moment, venturebeatcom, verifying, human, may...</td>\n",
       "      <td>[unity, announces, another, new, ceo, exzynga,...</td>\n",
       "      <td>24</td>\n",
       "      <td>venturebeat</td>\n",
       "    </tr>\n",
       "    <tr>\n",
       "      <th>2341</th>\n",
       "      <td>40111043</td>\n",
       "      <td>0</td>\n",
       "      <td>spectator.co.uk</td>\n",
       "      <td>False</td>\n",
       "      <td>2024-04-22 02:45:07</td>\n",
       "      <td>Richard Dawkins: in defence of scientific trut...</td>\n",
       "      <td>Richard Dawkins: in defence of scientific truth</td>\n",
       "      <td>Richard Dawkins: in defence of scientific truth</td>\n",
       "      <td>https://www.spectator.co.uk/article/richard-da...</td>\n",
       "      <td>underseacables</td>\n",
       "      <td>2</td>\n",
       "      <td>[richard, dawkins, defence, scientific, truth,...</td>\n",
       "      <td>[richard, dawkins, defence, scientific, truth]</td>\n",
       "      <td>954</td>\n",
       "      <td>co</td>\n",
       "    </tr>\n",
       "  </tbody>\n",
       "</table>\n",
       "</div>"
      ],
      "text/plain": [
       "           aid  comments           domain  frontpage            posted_at  \\\n",
       "2012  40074351         0      ai-gen.blog      False  2024-04-18 09:18:06   \n",
       "391   40071820         0      ncatlab.org      False  2024-04-18 00:50:22   \n",
       "2051  40092209         0      nytimes.com      False  2024-04-19 21:38:52   \n",
       "1373  40230259         0  venturebeat.com      False  2024-05-01 22:16:07   \n",
       "2341  40111043         0  spectator.co.uk      False  2024-04-22 02:45:07   \n",
       "\n",
       "                                            source_text  \\\n",
       "2012  AI-gen Blog - AI Powered Content, Reimagined b...   \n",
       "391   Standard Conjectures on Algebraic Cycles in nL...   \n",
       "2051  Daniel C. Dennett, Widely Read and Fiercely De...   \n",
       "1373  Just a moment...\\n\\n# venturebeat.com\\n\\n## Ve...   \n",
       "2341  Richard Dawkins: in defence of scientific trut...   \n",
       "\n",
       "                                           source_title  \\\n",
       "2012  Is Reading Your Mind Possible? New AI Research...   \n",
       "391    Standard Conjectures on Algebraic Cycles in nLab   \n",
       "2051  Daniel C. Dennett, Widely Read and Fiercely De...   \n",
       "1373                                   Just a moment...   \n",
       "2341    Richard Dawkins: in defence of scientific truth   \n",
       "\n",
       "                                                  title  \\\n",
       "2012  Is Reading Your Mind Possible? New AI Research...   \n",
       "391            Standard Conjectures on Algebraic Cycles   \n",
       "2051  Daniel C. Dennett, Widely Read and Fiercely De...   \n",
       "1373  Unity announces another new CEO: ex-Zynga exec...   \n",
       "2341    Richard Dawkins: in defence of scientific truth   \n",
       "\n",
       "                                                    url            user  \\\n",
       "2012  https://www.ai-gen.blog/2024/04/is-reading-you...       nowhereai   \n",
       "391   https://ncatlab.org/nlab/show/Standard+Conject...          gone35   \n",
       "2051  https://www.nytimes.com/2024/04/19/books/danie...            wjb3   \n",
       "1373  https://venturebeat.com/games/unity-appoints-e...       doomlaser   \n",
       "2341  https://www.spectator.co.uk/article/richard-da...  underseacables   \n",
       "\n",
       "      votes                                  clean_source_text  \\\n",
       "2012      3  [aigen, blog, ai, powered, content, reimagined...   \n",
       "391       1  [standard, conjecture, algebraic, cycle, nlab,...   \n",
       "2051      1  [daniel, c, dennett, widely, read, fiercely, d...   \n",
       "1373      2  [moment, venturebeatcom, verifying, human, may...   \n",
       "2341      2  [richard, dawkins, defence, scientific, truth,...   \n",
       "\n",
       "                                     clean_source_title  word_count  \\\n",
       "2012  [reading, mind, possible, new, ai, research, d...         540   \n",
       "391            [standard, conjecture, algebraic, cycle]         652   \n",
       "2051  [daniel, c, dennett, widely, read, fiercely, d...        2591   \n",
       "1373  [unity, announces, another, new, ceo, exzynga,...          24   \n",
       "2341     [richard, dawkins, defence, scientific, truth]         954   \n",
       "\n",
       "      domain_name  \n",
       "2012       ai-gen  \n",
       "391       ncatlab  \n",
       "2051      nytimes  \n",
       "1373  venturebeat  \n",
       "2341           co  "
      ]
     },
     "execution_count": 29,
     "metadata": {},
     "output_type": "execute_result"
    }
   ],
   "source": [
    "train_df.head()"
   ]
  },
  {
   "cell_type": "code",
   "execution_count": 30,
   "metadata": {},
   "outputs": [
    {
     "data": {
      "text/html": [
       "<div>\n",
       "<style scoped>\n",
       "    .dataframe tbody tr th:only-of-type {\n",
       "        vertical-align: middle;\n",
       "    }\n",
       "\n",
       "    .dataframe tbody tr th {\n",
       "        vertical-align: top;\n",
       "    }\n",
       "\n",
       "    .dataframe thead th {\n",
       "        text-align: right;\n",
       "    }\n",
       "</style>\n",
       "<table border=\"1\" class=\"dataframe\">\n",
       "  <thead>\n",
       "    <tr style=\"text-align: right;\">\n",
       "      <th></th>\n",
       "      <th>aid</th>\n",
       "      <th>comments</th>\n",
       "      <th>domain</th>\n",
       "      <th>frontpage</th>\n",
       "      <th>posted_at</th>\n",
       "      <th>source_text</th>\n",
       "      <th>source_title</th>\n",
       "      <th>title</th>\n",
       "      <th>url</th>\n",
       "      <th>user</th>\n",
       "      <th>votes</th>\n",
       "      <th>clean_source_text</th>\n",
       "      <th>clean_source_title</th>\n",
       "      <th>word_count</th>\n",
       "      <th>domain_name</th>\n",
       "    </tr>\n",
       "  </thead>\n",
       "  <tbody>\n",
       "    <tr>\n",
       "      <th>1138</th>\n",
       "      <td>40150143</td>\n",
       "      <td>0</td>\n",
       "      <td>guruwebtools.com</td>\n",
       "      <td>False</td>\n",
       "      <td>2024-04-24 21:48:34</td>\n",
       "      <td>100% Free AI SEO Tools » GuruWebTools.com\\n\\n ...</td>\n",
       "      <td>100% Free AI SEO Tools</td>\n",
       "      <td>Show HN: Free AI SEO online web tools</td>\n",
       "      <td>https://guruwebtools.com</td>\n",
       "      <td>dewblue</td>\n",
       "      <td>2</td>\n",
       "      <td>[100, free, ai, seo, tool, guruwebtoolscom, ho...</td>\n",
       "      <td>[show, hn, free, ai, seo, online, web, tool]</td>\n",
       "      <td>6599</td>\n",
       "      <td>guruwebtools</td>\n",
       "    </tr>\n",
       "    <tr>\n",
       "      <th>3068</th>\n",
       "      <td>40261475</td>\n",
       "      <td>0</td>\n",
       "      <td>nytimes.com</td>\n",
       "      <td>False</td>\n",
       "      <td>2024-05-05 00:42:10</td>\n",
       "      <td>Opinion | 2024 Was the Year That Broke College...</td>\n",
       "      <td>Opinion | This Is Peak College Admissions Insa...</td>\n",
       "      <td>Peak College Admissions Insanity</td>\n",
       "      <td>https://www.nytimes.com/2024/05/01/opinion/col...</td>\n",
       "      <td>mooreds</td>\n",
       "      <td>2</td>\n",
       "      <td>[opinion, 2024, year, broke, college, admissio...</td>\n",
       "      <td>[peak, college, admission, insanity]</td>\n",
       "      <td>4672</td>\n",
       "      <td>nytimes</td>\n",
       "    </tr>\n",
       "    <tr>\n",
       "      <th>2308</th>\n",
       "      <td>40110170</td>\n",
       "      <td>0</td>\n",
       "      <td>theguardian.com</td>\n",
       "      <td>True</td>\n",
       "      <td>2024-04-21 23:39:53</td>\n",
       "      <td>Louisiana’s flagship university lets oil firms...</td>\n",
       "      <td>Louisiana’s flagship university lets oil firms...</td>\n",
       "      <td>Louisiana's flagship university lets oil firms...</td>\n",
       "      <td>https://www.theguardian.com/us-news/2024/apr/2...</td>\n",
       "      <td>thelastgallon</td>\n",
       "      <td>5</td>\n",
       "      <td>[louisiana, flagship, university, let, oil, fi...</td>\n",
       "      <td>[louisiana, flagship, university, let, oil, fi...</td>\n",
       "      <td>1244</td>\n",
       "      <td>theguardian</td>\n",
       "    </tr>\n",
       "    <tr>\n",
       "      <th>1072</th>\n",
       "      <td>40140396</td>\n",
       "      <td>4</td>\n",
       "      <td>mostlypython.com</td>\n",
       "      <td>True</td>\n",
       "      <td>2024-04-24 03:59:31</td>\n",
       "      <td>Django from first principles\\n\\nMostly Python\\...</td>\n",
       "      <td>Django from first principles</td>\n",
       "      <td>Building a full Django project, starting with ...</td>\n",
       "      <td>https://www.mostlypython.com/django-from-first...</td>\n",
       "      <td>kqnrnq17r</td>\n",
       "      <td>30</td>\n",
       "      <td>[django, first, principle, mostly, python, sig...</td>\n",
       "      <td>[building, full, django, project, starting, si...</td>\n",
       "      <td>778</td>\n",
       "      <td>mostlypython</td>\n",
       "    </tr>\n",
       "    <tr>\n",
       "      <th>79</th>\n",
       "      <td>39989998</td>\n",
       "      <td>0</td>\n",
       "      <td>bls.gov</td>\n",
       "      <td>False</td>\n",
       "      <td>2024-04-10 12:36:04</td>\n",
       "      <td>Access Denied\\n\\n# Bureau of Labor Statistics\\...</td>\n",
       "      <td>Access Denied</td>\n",
       "      <td>CPI for all items rose 0.4% in March; shelter ...</td>\n",
       "      <td>https://www.bls.gov/news.release/archives/cpi_...</td>\n",
       "      <td>impish9208</td>\n",
       "      <td>3</td>\n",
       "      <td>[access, denied, bureau, labor, statistic, acc...</td>\n",
       "      <td>[cpi, item, rose, 04, march, shelter, gasoline]</td>\n",
       "      <td>52</td>\n",
       "      <td>bls</td>\n",
       "    </tr>\n",
       "  </tbody>\n",
       "</table>\n",
       "</div>"
      ],
      "text/plain": [
       "           aid  comments            domain  frontpage            posted_at  \\\n",
       "1138  40150143         0  guruwebtools.com      False  2024-04-24 21:48:34   \n",
       "3068  40261475         0       nytimes.com      False  2024-05-05 00:42:10   \n",
       "2308  40110170         0   theguardian.com       True  2024-04-21 23:39:53   \n",
       "1072  40140396         4  mostlypython.com       True  2024-04-24 03:59:31   \n",
       "79    39989998         0           bls.gov      False  2024-04-10 12:36:04   \n",
       "\n",
       "                                            source_text  \\\n",
       "1138  100% Free AI SEO Tools » GuruWebTools.com\\n\\n ...   \n",
       "3068  Opinion | 2024 Was the Year That Broke College...   \n",
       "2308  Louisiana’s flagship university lets oil firms...   \n",
       "1072  Django from first principles\\n\\nMostly Python\\...   \n",
       "79    Access Denied\\n\\n# Bureau of Labor Statistics\\...   \n",
       "\n",
       "                                           source_title  \\\n",
       "1138                             100% Free AI SEO Tools   \n",
       "3068  Opinion | This Is Peak College Admissions Insa...   \n",
       "2308  Louisiana’s flagship university lets oil firms...   \n",
       "1072                       Django from first principles   \n",
       "79                                        Access Denied   \n",
       "\n",
       "                                                  title  \\\n",
       "1138              Show HN: Free AI SEO online web tools   \n",
       "3068                   Peak College Admissions Insanity   \n",
       "2308  Louisiana's flagship university lets oil firms...   \n",
       "1072  Building a full Django project, starting with ...   \n",
       "79    CPI for all items rose 0.4% in March; shelter ...   \n",
       "\n",
       "                                                    url           user  votes  \\\n",
       "1138                           https://guruwebtools.com        dewblue      2   \n",
       "3068  https://www.nytimes.com/2024/05/01/opinion/col...        mooreds      2   \n",
       "2308  https://www.theguardian.com/us-news/2024/apr/2...  thelastgallon      5   \n",
       "1072  https://www.mostlypython.com/django-from-first...      kqnrnq17r     30   \n",
       "79    https://www.bls.gov/news.release/archives/cpi_...     impish9208      3   \n",
       "\n",
       "                                      clean_source_text  \\\n",
       "1138  [100, free, ai, seo, tool, guruwebtoolscom, ho...   \n",
       "3068  [opinion, 2024, year, broke, college, admissio...   \n",
       "2308  [louisiana, flagship, university, let, oil, fi...   \n",
       "1072  [django, first, principle, mostly, python, sig...   \n",
       "79    [access, denied, bureau, labor, statistic, acc...   \n",
       "\n",
       "                                     clean_source_title  word_count  \\\n",
       "1138       [show, hn, free, ai, seo, online, web, tool]        6599   \n",
       "3068               [peak, college, admission, insanity]        4672   \n",
       "2308  [louisiana, flagship, university, let, oil, fi...        1244   \n",
       "1072  [building, full, django, project, starting, si...         778   \n",
       "79      [cpi, item, rose, 04, march, shelter, gasoline]          52   \n",
       "\n",
       "       domain_name  \n",
       "1138  guruwebtools  \n",
       "3068       nytimes  \n",
       "2308   theguardian  \n",
       "1072  mostlypython  \n",
       "79             bls  "
      ]
     },
     "execution_count": 30,
     "metadata": {},
     "output_type": "execute_result"
    }
   ],
   "source": [
    "test_df.head()"
   ]
  },
  {
   "cell_type": "markdown",
   "metadata": {},
   "source": [
    "# Outliers"
   ]
  },
  {
   "cell_type": "code",
   "execution_count": 31,
   "metadata": {},
   "outputs": [
    {
     "data": {
      "text/plain": [
       "(2182, 15)"
      ]
     },
     "execution_count": 31,
     "metadata": {},
     "output_type": "execute_result"
    }
   ],
   "source": [
    "train_df.shape"
   ]
  },
  {
   "cell_type": "code",
   "execution_count": 32,
   "metadata": {},
   "outputs": [],
   "source": [
    "from scipy.stats import zscore\n",
    "\n",
    "train_df['comments_zscore'] = zscore(train_df['comments'])\n",
    "\n",
    "train_df = train_df[train_df['comments_zscore'].abs() <= 3] \n",
    "\n",
    "train_df.drop(columns=['comments_zscore'], inplace=True)"
   ]
  },
  {
   "cell_type": "code",
   "execution_count": 33,
   "metadata": {},
   "outputs": [],
   "source": [
    "train_df['votes_zscore'] = zscore(train_df['votes'])\n",
    "\n",
    "train_df = train_df[train_df['votes_zscore'].abs() <= 3] \n",
    "\n",
    "train_df.drop(columns=['votes_zscore'], inplace=True)"
   ]
  },
  {
   "cell_type": "code",
   "execution_count": 34,
   "metadata": {},
   "outputs": [],
   "source": [
    "train_df['word_count_zscore'] = zscore(train_df['word_count'])\n",
    "\n",
    "train_df = train_df[train_df['word_count_zscore'].abs() <= 3] \n",
    "\n",
    "train_df.drop(columns=['word_count_zscore'], inplace=True)"
   ]
  },
  {
   "cell_type": "code",
   "execution_count": 35,
   "metadata": {},
   "outputs": [
    {
     "data": {
      "text/plain": [
       "(2099, 15)"
      ]
     },
     "execution_count": 35,
     "metadata": {},
     "output_type": "execute_result"
    }
   ],
   "source": [
    "train_df.shape"
   ]
  },
  {
   "cell_type": "code",
   "execution_count": 36,
   "metadata": {},
   "outputs": [
    {
     "data": {
      "text/plain": [
       "(546, 15)"
      ]
     },
     "execution_count": 36,
     "metadata": {},
     "output_type": "execute_result"
    }
   ],
   "source": [
    "test_df.shape"
   ]
  },
  {
   "cell_type": "code",
   "execution_count": 37,
   "metadata": {},
   "outputs": [],
   "source": [
    "test_df['comments_zscore'] = zscore(test_df['comments'])\n",
    "\n",
    "test_df = test_df[test_df['comments_zscore'].abs() <= 3] \n",
    "\n",
    "test_df.drop(columns=['comments_zscore'], inplace=True)"
   ]
  },
  {
   "cell_type": "code",
   "execution_count": 38,
   "metadata": {},
   "outputs": [],
   "source": [
    "test_df['votes_zscore'] = zscore(test_df['votes'])\n",
    "\n",
    "test_df = test_df[test_df['votes_zscore'].abs() <= 3] \n",
    "\n",
    "test_df.drop(columns=['votes_zscore'], inplace=True)"
   ]
  },
  {
   "cell_type": "code",
   "execution_count": 39,
   "metadata": {},
   "outputs": [],
   "source": [
    "test_df['word_count_zscore'] = zscore(test_df['word_count'])\n",
    "\n",
    "test_df = test_df[test_df['word_count_zscore'].abs() <= 3] \n",
    "\n",
    "test_df.drop(columns=['word_count_zscore'], inplace=True)"
   ]
  },
  {
   "cell_type": "code",
   "execution_count": 40,
   "metadata": {},
   "outputs": [
    {
     "data": {
      "text/plain": [
       "(526, 15)"
      ]
     },
     "execution_count": 40,
     "metadata": {},
     "output_type": "execute_result"
    }
   ],
   "source": [
    "test_df.shape"
   ]
  },
  {
   "cell_type": "markdown",
   "metadata": {},
   "source": [
    "# Class Imbalance"
   ]
  },
  {
   "cell_type": "code",
   "execution_count": 41,
   "metadata": {},
   "outputs": [
    {
     "name": "stdout",
     "output_type": "stream",
     "text": [
      "False    1769\n",
      "True      330\n",
      "Name: frontpage, dtype: int64\n"
     ]
    }
   ],
   "source": [
    "count_train_set = train_df['frontpage'].value_counts()\n",
    "\n",
    "print(count_train_set)"
   ]
  },
  {
   "cell_type": "code",
   "execution_count": 42,
   "metadata": {},
   "outputs": [
    {
     "name": "stdout",
     "output_type": "stream",
     "text": [
      "False    446\n",
      "True      80\n",
      "Name: frontpage, dtype: int64\n"
     ]
    }
   ],
   "source": [
    "count_test_set = test_df['frontpage'].value_counts()\n",
    "\n",
    "print(count_test_set)"
   ]
  },
  {
   "cell_type": "code",
   "execution_count": 43,
   "metadata": {},
   "outputs": [],
   "source": [
    "minority_class = count_train_set.idxmin()\n",
    "majority_class = count_train_set.idxmax()\n",
    "\n",
    "minority_df = train_df[train_df['frontpage'] == minority_class]\n",
    "majority_df = train_df[train_df['frontpage'] == majority_class]"
   ]
  },
  {
   "cell_type": "code",
   "execution_count": 44,
   "metadata": {},
   "outputs": [],
   "source": [
    "oversampled_minority_df = minority_df.sample(n=count_train_set[majority_class], replace=True, random_state=42)"
   ]
  },
  {
   "cell_type": "code",
   "execution_count": 45,
   "metadata": {},
   "outputs": [],
   "source": [
    "train_df = pd.concat([majority_df, oversampled_minority_df])"
   ]
  },
  {
   "cell_type": "code",
   "execution_count": 46,
   "metadata": {},
   "outputs": [
    {
     "data": {
      "text/plain": [
       "False    1769\n",
       "True     1769\n",
       "Name: frontpage, dtype: int64"
      ]
     },
     "execution_count": 46,
     "metadata": {},
     "output_type": "execute_result"
    }
   ],
   "source": [
    "train_df['frontpage'].value_counts()"
   ]
  },
  {
   "cell_type": "code",
   "execution_count": 47,
   "metadata": {},
   "outputs": [],
   "source": [
    "minority_class = count_test_set.idxmin()\n",
    "majority_class = count_test_set.idxmax()\n",
    "\n",
    "minority_df = test_df[test_df['frontpage'] == minority_class]\n",
    "majority_df = test_df[test_df['frontpage'] == majority_class]"
   ]
  },
  {
   "cell_type": "code",
   "execution_count": 48,
   "metadata": {},
   "outputs": [],
   "source": [
    "oversampled_minority_df = minority_df.sample(n=count_test_set[majority_class], replace=True, random_state=42)"
   ]
  },
  {
   "cell_type": "code",
   "execution_count": 49,
   "metadata": {},
   "outputs": [],
   "source": [
    "test_df = pd.concat([majority_df, oversampled_minority_df])"
   ]
  },
  {
   "cell_type": "code",
   "execution_count": 50,
   "metadata": {},
   "outputs": [
    {
     "data": {
      "text/plain": [
       "False    446\n",
       "True     446\n",
       "Name: frontpage, dtype: int64"
      ]
     },
     "execution_count": 50,
     "metadata": {},
     "output_type": "execute_result"
    }
   ],
   "source": [
    "test_df['frontpage'].value_counts()"
   ]
  },
  {
   "cell_type": "markdown",
   "metadata": {},
   "source": [
    "# TF-IDF Scores"
   ]
  },
  {
   "cell_type": "code",
   "execution_count": 51,
   "metadata": {},
   "outputs": [
    {
     "name": "stdout",
     "output_type": "stream",
     "text": [
      "Requirement already satisfied: scikit-learn in /Users/stantschal/opt/anaconda3/lib/python3.8/site-packages (1.3.2)\n",
      "Requirement already satisfied: numpy<2.0,>=1.17.3 in /Users/stantschal/opt/anaconda3/lib/python3.8/site-packages (from scikit-learn) (1.23.5)\n",
      "Requirement already satisfied: scipy>=1.5.0 in /Users/stantschal/opt/anaconda3/lib/python3.8/site-packages (from scikit-learn) (1.10.1)\n",
      "Requirement already satisfied: joblib>=1.1.1 in /Users/stantschal/opt/anaconda3/lib/python3.8/site-packages (from scikit-learn) (1.4.2)\n",
      "Requirement already satisfied: threadpoolctl>=2.0.0 in /Users/stantschal/opt/anaconda3/lib/python3.8/site-packages (from scikit-learn) (3.5.0)\n",
      "Note: you may need to restart the kernel to use updated packages.\n"
     ]
    }
   ],
   "source": [
    "pip install scikit-learn"
   ]
  },
  {
   "cell_type": "code",
   "execution_count": 52,
   "metadata": {},
   "outputs": [
    {
     "data": {
      "text/html": [
       "<div>\n",
       "<style scoped>\n",
       "    .dataframe tbody tr th:only-of-type {\n",
       "        vertical-align: middle;\n",
       "    }\n",
       "\n",
       "    .dataframe tbody tr th {\n",
       "        vertical-align: top;\n",
       "    }\n",
       "\n",
       "    .dataframe thead th {\n",
       "        text-align: right;\n",
       "    }\n",
       "</style>\n",
       "<table border=\"1\" class=\"dataframe\">\n",
       "  <thead>\n",
       "    <tr style=\"text-align: right;\">\n",
       "      <th></th>\n",
       "      <th>aid</th>\n",
       "      <th>comments</th>\n",
       "      <th>domain</th>\n",
       "      <th>frontpage</th>\n",
       "      <th>posted_at</th>\n",
       "      <th>source_text</th>\n",
       "      <th>source_title</th>\n",
       "      <th>title</th>\n",
       "      <th>url</th>\n",
       "      <th>user</th>\n",
       "      <th>votes</th>\n",
       "      <th>clean_source_text</th>\n",
       "      <th>clean_source_title</th>\n",
       "      <th>word_count</th>\n",
       "      <th>domain_name</th>\n",
       "      <th>tfidf_source_text</th>\n",
       "      <th>TFIDF_Scores</th>\n",
       "    </tr>\n",
       "  </thead>\n",
       "  <tbody>\n",
       "    <tr>\n",
       "      <th>2012</th>\n",
       "      <td>40074351</td>\n",
       "      <td>0</td>\n",
       "      <td>ai-gen.blog</td>\n",
       "      <td>False</td>\n",
       "      <td>2024-04-18 09:18:06</td>\n",
       "      <td>AI-gen Blog - AI Powered Content, Reimagined b...</td>\n",
       "      <td>Is Reading Your Mind Possible? New AI Research...</td>\n",
       "      <td>Is Reading Your Mind Possible? New AI Research...</td>\n",
       "      <td>https://www.ai-gen.blog/2024/04/is-reading-you...</td>\n",
       "      <td>nowhereai</td>\n",
       "      <td>3</td>\n",
       "      <td>[aigen, blog, ai, powered, content, reimagined...</td>\n",
       "      <td>[reading, mind, possible, new, ai, research, d...</td>\n",
       "      <td>540</td>\n",
       "      <td>ai-gen</td>\n",
       "      <td>aigen blog ai powered content reimagined human...</td>\n",
       "      <td>{'11': 0.01657256444457039, '13': 0.0179734072...</td>\n",
       "    </tr>\n",
       "    <tr>\n",
       "      <th>391</th>\n",
       "      <td>40071820</td>\n",
       "      <td>0</td>\n",
       "      <td>ncatlab.org</td>\n",
       "      <td>False</td>\n",
       "      <td>2024-04-18 00:50:22</td>\n",
       "      <td>Standard Conjectures on Algebraic Cycles in nL...</td>\n",
       "      <td>Standard Conjectures on Algebraic Cycles in nLab</td>\n",
       "      <td>Standard Conjectures on Algebraic Cycles</td>\n",
       "      <td>https://ncatlab.org/nlab/show/Standard+Conject...</td>\n",
       "      <td>gone35</td>\n",
       "      <td>1</td>\n",
       "      <td>[standard, conjecture, algebraic, cycle, nlab,...</td>\n",
       "      <td>[standard, conjecture, algebraic, cycle]</td>\n",
       "      <td>652</td>\n",
       "      <td>ncatlab</td>\n",
       "      <td>standard conjecture algebraic cycle nlab nlab ...</td>\n",
       "      <td>{'14': 0.004913113157741634, '145234': 0.01644...</td>\n",
       "    </tr>\n",
       "    <tr>\n",
       "      <th>2051</th>\n",
       "      <td>40092209</td>\n",
       "      <td>0</td>\n",
       "      <td>nytimes.com</td>\n",
       "      <td>False</td>\n",
       "      <td>2024-04-19 21:38:52</td>\n",
       "      <td>Daniel C. Dennett, Widely Read and Fiercely De...</td>\n",
       "      <td>Daniel C. Dennett, Widely Read and Fiercely De...</td>\n",
       "      <td>Daniel C. Dennett, Widely Read and Fiercely De...</td>\n",
       "      <td>https://www.nytimes.com/2024/04/19/books/danie...</td>\n",
       "      <td>wjb3</td>\n",
       "      <td>1</td>\n",
       "      <td>[daniel, c, dennett, widely, read, fiercely, d...</td>\n",
       "      <td>[daniel, c, dennett, widely, read, fiercely, d...</td>\n",
       "      <td>2591</td>\n",
       "      <td>nytimes</td>\n",
       "      <td>daniel c dennett widely read fiercely debated ...</td>\n",
       "      <td>{'050week': 0.0093295782345452, '050weeklog': ...</td>\n",
       "    </tr>\n",
       "    <tr>\n",
       "      <th>1373</th>\n",
       "      <td>40230259</td>\n",
       "      <td>0</td>\n",
       "      <td>venturebeat.com</td>\n",
       "      <td>False</td>\n",
       "      <td>2024-05-01 22:16:07</td>\n",
       "      <td>Just a moment...\\n\\n# venturebeat.com\\n\\n## Ve...</td>\n",
       "      <td>Just a moment...</td>\n",
       "      <td>Unity announces another new CEO: ex-Zynga exec...</td>\n",
       "      <td>https://venturebeat.com/games/unity-appoints-e...</td>\n",
       "      <td>doomlaser</td>\n",
       "      <td>2</td>\n",
       "      <td>[moment, venturebeatcom, verifying, human, may...</td>\n",
       "      <td>[unity, announces, another, new, ceo, exzynga,...</td>\n",
       "      <td>24</td>\n",
       "      <td>venturebeat</td>\n",
       "      <td>moment venturebeatcom verifying human may take...</td>\n",
       "      <td>{'87d3d659eb255c14': 0.2800287836542828, 'clou...</td>\n",
       "    </tr>\n",
       "    <tr>\n",
       "      <th>2341</th>\n",
       "      <td>40111043</td>\n",
       "      <td>0</td>\n",
       "      <td>spectator.co.uk</td>\n",
       "      <td>False</td>\n",
       "      <td>2024-04-22 02:45:07</td>\n",
       "      <td>Richard Dawkins: in defence of scientific trut...</td>\n",
       "      <td>Richard Dawkins: in defence of scientific truth</td>\n",
       "      <td>Richard Dawkins: in defence of scientific truth</td>\n",
       "      <td>https://www.spectator.co.uk/article/richard-da...</td>\n",
       "      <td>underseacables</td>\n",
       "      <td>2</td>\n",
       "      <td>[richard, dawkins, defence, scientific, truth,...</td>\n",
       "      <td>[richard, dawkins, defence, scientific, truth]</td>\n",
       "      <td>954</td>\n",
       "      <td>co</td>\n",
       "      <td>richard dawkins defence scientific truth spect...</td>\n",
       "      <td>{'01': 0.016747326405612474, '2013': 0.0163600...</td>\n",
       "    </tr>\n",
       "  </tbody>\n",
       "</table>\n",
       "</div>"
      ],
      "text/plain": [
       "           aid  comments           domain  frontpage            posted_at  \\\n",
       "2012  40074351         0      ai-gen.blog      False  2024-04-18 09:18:06   \n",
       "391   40071820         0      ncatlab.org      False  2024-04-18 00:50:22   \n",
       "2051  40092209         0      nytimes.com      False  2024-04-19 21:38:52   \n",
       "1373  40230259         0  venturebeat.com      False  2024-05-01 22:16:07   \n",
       "2341  40111043         0  spectator.co.uk      False  2024-04-22 02:45:07   \n",
       "\n",
       "                                            source_text  \\\n",
       "2012  AI-gen Blog - AI Powered Content, Reimagined b...   \n",
       "391   Standard Conjectures on Algebraic Cycles in nL...   \n",
       "2051  Daniel C. Dennett, Widely Read and Fiercely De...   \n",
       "1373  Just a moment...\\n\\n# venturebeat.com\\n\\n## Ve...   \n",
       "2341  Richard Dawkins: in defence of scientific trut...   \n",
       "\n",
       "                                           source_title  \\\n",
       "2012  Is Reading Your Mind Possible? New AI Research...   \n",
       "391    Standard Conjectures on Algebraic Cycles in nLab   \n",
       "2051  Daniel C. Dennett, Widely Read and Fiercely De...   \n",
       "1373                                   Just a moment...   \n",
       "2341    Richard Dawkins: in defence of scientific truth   \n",
       "\n",
       "                                                  title  \\\n",
       "2012  Is Reading Your Mind Possible? New AI Research...   \n",
       "391            Standard Conjectures on Algebraic Cycles   \n",
       "2051  Daniel C. Dennett, Widely Read and Fiercely De...   \n",
       "1373  Unity announces another new CEO: ex-Zynga exec...   \n",
       "2341    Richard Dawkins: in defence of scientific truth   \n",
       "\n",
       "                                                    url            user  \\\n",
       "2012  https://www.ai-gen.blog/2024/04/is-reading-you...       nowhereai   \n",
       "391   https://ncatlab.org/nlab/show/Standard+Conject...          gone35   \n",
       "2051  https://www.nytimes.com/2024/04/19/books/danie...            wjb3   \n",
       "1373  https://venturebeat.com/games/unity-appoints-e...       doomlaser   \n",
       "2341  https://www.spectator.co.uk/article/richard-da...  underseacables   \n",
       "\n",
       "      votes                                  clean_source_text  \\\n",
       "2012      3  [aigen, blog, ai, powered, content, reimagined...   \n",
       "391       1  [standard, conjecture, algebraic, cycle, nlab,...   \n",
       "2051      1  [daniel, c, dennett, widely, read, fiercely, d...   \n",
       "1373      2  [moment, venturebeatcom, verifying, human, may...   \n",
       "2341      2  [richard, dawkins, defence, scientific, truth,...   \n",
       "\n",
       "                                     clean_source_title  word_count  \\\n",
       "2012  [reading, mind, possible, new, ai, research, d...         540   \n",
       "391            [standard, conjecture, algebraic, cycle]         652   \n",
       "2051  [daniel, c, dennett, widely, read, fiercely, d...        2591   \n",
       "1373  [unity, announces, another, new, ceo, exzynga,...          24   \n",
       "2341     [richard, dawkins, defence, scientific, truth]         954   \n",
       "\n",
       "      domain_name                                  tfidf_source_text  \\\n",
       "2012       ai-gen  aigen blog ai powered content reimagined human...   \n",
       "391       ncatlab  standard conjecture algebraic cycle nlab nlab ...   \n",
       "2051      nytimes  daniel c dennett widely read fiercely debated ...   \n",
       "1373  venturebeat  moment venturebeatcom verifying human may take...   \n",
       "2341           co  richard dawkins defence scientific truth spect...   \n",
       "\n",
       "                                           TFIDF_Scores  \n",
       "2012  {'11': 0.01657256444457039, '13': 0.0179734072...  \n",
       "391   {'14': 0.004913113157741634, '145234': 0.01644...  \n",
       "2051  {'050week': 0.0093295782345452, '050weeklog': ...  \n",
       "1373  {'87d3d659eb255c14': 0.2800287836542828, 'clou...  \n",
       "2341  {'01': 0.016747326405612474, '2013': 0.0163600...  "
      ]
     },
     "execution_count": 52,
     "metadata": {},
     "output_type": "execute_result"
    }
   ],
   "source": [
    "#calculate TF-IDF score for each row and for each word in a row\n",
    "from sklearn.feature_extraction.text import TfidfVectorizer\n",
    "\n",
    "train_df['tfidf_source_text'] = train_df['clean_source_text'].apply(lambda x: ' '.join(x))\n",
    "\n",
    "tfidf_vectorizer = TfidfVectorizer()\n",
    "\n",
    "tfidf_matrix = tfidf_vectorizer.fit_transform(train_df['tfidf_source_text'])\n",
    "\n",
    "features = tfidf_vectorizer.get_feature_names_out()\n",
    "\n",
    "# create a dictionary of TF-IDF scores for each row instead of a matrix\n",
    "def get_tfidf_dict(row_index):\n",
    "    row = tfidf_matrix[row_index].toarray()[0]\n",
    "\n",
    "    tfidf_dict = {features[i]: row[i] for i in range(len(row)) if row[i] > 0}\n",
    "    return tfidf_dict\n",
    "\n",
    "train_df['TFIDF_Scores'] = [get_tfidf_dict(i) for i in range(tfidf_matrix.shape[0])]\n",
    "\n",
    "train_df.head()\n"
   ]
  },
  {
   "cell_type": "code",
   "execution_count": 53,
   "metadata": {},
   "outputs": [
    {
     "data": {
      "text/html": [
       "<div>\n",
       "<style scoped>\n",
       "    .dataframe tbody tr th:only-of-type {\n",
       "        vertical-align: middle;\n",
       "    }\n",
       "\n",
       "    .dataframe tbody tr th {\n",
       "        vertical-align: top;\n",
       "    }\n",
       "\n",
       "    .dataframe thead th {\n",
       "        text-align: right;\n",
       "    }\n",
       "</style>\n",
       "<table border=\"1\" class=\"dataframe\">\n",
       "  <thead>\n",
       "    <tr style=\"text-align: right;\">\n",
       "      <th></th>\n",
       "      <th>aid</th>\n",
       "      <th>comments</th>\n",
       "      <th>domain</th>\n",
       "      <th>frontpage</th>\n",
       "      <th>posted_at</th>\n",
       "      <th>source_text</th>\n",
       "      <th>source_title</th>\n",
       "      <th>title</th>\n",
       "      <th>url</th>\n",
       "      <th>user</th>\n",
       "      <th>votes</th>\n",
       "      <th>clean_source_text</th>\n",
       "      <th>clean_source_title</th>\n",
       "      <th>word_count</th>\n",
       "      <th>domain_name</th>\n",
       "      <th>tfidf_source_text</th>\n",
       "      <th>TFIDF_Scores</th>\n",
       "    </tr>\n",
       "  </thead>\n",
       "  <tbody>\n",
       "    <tr>\n",
       "      <th>1138</th>\n",
       "      <td>40150143</td>\n",
       "      <td>0</td>\n",
       "      <td>guruwebtools.com</td>\n",
       "      <td>False</td>\n",
       "      <td>2024-04-24 21:48:34</td>\n",
       "      <td>100% Free AI SEO Tools » GuruWebTools.com\\n\\n ...</td>\n",
       "      <td>100% Free AI SEO Tools</td>\n",
       "      <td>Show HN: Free AI SEO online web tools</td>\n",
       "      <td>https://guruwebtools.com</td>\n",
       "      <td>dewblue</td>\n",
       "      <td>2</td>\n",
       "      <td>[100, free, ai, seo, tool, guruwebtoolscom, ho...</td>\n",
       "      <td>[show, hn, free, ai, seo, online, web, tool]</td>\n",
       "      <td>6599</td>\n",
       "      <td>guruwebtools</td>\n",
       "      <td>100 free ai seo tool guruwebtoolscom home blog...</td>\n",
       "      <td>{'100': 0.0024351725160512597, '120': 0.001480...</td>\n",
       "    </tr>\n",
       "    <tr>\n",
       "      <th>3068</th>\n",
       "      <td>40261475</td>\n",
       "      <td>0</td>\n",
       "      <td>nytimes.com</td>\n",
       "      <td>False</td>\n",
       "      <td>2024-05-05 00:42:10</td>\n",
       "      <td>Opinion | 2024 Was the Year That Broke College...</td>\n",
       "      <td>Opinion | This Is Peak College Admissions Insa...</td>\n",
       "      <td>Peak College Admissions Insanity</td>\n",
       "      <td>https://www.nytimes.com/2024/05/01/opinion/col...</td>\n",
       "      <td>mooreds</td>\n",
       "      <td>2</td>\n",
       "      <td>[opinion, 2024, year, broke, college, admissio...</td>\n",
       "      <td>[peak, college, admission, insanity]</td>\n",
       "      <td>4672</td>\n",
       "      <td>nytimes</td>\n",
       "      <td>opinion 2024 year broke college admission new ...</td>\n",
       "      <td>{'100': 0.0038164317406213064, '1001': 0.00886...</td>\n",
       "    </tr>\n",
       "    <tr>\n",
       "      <th>79</th>\n",
       "      <td>39989998</td>\n",
       "      <td>0</td>\n",
       "      <td>bls.gov</td>\n",
       "      <td>False</td>\n",
       "      <td>2024-04-10 12:36:04</td>\n",
       "      <td>Access Denied\\n\\n# Bureau of Labor Statistics\\...</td>\n",
       "      <td>Access Denied</td>\n",
       "      <td>CPI for all items rose 0.4% in March; shelter ...</td>\n",
       "      <td>https://www.bls.gov/news.release/archives/cpi_...</td>\n",
       "      <td>impish9208</td>\n",
       "      <td>3</td>\n",
       "      <td>[access, denied, bureau, labor, statistic, acc...</td>\n",
       "      <td>[cpi, item, rose, 04, march, shelter, gasoline]</td>\n",
       "      <td>52</td>\n",
       "      <td>bls</td>\n",
       "      <td>access denied bureau labor statistic access de...</td>\n",
       "      <td>{'06c01100217127558003de4be81': 0.225210034171...</td>\n",
       "    </tr>\n",
       "    <tr>\n",
       "      <th>2414</th>\n",
       "      <td>40113007</td>\n",
       "      <td>0</td>\n",
       "      <td>talosintelligence.com</td>\n",
       "      <td>False</td>\n",
       "      <td>2024-04-22 10:36:05</td>\n",
       "      <td>What’s the deal with the massive backlog of vu...</td>\n",
       "      <td>What’s the deal with the massive backlog of vu...</td>\n",
       "      <td>What's the deal with the backlog of vulnerabil...</td>\n",
       "      <td>https://blog.talosintelligence.com/nvd-vulnera...</td>\n",
       "      <td>skilled</td>\n",
       "      <td>2</td>\n",
       "      <td>[whats, deal, massive, backlog, vulnerability,...</td>\n",
       "      <td>[whats, deal, backlog, vulnerability, nvd]</td>\n",
       "      <td>897</td>\n",
       "      <td>talosintelligence</td>\n",
       "      <td>whats deal massive backlog vulnerability nvd c...</td>\n",
       "      <td>{'0800': 0.06760523212918257, '10': 0.01553280...</td>\n",
       "    </tr>\n",
       "    <tr>\n",
       "      <th>272</th>\n",
       "      <td>40059822</td>\n",
       "      <td>0</td>\n",
       "      <td>lilianweng.github.io</td>\n",
       "      <td>False</td>\n",
       "      <td>2024-04-17 02:33:37</td>\n",
       "      <td>Diffusion Models for Video Generation | Lil'Lo...</td>\n",
       "      <td>Diffusion Models for Video Generation</td>\n",
       "      <td>Diffusion Models for Video Generation</td>\n",
       "      <td>https://lilianweng.github.io/posts/2024-04-12-...</td>\n",
       "      <td>TheAlchemist</td>\n",
       "      <td>2</td>\n",
       "      <td>[diffusion, model, video, generation, lillog, ...</td>\n",
       "      <td>[diffusion, model, video, generation]</td>\n",
       "      <td>2373</td>\n",
       "      <td>github</td>\n",
       "      <td>diffusion model video generation lillog diffus...</td>\n",
       "      <td>{'10': 0.00961120365349481, '11': 0.0074001447...</td>\n",
       "    </tr>\n",
       "  </tbody>\n",
       "</table>\n",
       "</div>"
      ],
      "text/plain": [
       "           aid  comments                 domain  frontpage  \\\n",
       "1138  40150143         0       guruwebtools.com      False   \n",
       "3068  40261475         0            nytimes.com      False   \n",
       "79    39989998         0                bls.gov      False   \n",
       "2414  40113007         0  talosintelligence.com      False   \n",
       "272   40059822         0   lilianweng.github.io      False   \n",
       "\n",
       "                posted_at                                        source_text  \\\n",
       "1138  2024-04-24 21:48:34  100% Free AI SEO Tools » GuruWebTools.com\\n\\n ...   \n",
       "3068  2024-05-05 00:42:10  Opinion | 2024 Was the Year That Broke College...   \n",
       "79    2024-04-10 12:36:04  Access Denied\\n\\n# Bureau of Labor Statistics\\...   \n",
       "2414  2024-04-22 10:36:05  What’s the deal with the massive backlog of vu...   \n",
       "272   2024-04-17 02:33:37  Diffusion Models for Video Generation | Lil'Lo...   \n",
       "\n",
       "                                           source_title  \\\n",
       "1138                             100% Free AI SEO Tools   \n",
       "3068  Opinion | This Is Peak College Admissions Insa...   \n",
       "79                                        Access Denied   \n",
       "2414  What’s the deal with the massive backlog of vu...   \n",
       "272               Diffusion Models for Video Generation   \n",
       "\n",
       "                                                  title  \\\n",
       "1138              Show HN: Free AI SEO online web tools   \n",
       "3068                   Peak College Admissions Insanity   \n",
       "79    CPI for all items rose 0.4% in March; shelter ...   \n",
       "2414  What's the deal with the backlog of vulnerabil...   \n",
       "272               Diffusion Models for Video Generation   \n",
       "\n",
       "                                                    url          user  votes  \\\n",
       "1138                           https://guruwebtools.com       dewblue      2   \n",
       "3068  https://www.nytimes.com/2024/05/01/opinion/col...       mooreds      2   \n",
       "79    https://www.bls.gov/news.release/archives/cpi_...    impish9208      3   \n",
       "2414  https://blog.talosintelligence.com/nvd-vulnera...       skilled      2   \n",
       "272   https://lilianweng.github.io/posts/2024-04-12-...  TheAlchemist      2   \n",
       "\n",
       "                                      clean_source_text  \\\n",
       "1138  [100, free, ai, seo, tool, guruwebtoolscom, ho...   \n",
       "3068  [opinion, 2024, year, broke, college, admissio...   \n",
       "79    [access, denied, bureau, labor, statistic, acc...   \n",
       "2414  [whats, deal, massive, backlog, vulnerability,...   \n",
       "272   [diffusion, model, video, generation, lillog, ...   \n",
       "\n",
       "                                   clean_source_title  word_count  \\\n",
       "1138     [show, hn, free, ai, seo, online, web, tool]        6599   \n",
       "3068             [peak, college, admission, insanity]        4672   \n",
       "79    [cpi, item, rose, 04, march, shelter, gasoline]          52   \n",
       "2414       [whats, deal, backlog, vulnerability, nvd]         897   \n",
       "272             [diffusion, model, video, generation]        2373   \n",
       "\n",
       "            domain_name                                  tfidf_source_text  \\\n",
       "1138       guruwebtools  100 free ai seo tool guruwebtoolscom home blog...   \n",
       "3068            nytimes  opinion 2024 year broke college admission new ...   \n",
       "79                  bls  access denied bureau labor statistic access de...   \n",
       "2414  talosintelligence  whats deal massive backlog vulnerability nvd c...   \n",
       "272              github  diffusion model video generation lillog diffus...   \n",
       "\n",
       "                                           TFIDF_Scores  \n",
       "1138  {'100': 0.0024351725160512597, '120': 0.001480...  \n",
       "3068  {'100': 0.0038164317406213064, '1001': 0.00886...  \n",
       "79    {'06c01100217127558003de4be81': 0.225210034171...  \n",
       "2414  {'0800': 0.06760523212918257, '10': 0.01553280...  \n",
       "272   {'10': 0.00961120365349481, '11': 0.0074001447...  "
      ]
     },
     "execution_count": 53,
     "metadata": {},
     "output_type": "execute_result"
    }
   ],
   "source": [
    "#test set TF-IDF score\n",
    "test_df['tfidf_source_text'] = test_df['clean_source_text'].apply(lambda x: ' '.join(x))\n",
    "\n",
    "tfidf_vectorizer = TfidfVectorizer()\n",
    "\n",
    "tfidf_matrix = tfidf_vectorizer.fit_transform(test_df['tfidf_source_text'])\n",
    "\n",
    "features = tfidf_vectorizer.get_feature_names_out()\n",
    "\n",
    "# create a dictionary of TF-IDF scores for each row instead of a matrix\n",
    "def get_tfidf_dict(row_index):\n",
    "    row = tfidf_matrix[row_index].toarray()[0]\n",
    "    \n",
    "    tfidf_dict = {features[i]: row[i] for i in range(len(row)) if row[i] > 0}\n",
    "    return tfidf_dict\n",
    "\n",
    "test_df['TFIDF_Scores'] = [get_tfidf_dict(i) for i in range(tfidf_matrix.shape[0])]\n",
    "\n",
    "test_df.head()\n"
   ]
  },
  {
   "cell_type": "markdown",
   "metadata": {},
   "source": [
    "# Sentiment Score Based On Source Text"
   ]
  },
  {
   "cell_type": "code",
   "execution_count": 54,
   "metadata": {},
   "outputs": [],
   "source": [
    "train_df['clean_source_text_sentence'] = train_df['clean_source_text'].apply(lambda words: ' '.join(words))"
   ]
  },
  {
   "cell_type": "code",
   "execution_count": 55,
   "metadata": {},
   "outputs": [],
   "source": [
    "#calculate the sentiment score for each row and then aggregate the scores for each word into one single score - compound score\n",
    "from vaderSentiment.vaderSentiment import SentimentIntensityAnalyzer\n",
    "\n",
    "analyzer = SentimentIntensityAnalyzer()\n",
    "\n",
    "train_df['sentiment'] = train_df['clean_source_text_sentence'].apply(lambda sentence: analyzer.polarity_scores(sentence))"
   ]
  },
  {
   "cell_type": "code",
   "execution_count": 56,
   "metadata": {},
   "outputs": [],
   "source": [
    "train_df['compound_score'] = train_df['sentiment'].apply(lambda x: x['compound'])"
   ]
  },
  {
   "cell_type": "code",
   "execution_count": 57,
   "metadata": {},
   "outputs": [
    {
     "data": {
      "text/html": [
       "<div>\n",
       "<style scoped>\n",
       "    .dataframe tbody tr th:only-of-type {\n",
       "        vertical-align: middle;\n",
       "    }\n",
       "\n",
       "    .dataframe tbody tr th {\n",
       "        vertical-align: top;\n",
       "    }\n",
       "\n",
       "    .dataframe thead th {\n",
       "        text-align: right;\n",
       "    }\n",
       "</style>\n",
       "<table border=\"1\" class=\"dataframe\">\n",
       "  <thead>\n",
       "    <tr style=\"text-align: right;\">\n",
       "      <th></th>\n",
       "      <th>aid</th>\n",
       "      <th>comments</th>\n",
       "      <th>domain</th>\n",
       "      <th>frontpage</th>\n",
       "      <th>posted_at</th>\n",
       "      <th>source_text</th>\n",
       "      <th>source_title</th>\n",
       "      <th>title</th>\n",
       "      <th>url</th>\n",
       "      <th>user</th>\n",
       "      <th>votes</th>\n",
       "      <th>clean_source_text</th>\n",
       "      <th>clean_source_title</th>\n",
       "      <th>word_count</th>\n",
       "      <th>domain_name</th>\n",
       "      <th>tfidf_source_text</th>\n",
       "      <th>TFIDF_Scores</th>\n",
       "      <th>clean_source_text_sentence</th>\n",
       "      <th>sentiment</th>\n",
       "      <th>compound_score</th>\n",
       "    </tr>\n",
       "  </thead>\n",
       "  <tbody>\n",
       "    <tr>\n",
       "      <th>2012</th>\n",
       "      <td>40074351</td>\n",
       "      <td>0</td>\n",
       "      <td>ai-gen.blog</td>\n",
       "      <td>False</td>\n",
       "      <td>2024-04-18 09:18:06</td>\n",
       "      <td>AI-gen Blog - AI Powered Content, Reimagined b...</td>\n",
       "      <td>Is Reading Your Mind Possible? New AI Research...</td>\n",
       "      <td>Is Reading Your Mind Possible? New AI Research...</td>\n",
       "      <td>https://www.ai-gen.blog/2024/04/is-reading-you...</td>\n",
       "      <td>nowhereai</td>\n",
       "      <td>3</td>\n",
       "      <td>[aigen, blog, ai, powered, content, reimagined...</td>\n",
       "      <td>[reading, mind, possible, new, ai, research, d...</td>\n",
       "      <td>540</td>\n",
       "      <td>ai-gen</td>\n",
       "      <td>aigen blog ai powered content reimagined human...</td>\n",
       "      <td>{'11': 0.01657256444457039, '13': 0.0179734072...</td>\n",
       "      <td>aigen blog ai powered content reimagined human...</td>\n",
       "      <td>{'neg': 0.033, 'neu': 0.82, 'pos': 0.147, 'com...</td>\n",
       "      <td>0.9957</td>\n",
       "    </tr>\n",
       "    <tr>\n",
       "      <th>391</th>\n",
       "      <td>40071820</td>\n",
       "      <td>0</td>\n",
       "      <td>ncatlab.org</td>\n",
       "      <td>False</td>\n",
       "      <td>2024-04-18 00:50:22</td>\n",
       "      <td>Standard Conjectures on Algebraic Cycles in nL...</td>\n",
       "      <td>Standard Conjectures on Algebraic Cycles in nLab</td>\n",
       "      <td>Standard Conjectures on Algebraic Cycles</td>\n",
       "      <td>https://ncatlab.org/nlab/show/Standard+Conject...</td>\n",
       "      <td>gone35</td>\n",
       "      <td>1</td>\n",
       "      <td>[standard, conjecture, algebraic, cycle, nlab,...</td>\n",
       "      <td>[standard, conjecture, algebraic, cycle]</td>\n",
       "      <td>652</td>\n",
       "      <td>ncatlab</td>\n",
       "      <td>standard conjecture algebraic cycle nlab nlab ...</td>\n",
       "      <td>{'14': 0.004913113157741634, '145234': 0.01644...</td>\n",
       "      <td>standard conjecture algebraic cycle nlab nlab ...</td>\n",
       "      <td>{'neg': 0.009, 'neu': 0.955, 'pos': 0.037, 'co...</td>\n",
       "      <td>0.9590</td>\n",
       "    </tr>\n",
       "    <tr>\n",
       "      <th>2051</th>\n",
       "      <td>40092209</td>\n",
       "      <td>0</td>\n",
       "      <td>nytimes.com</td>\n",
       "      <td>False</td>\n",
       "      <td>2024-04-19 21:38:52</td>\n",
       "      <td>Daniel C. Dennett, Widely Read and Fiercely De...</td>\n",
       "      <td>Daniel C. Dennett, Widely Read and Fiercely De...</td>\n",
       "      <td>Daniel C. Dennett, Widely Read and Fiercely De...</td>\n",
       "      <td>https://www.nytimes.com/2024/04/19/books/danie...</td>\n",
       "      <td>wjb3</td>\n",
       "      <td>1</td>\n",
       "      <td>[daniel, c, dennett, widely, read, fiercely, d...</td>\n",
       "      <td>[daniel, c, dennett, widely, read, fiercely, d...</td>\n",
       "      <td>2591</td>\n",
       "      <td>nytimes</td>\n",
       "      <td>daniel c dennett widely read fiercely debated ...</td>\n",
       "      <td>{'050week': 0.0093295782345452, '050weeklog': ...</td>\n",
       "      <td>daniel c dennett widely read fiercely debated ...</td>\n",
       "      <td>{'neg': 0.034, 'neu': 0.819, 'pos': 0.147, 'co...</td>\n",
       "      <td>0.9998</td>\n",
       "    </tr>\n",
       "    <tr>\n",
       "      <th>1373</th>\n",
       "      <td>40230259</td>\n",
       "      <td>0</td>\n",
       "      <td>venturebeat.com</td>\n",
       "      <td>False</td>\n",
       "      <td>2024-05-01 22:16:07</td>\n",
       "      <td>Just a moment...\\n\\n# venturebeat.com\\n\\n## Ve...</td>\n",
       "      <td>Just a moment...</td>\n",
       "      <td>Unity announces another new CEO: ex-Zynga exec...</td>\n",
       "      <td>https://venturebeat.com/games/unity-appoints-e...</td>\n",
       "      <td>doomlaser</td>\n",
       "      <td>2</td>\n",
       "      <td>[moment, venturebeatcom, verifying, human, may...</td>\n",
       "      <td>[unity, announces, another, new, ceo, exzynga,...</td>\n",
       "      <td>24</td>\n",
       "      <td>venturebeat</td>\n",
       "      <td>moment venturebeatcom verifying human may take...</td>\n",
       "      <td>{'87d3d659eb255c14': 0.2800287836542828, 'clou...</td>\n",
       "      <td>moment venturebeatcom verifying human may take...</td>\n",
       "      <td>{'neg': 0.0, 'neu': 0.709, 'pos': 0.291, 'comp...</td>\n",
       "      <td>0.8225</td>\n",
       "    </tr>\n",
       "    <tr>\n",
       "      <th>2341</th>\n",
       "      <td>40111043</td>\n",
       "      <td>0</td>\n",
       "      <td>spectator.co.uk</td>\n",
       "      <td>False</td>\n",
       "      <td>2024-04-22 02:45:07</td>\n",
       "      <td>Richard Dawkins: in defence of scientific trut...</td>\n",
       "      <td>Richard Dawkins: in defence of scientific truth</td>\n",
       "      <td>Richard Dawkins: in defence of scientific truth</td>\n",
       "      <td>https://www.spectator.co.uk/article/richard-da...</td>\n",
       "      <td>underseacables</td>\n",
       "      <td>2</td>\n",
       "      <td>[richard, dawkins, defence, scientific, truth,...</td>\n",
       "      <td>[richard, dawkins, defence, scientific, truth]</td>\n",
       "      <td>954</td>\n",
       "      <td>co</td>\n",
       "      <td>richard dawkins defence scientific truth spect...</td>\n",
       "      <td>{'01': 0.016747326405612474, '2013': 0.0163600...</td>\n",
       "      <td>richard dawkins defence scientific truth spect...</td>\n",
       "      <td>{'neg': 0.113, 'neu': 0.7, 'pos': 0.187, 'comp...</td>\n",
       "      <td>0.9969</td>\n",
       "    </tr>\n",
       "  </tbody>\n",
       "</table>\n",
       "</div>"
      ],
      "text/plain": [
       "           aid  comments           domain  frontpage            posted_at  \\\n",
       "2012  40074351         0      ai-gen.blog      False  2024-04-18 09:18:06   \n",
       "391   40071820         0      ncatlab.org      False  2024-04-18 00:50:22   \n",
       "2051  40092209         0      nytimes.com      False  2024-04-19 21:38:52   \n",
       "1373  40230259         0  venturebeat.com      False  2024-05-01 22:16:07   \n",
       "2341  40111043         0  spectator.co.uk      False  2024-04-22 02:45:07   \n",
       "\n",
       "                                            source_text  \\\n",
       "2012  AI-gen Blog - AI Powered Content, Reimagined b...   \n",
       "391   Standard Conjectures on Algebraic Cycles in nL...   \n",
       "2051  Daniel C. Dennett, Widely Read and Fiercely De...   \n",
       "1373  Just a moment...\\n\\n# venturebeat.com\\n\\n## Ve...   \n",
       "2341  Richard Dawkins: in defence of scientific trut...   \n",
       "\n",
       "                                           source_title  \\\n",
       "2012  Is Reading Your Mind Possible? New AI Research...   \n",
       "391    Standard Conjectures on Algebraic Cycles in nLab   \n",
       "2051  Daniel C. Dennett, Widely Read and Fiercely De...   \n",
       "1373                                   Just a moment...   \n",
       "2341    Richard Dawkins: in defence of scientific truth   \n",
       "\n",
       "                                                  title  \\\n",
       "2012  Is Reading Your Mind Possible? New AI Research...   \n",
       "391            Standard Conjectures on Algebraic Cycles   \n",
       "2051  Daniel C. Dennett, Widely Read and Fiercely De...   \n",
       "1373  Unity announces another new CEO: ex-Zynga exec...   \n",
       "2341    Richard Dawkins: in defence of scientific truth   \n",
       "\n",
       "                                                    url            user  \\\n",
       "2012  https://www.ai-gen.blog/2024/04/is-reading-you...       nowhereai   \n",
       "391   https://ncatlab.org/nlab/show/Standard+Conject...          gone35   \n",
       "2051  https://www.nytimes.com/2024/04/19/books/danie...            wjb3   \n",
       "1373  https://venturebeat.com/games/unity-appoints-e...       doomlaser   \n",
       "2341  https://www.spectator.co.uk/article/richard-da...  underseacables   \n",
       "\n",
       "      votes                                  clean_source_text  \\\n",
       "2012      3  [aigen, blog, ai, powered, content, reimagined...   \n",
       "391       1  [standard, conjecture, algebraic, cycle, nlab,...   \n",
       "2051      1  [daniel, c, dennett, widely, read, fiercely, d...   \n",
       "1373      2  [moment, venturebeatcom, verifying, human, may...   \n",
       "2341      2  [richard, dawkins, defence, scientific, truth,...   \n",
       "\n",
       "                                     clean_source_title  word_count  \\\n",
       "2012  [reading, mind, possible, new, ai, research, d...         540   \n",
       "391            [standard, conjecture, algebraic, cycle]         652   \n",
       "2051  [daniel, c, dennett, widely, read, fiercely, d...        2591   \n",
       "1373  [unity, announces, another, new, ceo, exzynga,...          24   \n",
       "2341     [richard, dawkins, defence, scientific, truth]         954   \n",
       "\n",
       "      domain_name                                  tfidf_source_text  \\\n",
       "2012       ai-gen  aigen blog ai powered content reimagined human...   \n",
       "391       ncatlab  standard conjecture algebraic cycle nlab nlab ...   \n",
       "2051      nytimes  daniel c dennett widely read fiercely debated ...   \n",
       "1373  venturebeat  moment venturebeatcom verifying human may take...   \n",
       "2341           co  richard dawkins defence scientific truth spect...   \n",
       "\n",
       "                                           TFIDF_Scores  \\\n",
       "2012  {'11': 0.01657256444457039, '13': 0.0179734072...   \n",
       "391   {'14': 0.004913113157741634, '145234': 0.01644...   \n",
       "2051  {'050week': 0.0093295782345452, '050weeklog': ...   \n",
       "1373  {'87d3d659eb255c14': 0.2800287836542828, 'clou...   \n",
       "2341  {'01': 0.016747326405612474, '2013': 0.0163600...   \n",
       "\n",
       "                             clean_source_text_sentence  \\\n",
       "2012  aigen blog ai powered content reimagined human...   \n",
       "391   standard conjecture algebraic cycle nlab nlab ...   \n",
       "2051  daniel c dennett widely read fiercely debated ...   \n",
       "1373  moment venturebeatcom verifying human may take...   \n",
       "2341  richard dawkins defence scientific truth spect...   \n",
       "\n",
       "                                              sentiment  compound_score  \n",
       "2012  {'neg': 0.033, 'neu': 0.82, 'pos': 0.147, 'com...          0.9957  \n",
       "391   {'neg': 0.009, 'neu': 0.955, 'pos': 0.037, 'co...          0.9590  \n",
       "2051  {'neg': 0.034, 'neu': 0.819, 'pos': 0.147, 'co...          0.9998  \n",
       "1373  {'neg': 0.0, 'neu': 0.709, 'pos': 0.291, 'comp...          0.8225  \n",
       "2341  {'neg': 0.113, 'neu': 0.7, 'pos': 0.187, 'comp...          0.9969  "
      ]
     },
     "execution_count": 57,
     "metadata": {},
     "output_type": "execute_result"
    }
   ],
   "source": [
    "train_df.head()"
   ]
  },
  {
   "cell_type": "code",
   "execution_count": 58,
   "metadata": {},
   "outputs": [],
   "source": [
    "test_df['clean_source_text_sentence'] = test_df['clean_source_text'].apply(lambda words: ' '.join(words))"
   ]
  },
  {
   "cell_type": "code",
   "execution_count": 59,
   "metadata": {},
   "outputs": [],
   "source": [
    "analyzer = SentimentIntensityAnalyzer()\n",
    "\n",
    "test_df['sentiment'] = test_df['clean_source_text_sentence'].apply(lambda sentence: analyzer.polarity_scores(sentence))"
   ]
  },
  {
   "cell_type": "code",
   "execution_count": 60,
   "metadata": {},
   "outputs": [],
   "source": [
    "test_df['compound_score'] = test_df['sentiment'].apply(lambda x: x['compound'])"
   ]
  },
  {
   "cell_type": "code",
   "execution_count": 61,
   "metadata": {},
   "outputs": [
    {
     "data": {
      "text/html": [
       "<div>\n",
       "<style scoped>\n",
       "    .dataframe tbody tr th:only-of-type {\n",
       "        vertical-align: middle;\n",
       "    }\n",
       "\n",
       "    .dataframe tbody tr th {\n",
       "        vertical-align: top;\n",
       "    }\n",
       "\n",
       "    .dataframe thead th {\n",
       "        text-align: right;\n",
       "    }\n",
       "</style>\n",
       "<table border=\"1\" class=\"dataframe\">\n",
       "  <thead>\n",
       "    <tr style=\"text-align: right;\">\n",
       "      <th></th>\n",
       "      <th>aid</th>\n",
       "      <th>comments</th>\n",
       "      <th>domain</th>\n",
       "      <th>frontpage</th>\n",
       "      <th>posted_at</th>\n",
       "      <th>source_text</th>\n",
       "      <th>source_title</th>\n",
       "      <th>title</th>\n",
       "      <th>url</th>\n",
       "      <th>user</th>\n",
       "      <th>votes</th>\n",
       "      <th>clean_source_text</th>\n",
       "      <th>clean_source_title</th>\n",
       "      <th>word_count</th>\n",
       "      <th>domain_name</th>\n",
       "      <th>tfidf_source_text</th>\n",
       "      <th>TFIDF_Scores</th>\n",
       "      <th>clean_source_text_sentence</th>\n",
       "      <th>sentiment</th>\n",
       "      <th>compound_score</th>\n",
       "    </tr>\n",
       "  </thead>\n",
       "  <tbody>\n",
       "    <tr>\n",
       "      <th>1138</th>\n",
       "      <td>40150143</td>\n",
       "      <td>0</td>\n",
       "      <td>guruwebtools.com</td>\n",
       "      <td>False</td>\n",
       "      <td>2024-04-24 21:48:34</td>\n",
       "      <td>100% Free AI SEO Tools » GuruWebTools.com\\n\\n ...</td>\n",
       "      <td>100% Free AI SEO Tools</td>\n",
       "      <td>Show HN: Free AI SEO online web tools</td>\n",
       "      <td>https://guruwebtools.com</td>\n",
       "      <td>dewblue</td>\n",
       "      <td>2</td>\n",
       "      <td>[100, free, ai, seo, tool, guruwebtoolscom, ho...</td>\n",
       "      <td>[show, hn, free, ai, seo, online, web, tool]</td>\n",
       "      <td>6599</td>\n",
       "      <td>guruwebtools</td>\n",
       "      <td>100 free ai seo tool guruwebtoolscom home blog...</td>\n",
       "      <td>{'100': 0.0024351725160512597, '120': 0.001480...</td>\n",
       "      <td>100 free ai seo tool guruwebtoolscom home blog...</td>\n",
       "      <td>{'neg': 0.008, 'neu': 0.946, 'pos': 0.046, 'co...</td>\n",
       "      <td>0.9997</td>\n",
       "    </tr>\n",
       "    <tr>\n",
       "      <th>3068</th>\n",
       "      <td>40261475</td>\n",
       "      <td>0</td>\n",
       "      <td>nytimes.com</td>\n",
       "      <td>False</td>\n",
       "      <td>2024-05-05 00:42:10</td>\n",
       "      <td>Opinion | 2024 Was the Year That Broke College...</td>\n",
       "      <td>Opinion | This Is Peak College Admissions Insa...</td>\n",
       "      <td>Peak College Admissions Insanity</td>\n",
       "      <td>https://www.nytimes.com/2024/05/01/opinion/col...</td>\n",
       "      <td>mooreds</td>\n",
       "      <td>2</td>\n",
       "      <td>[opinion, 2024, year, broke, college, admissio...</td>\n",
       "      <td>[peak, college, admission, insanity]</td>\n",
       "      <td>4672</td>\n",
       "      <td>nytimes</td>\n",
       "      <td>opinion 2024 year broke college admission new ...</td>\n",
       "      <td>{'100': 0.0038164317406213064, '1001': 0.00886...</td>\n",
       "      <td>opinion 2024 year broke college admission new ...</td>\n",
       "      <td>{'neg': 0.054, 'neu': 0.792, 'pos': 0.154, 'co...</td>\n",
       "      <td>0.9999</td>\n",
       "    </tr>\n",
       "    <tr>\n",
       "      <th>79</th>\n",
       "      <td>39989998</td>\n",
       "      <td>0</td>\n",
       "      <td>bls.gov</td>\n",
       "      <td>False</td>\n",
       "      <td>2024-04-10 12:36:04</td>\n",
       "      <td>Access Denied\\n\\n# Bureau of Labor Statistics\\...</td>\n",
       "      <td>Access Denied</td>\n",
       "      <td>CPI for all items rose 0.4% in March; shelter ...</td>\n",
       "      <td>https://www.bls.gov/news.release/archives/cpi_...</td>\n",
       "      <td>impish9208</td>\n",
       "      <td>3</td>\n",
       "      <td>[access, denied, bureau, labor, statistic, acc...</td>\n",
       "      <td>[cpi, item, rose, 04, march, shelter, gasoline]</td>\n",
       "      <td>52</td>\n",
       "      <td>bls</td>\n",
       "      <td>access denied bureau labor statistic access de...</td>\n",
       "      <td>{'06c01100217127558003de4be81': 0.225210034171...</td>\n",
       "      <td>access denied bureau labor statistic access de...</td>\n",
       "      <td>{'neg': 0.242, 'neu': 0.635, 'pos': 0.123, 'co...</td>\n",
       "      <td>-0.8360</td>\n",
       "    </tr>\n",
       "    <tr>\n",
       "      <th>2414</th>\n",
       "      <td>40113007</td>\n",
       "      <td>0</td>\n",
       "      <td>talosintelligence.com</td>\n",
       "      <td>False</td>\n",
       "      <td>2024-04-22 10:36:05</td>\n",
       "      <td>What’s the deal with the massive backlog of vu...</td>\n",
       "      <td>What’s the deal with the massive backlog of vu...</td>\n",
       "      <td>What's the deal with the backlog of vulnerabil...</td>\n",
       "      <td>https://blog.talosintelligence.com/nvd-vulnera...</td>\n",
       "      <td>skilled</td>\n",
       "      <td>2</td>\n",
       "      <td>[whats, deal, massive, backlog, vulnerability,...</td>\n",
       "      <td>[whats, deal, backlog, vulnerability, nvd]</td>\n",
       "      <td>897</td>\n",
       "      <td>talosintelligence</td>\n",
       "      <td>whats deal massive backlog vulnerability nvd c...</td>\n",
       "      <td>{'0800': 0.06760523212918257, '10': 0.01553280...</td>\n",
       "      <td>whats deal massive backlog vulnerability nvd c...</td>\n",
       "      <td>{'neg': 0.154, 'neu': 0.685, 'pos': 0.161, 'co...</td>\n",
       "      <td>0.8998</td>\n",
       "    </tr>\n",
       "    <tr>\n",
       "      <th>272</th>\n",
       "      <td>40059822</td>\n",
       "      <td>0</td>\n",
       "      <td>lilianweng.github.io</td>\n",
       "      <td>False</td>\n",
       "      <td>2024-04-17 02:33:37</td>\n",
       "      <td>Diffusion Models for Video Generation | Lil'Lo...</td>\n",
       "      <td>Diffusion Models for Video Generation</td>\n",
       "      <td>Diffusion Models for Video Generation</td>\n",
       "      <td>https://lilianweng.github.io/posts/2024-04-12-...</td>\n",
       "      <td>TheAlchemist</td>\n",
       "      <td>2</td>\n",
       "      <td>[diffusion, model, video, generation, lillog, ...</td>\n",
       "      <td>[diffusion, model, video, generation]</td>\n",
       "      <td>2373</td>\n",
       "      <td>github</td>\n",
       "      <td>diffusion model video generation lillog diffus...</td>\n",
       "      <td>{'10': 0.00961120365349481, '11': 0.0074001447...</td>\n",
       "      <td>diffusion model video generation lillog diffus...</td>\n",
       "      <td>{'neg': 0.034, 'neu': 0.914, 'pos': 0.051, 'co...</td>\n",
       "      <td>0.9872</td>\n",
       "    </tr>\n",
       "  </tbody>\n",
       "</table>\n",
       "</div>"
      ],
      "text/plain": [
       "           aid  comments                 domain  frontpage  \\\n",
       "1138  40150143         0       guruwebtools.com      False   \n",
       "3068  40261475         0            nytimes.com      False   \n",
       "79    39989998         0                bls.gov      False   \n",
       "2414  40113007         0  talosintelligence.com      False   \n",
       "272   40059822         0   lilianweng.github.io      False   \n",
       "\n",
       "                posted_at                                        source_text  \\\n",
       "1138  2024-04-24 21:48:34  100% Free AI SEO Tools » GuruWebTools.com\\n\\n ...   \n",
       "3068  2024-05-05 00:42:10  Opinion | 2024 Was the Year That Broke College...   \n",
       "79    2024-04-10 12:36:04  Access Denied\\n\\n# Bureau of Labor Statistics\\...   \n",
       "2414  2024-04-22 10:36:05  What’s the deal with the massive backlog of vu...   \n",
       "272   2024-04-17 02:33:37  Diffusion Models for Video Generation | Lil'Lo...   \n",
       "\n",
       "                                           source_title  \\\n",
       "1138                             100% Free AI SEO Tools   \n",
       "3068  Opinion | This Is Peak College Admissions Insa...   \n",
       "79                                        Access Denied   \n",
       "2414  What’s the deal with the massive backlog of vu...   \n",
       "272               Diffusion Models for Video Generation   \n",
       "\n",
       "                                                  title  \\\n",
       "1138              Show HN: Free AI SEO online web tools   \n",
       "3068                   Peak College Admissions Insanity   \n",
       "79    CPI for all items rose 0.4% in March; shelter ...   \n",
       "2414  What's the deal with the backlog of vulnerabil...   \n",
       "272               Diffusion Models for Video Generation   \n",
       "\n",
       "                                                    url          user  votes  \\\n",
       "1138                           https://guruwebtools.com       dewblue      2   \n",
       "3068  https://www.nytimes.com/2024/05/01/opinion/col...       mooreds      2   \n",
       "79    https://www.bls.gov/news.release/archives/cpi_...    impish9208      3   \n",
       "2414  https://blog.talosintelligence.com/nvd-vulnera...       skilled      2   \n",
       "272   https://lilianweng.github.io/posts/2024-04-12-...  TheAlchemist      2   \n",
       "\n",
       "                                      clean_source_text  \\\n",
       "1138  [100, free, ai, seo, tool, guruwebtoolscom, ho...   \n",
       "3068  [opinion, 2024, year, broke, college, admissio...   \n",
       "79    [access, denied, bureau, labor, statistic, acc...   \n",
       "2414  [whats, deal, massive, backlog, vulnerability,...   \n",
       "272   [diffusion, model, video, generation, lillog, ...   \n",
       "\n",
       "                                   clean_source_title  word_count  \\\n",
       "1138     [show, hn, free, ai, seo, online, web, tool]        6599   \n",
       "3068             [peak, college, admission, insanity]        4672   \n",
       "79    [cpi, item, rose, 04, march, shelter, gasoline]          52   \n",
       "2414       [whats, deal, backlog, vulnerability, nvd]         897   \n",
       "272             [diffusion, model, video, generation]        2373   \n",
       "\n",
       "            domain_name                                  tfidf_source_text  \\\n",
       "1138       guruwebtools  100 free ai seo tool guruwebtoolscom home blog...   \n",
       "3068            nytimes  opinion 2024 year broke college admission new ...   \n",
       "79                  bls  access denied bureau labor statistic access de...   \n",
       "2414  talosintelligence  whats deal massive backlog vulnerability nvd c...   \n",
       "272              github  diffusion model video generation lillog diffus...   \n",
       "\n",
       "                                           TFIDF_Scores  \\\n",
       "1138  {'100': 0.0024351725160512597, '120': 0.001480...   \n",
       "3068  {'100': 0.0038164317406213064, '1001': 0.00886...   \n",
       "79    {'06c01100217127558003de4be81': 0.225210034171...   \n",
       "2414  {'0800': 0.06760523212918257, '10': 0.01553280...   \n",
       "272   {'10': 0.00961120365349481, '11': 0.0074001447...   \n",
       "\n",
       "                             clean_source_text_sentence  \\\n",
       "1138  100 free ai seo tool guruwebtoolscom home blog...   \n",
       "3068  opinion 2024 year broke college admission new ...   \n",
       "79    access denied bureau labor statistic access de...   \n",
       "2414  whats deal massive backlog vulnerability nvd c...   \n",
       "272   diffusion model video generation lillog diffus...   \n",
       "\n",
       "                                              sentiment  compound_score  \n",
       "1138  {'neg': 0.008, 'neu': 0.946, 'pos': 0.046, 'co...          0.9997  \n",
       "3068  {'neg': 0.054, 'neu': 0.792, 'pos': 0.154, 'co...          0.9999  \n",
       "79    {'neg': 0.242, 'neu': 0.635, 'pos': 0.123, 'co...         -0.8360  \n",
       "2414  {'neg': 0.154, 'neu': 0.685, 'pos': 0.161, 'co...          0.8998  \n",
       "272   {'neg': 0.034, 'neu': 0.914, 'pos': 0.051, 'co...          0.9872  "
      ]
     },
     "execution_count": 61,
     "metadata": {},
     "output_type": "execute_result"
    }
   ],
   "source": [
    "test_df.head()"
   ]
  },
  {
   "cell_type": "markdown",
   "metadata": {},
   "source": [
    "# Normalization"
   ]
  },
  {
   "cell_type": "markdown",
   "metadata": {},
   "source": [
    "Normalization is only applied to the dependent variable column \"frontpage\" as it is in boolean format. The rest of the values are left in their original numerical form."
   ]
  },
  {
   "cell_type": "code",
   "execution_count": 62,
   "metadata": {},
   "outputs": [],
   "source": [
    "train_df = train_df.drop(columns=['aid', 'domain', 'posted_at', 'source_text', 'source_title', 'title', 'url', 'clean_source_text', 'clean_source_title', 'tfidf_source_text', 'clean_source_text_sentence', 'sentiment'])"
   ]
  },
  {
   "cell_type": "code",
   "execution_count": 63,
   "metadata": {},
   "outputs": [
    {
     "data": {
      "text/html": [
       "<div>\n",
       "<style scoped>\n",
       "    .dataframe tbody tr th:only-of-type {\n",
       "        vertical-align: middle;\n",
       "    }\n",
       "\n",
       "    .dataframe tbody tr th {\n",
       "        vertical-align: top;\n",
       "    }\n",
       "\n",
       "    .dataframe thead th {\n",
       "        text-align: right;\n",
       "    }\n",
       "</style>\n",
       "<table border=\"1\" class=\"dataframe\">\n",
       "  <thead>\n",
       "    <tr style=\"text-align: right;\">\n",
       "      <th></th>\n",
       "      <th>comments</th>\n",
       "      <th>frontpage</th>\n",
       "      <th>user</th>\n",
       "      <th>votes</th>\n",
       "      <th>word_count</th>\n",
       "      <th>domain_name</th>\n",
       "      <th>TFIDF_Scores</th>\n",
       "      <th>compound_score</th>\n",
       "    </tr>\n",
       "  </thead>\n",
       "  <tbody>\n",
       "    <tr>\n",
       "      <th>2012</th>\n",
       "      <td>0</td>\n",
       "      <td>False</td>\n",
       "      <td>nowhereai</td>\n",
       "      <td>3</td>\n",
       "      <td>540</td>\n",
       "      <td>ai-gen</td>\n",
       "      <td>{'11': 0.01657256444457039, '13': 0.0179734072...</td>\n",
       "      <td>0.9957</td>\n",
       "    </tr>\n",
       "    <tr>\n",
       "      <th>391</th>\n",
       "      <td>0</td>\n",
       "      <td>False</td>\n",
       "      <td>gone35</td>\n",
       "      <td>1</td>\n",
       "      <td>652</td>\n",
       "      <td>ncatlab</td>\n",
       "      <td>{'14': 0.004913113157741634, '145234': 0.01644...</td>\n",
       "      <td>0.9590</td>\n",
       "    </tr>\n",
       "    <tr>\n",
       "      <th>2051</th>\n",
       "      <td>0</td>\n",
       "      <td>False</td>\n",
       "      <td>wjb3</td>\n",
       "      <td>1</td>\n",
       "      <td>2591</td>\n",
       "      <td>nytimes</td>\n",
       "      <td>{'050week': 0.0093295782345452, '050weeklog': ...</td>\n",
       "      <td>0.9998</td>\n",
       "    </tr>\n",
       "    <tr>\n",
       "      <th>1373</th>\n",
       "      <td>0</td>\n",
       "      <td>False</td>\n",
       "      <td>doomlaser</td>\n",
       "      <td>2</td>\n",
       "      <td>24</td>\n",
       "      <td>venturebeat</td>\n",
       "      <td>{'87d3d659eb255c14': 0.2800287836542828, 'clou...</td>\n",
       "      <td>0.8225</td>\n",
       "    </tr>\n",
       "    <tr>\n",
       "      <th>2341</th>\n",
       "      <td>0</td>\n",
       "      <td>False</td>\n",
       "      <td>underseacables</td>\n",
       "      <td>2</td>\n",
       "      <td>954</td>\n",
       "      <td>co</td>\n",
       "      <td>{'01': 0.016747326405612474, '2013': 0.0163600...</td>\n",
       "      <td>0.9969</td>\n",
       "    </tr>\n",
       "  </tbody>\n",
       "</table>\n",
       "</div>"
      ],
      "text/plain": [
       "      comments  frontpage            user  votes  word_count  domain_name  \\\n",
       "2012         0      False       nowhereai      3         540       ai-gen   \n",
       "391          0      False          gone35      1         652      ncatlab   \n",
       "2051         0      False            wjb3      1        2591      nytimes   \n",
       "1373         0      False       doomlaser      2          24  venturebeat   \n",
       "2341         0      False  underseacables      2         954           co   \n",
       "\n",
       "                                           TFIDF_Scores  compound_score  \n",
       "2012  {'11': 0.01657256444457039, '13': 0.0179734072...          0.9957  \n",
       "391   {'14': 0.004913113157741634, '145234': 0.01644...          0.9590  \n",
       "2051  {'050week': 0.0093295782345452, '050weeklog': ...          0.9998  \n",
       "1373  {'87d3d659eb255c14': 0.2800287836542828, 'clou...          0.8225  \n",
       "2341  {'01': 0.016747326405612474, '2013': 0.0163600...          0.9969  "
      ]
     },
     "execution_count": 63,
     "metadata": {},
     "output_type": "execute_result"
    }
   ],
   "source": [
    "train_df.head()"
   ]
  },
  {
   "cell_type": "code",
   "execution_count": 64,
   "metadata": {},
   "outputs": [],
   "source": [
    "test_df = test_df.drop(columns=['aid', 'domain', 'posted_at', 'source_text', 'source_title', 'title', 'url', 'clean_source_text', 'clean_source_title', 'tfidf_source_text', 'clean_source_text_sentence', 'sentiment'])"
   ]
  },
  {
   "cell_type": "code",
   "execution_count": 65,
   "metadata": {},
   "outputs": [
    {
     "data": {
      "text/html": [
       "<div>\n",
       "<style scoped>\n",
       "    .dataframe tbody tr th:only-of-type {\n",
       "        vertical-align: middle;\n",
       "    }\n",
       "\n",
       "    .dataframe tbody tr th {\n",
       "        vertical-align: top;\n",
       "    }\n",
       "\n",
       "    .dataframe thead th {\n",
       "        text-align: right;\n",
       "    }\n",
       "</style>\n",
       "<table border=\"1\" class=\"dataframe\">\n",
       "  <thead>\n",
       "    <tr style=\"text-align: right;\">\n",
       "      <th></th>\n",
       "      <th>comments</th>\n",
       "      <th>frontpage</th>\n",
       "      <th>user</th>\n",
       "      <th>votes</th>\n",
       "      <th>word_count</th>\n",
       "      <th>domain_name</th>\n",
       "      <th>TFIDF_Scores</th>\n",
       "      <th>compound_score</th>\n",
       "    </tr>\n",
       "  </thead>\n",
       "  <tbody>\n",
       "    <tr>\n",
       "      <th>1138</th>\n",
       "      <td>0</td>\n",
       "      <td>False</td>\n",
       "      <td>dewblue</td>\n",
       "      <td>2</td>\n",
       "      <td>6599</td>\n",
       "      <td>guruwebtools</td>\n",
       "      <td>{'100': 0.0024351725160512597, '120': 0.001480...</td>\n",
       "      <td>0.9997</td>\n",
       "    </tr>\n",
       "    <tr>\n",
       "      <th>3068</th>\n",
       "      <td>0</td>\n",
       "      <td>False</td>\n",
       "      <td>mooreds</td>\n",
       "      <td>2</td>\n",
       "      <td>4672</td>\n",
       "      <td>nytimes</td>\n",
       "      <td>{'100': 0.0038164317406213064, '1001': 0.00886...</td>\n",
       "      <td>0.9999</td>\n",
       "    </tr>\n",
       "    <tr>\n",
       "      <th>79</th>\n",
       "      <td>0</td>\n",
       "      <td>False</td>\n",
       "      <td>impish9208</td>\n",
       "      <td>3</td>\n",
       "      <td>52</td>\n",
       "      <td>bls</td>\n",
       "      <td>{'06c01100217127558003de4be81': 0.225210034171...</td>\n",
       "      <td>-0.8360</td>\n",
       "    </tr>\n",
       "    <tr>\n",
       "      <th>2414</th>\n",
       "      <td>0</td>\n",
       "      <td>False</td>\n",
       "      <td>skilled</td>\n",
       "      <td>2</td>\n",
       "      <td>897</td>\n",
       "      <td>talosintelligence</td>\n",
       "      <td>{'0800': 0.06760523212918257, '10': 0.01553280...</td>\n",
       "      <td>0.8998</td>\n",
       "    </tr>\n",
       "    <tr>\n",
       "      <th>272</th>\n",
       "      <td>0</td>\n",
       "      <td>False</td>\n",
       "      <td>TheAlchemist</td>\n",
       "      <td>2</td>\n",
       "      <td>2373</td>\n",
       "      <td>github</td>\n",
       "      <td>{'10': 0.00961120365349481, '11': 0.0074001447...</td>\n",
       "      <td>0.9872</td>\n",
       "    </tr>\n",
       "  </tbody>\n",
       "</table>\n",
       "</div>"
      ],
      "text/plain": [
       "      comments  frontpage          user  votes  word_count        domain_name  \\\n",
       "1138         0      False       dewblue      2        6599       guruwebtools   \n",
       "3068         0      False       mooreds      2        4672            nytimes   \n",
       "79           0      False    impish9208      3          52                bls   \n",
       "2414         0      False       skilled      2         897  talosintelligence   \n",
       "272          0      False  TheAlchemist      2        2373             github   \n",
       "\n",
       "                                           TFIDF_Scores  compound_score  \n",
       "1138  {'100': 0.0024351725160512597, '120': 0.001480...          0.9997  \n",
       "3068  {'100': 0.0038164317406213064, '1001': 0.00886...          0.9999  \n",
       "79    {'06c01100217127558003de4be81': 0.225210034171...         -0.8360  \n",
       "2414  {'0800': 0.06760523212918257, '10': 0.01553280...          0.8998  \n",
       "272   {'10': 0.00961120365349481, '11': 0.0074001447...          0.9872  "
      ]
     },
     "execution_count": 65,
     "metadata": {},
     "output_type": "execute_result"
    }
   ],
   "source": [
    "test_df.head()"
   ]
  },
  {
   "cell_type": "code",
   "execution_count": 66,
   "metadata": {},
   "outputs": [],
   "source": [
    "from sklearn.preprocessing import MinMaxScaler\n",
    "\n",
    "#columns_to_normalize = ['comments', 'frontpage', 'votes', 'word_count', 'compound_score']\n",
    "columns_to_normalize = ['frontpage']\n",
    "\n",
    "scaler = MinMaxScaler()\n",
    "\n",
    "test_df = test_df.copy()\n",
    "test_df[columns_to_normalize] = scaler.fit_transform(test_df[columns_to_normalize])\n",
    "train_df[columns_to_normalize] = scaler.fit_transform(train_df[columns_to_normalize])"
   ]
  },
  {
   "cell_type": "code",
   "execution_count": 67,
   "metadata": {},
   "outputs": [
    {
     "data": {
      "text/html": [
       "<div>\n",
       "<style scoped>\n",
       "    .dataframe tbody tr th:only-of-type {\n",
       "        vertical-align: middle;\n",
       "    }\n",
       "\n",
       "    .dataframe tbody tr th {\n",
       "        vertical-align: top;\n",
       "    }\n",
       "\n",
       "    .dataframe thead th {\n",
       "        text-align: right;\n",
       "    }\n",
       "</style>\n",
       "<table border=\"1\" class=\"dataframe\">\n",
       "  <thead>\n",
       "    <tr style=\"text-align: right;\">\n",
       "      <th></th>\n",
       "      <th>comments</th>\n",
       "      <th>frontpage</th>\n",
       "      <th>user</th>\n",
       "      <th>votes</th>\n",
       "      <th>word_count</th>\n",
       "      <th>domain_name</th>\n",
       "      <th>TFIDF_Scores</th>\n",
       "      <th>compound_score</th>\n",
       "    </tr>\n",
       "  </thead>\n",
       "  <tbody>\n",
       "    <tr>\n",
       "      <th>1138</th>\n",
       "      <td>0</td>\n",
       "      <td>0.0</td>\n",
       "      <td>dewblue</td>\n",
       "      <td>2</td>\n",
       "      <td>6599</td>\n",
       "      <td>guruwebtools</td>\n",
       "      <td>{'100': 0.0024351725160512597, '120': 0.001480...</td>\n",
       "      <td>0.9997</td>\n",
       "    </tr>\n",
       "    <tr>\n",
       "      <th>3068</th>\n",
       "      <td>0</td>\n",
       "      <td>0.0</td>\n",
       "      <td>mooreds</td>\n",
       "      <td>2</td>\n",
       "      <td>4672</td>\n",
       "      <td>nytimes</td>\n",
       "      <td>{'100': 0.0038164317406213064, '1001': 0.00886...</td>\n",
       "      <td>0.9999</td>\n",
       "    </tr>\n",
       "    <tr>\n",
       "      <th>79</th>\n",
       "      <td>0</td>\n",
       "      <td>0.0</td>\n",
       "      <td>impish9208</td>\n",
       "      <td>3</td>\n",
       "      <td>52</td>\n",
       "      <td>bls</td>\n",
       "      <td>{'06c01100217127558003de4be81': 0.225210034171...</td>\n",
       "      <td>-0.8360</td>\n",
       "    </tr>\n",
       "    <tr>\n",
       "      <th>2414</th>\n",
       "      <td>0</td>\n",
       "      <td>0.0</td>\n",
       "      <td>skilled</td>\n",
       "      <td>2</td>\n",
       "      <td>897</td>\n",
       "      <td>talosintelligence</td>\n",
       "      <td>{'0800': 0.06760523212918257, '10': 0.01553280...</td>\n",
       "      <td>0.8998</td>\n",
       "    </tr>\n",
       "    <tr>\n",
       "      <th>272</th>\n",
       "      <td>0</td>\n",
       "      <td>0.0</td>\n",
       "      <td>TheAlchemist</td>\n",
       "      <td>2</td>\n",
       "      <td>2373</td>\n",
       "      <td>github</td>\n",
       "      <td>{'10': 0.00961120365349481, '11': 0.0074001447...</td>\n",
       "      <td>0.9872</td>\n",
       "    </tr>\n",
       "  </tbody>\n",
       "</table>\n",
       "</div>"
      ],
      "text/plain": [
       "      comments  frontpage          user  votes  word_count        domain_name  \\\n",
       "1138         0        0.0       dewblue      2        6599       guruwebtools   \n",
       "3068         0        0.0       mooreds      2        4672            nytimes   \n",
       "79           0        0.0    impish9208      3          52                bls   \n",
       "2414         0        0.0       skilled      2         897  talosintelligence   \n",
       "272          0        0.0  TheAlchemist      2        2373             github   \n",
       "\n",
       "                                           TFIDF_Scores  compound_score  \n",
       "1138  {'100': 0.0024351725160512597, '120': 0.001480...          0.9997  \n",
       "3068  {'100': 0.0038164317406213064, '1001': 0.00886...          0.9999  \n",
       "79    {'06c01100217127558003de4be81': 0.225210034171...         -0.8360  \n",
       "2414  {'0800': 0.06760523212918257, '10': 0.01553280...          0.8998  \n",
       "272   {'10': 0.00961120365349481, '11': 0.0074001447...          0.9872  "
      ]
     },
     "execution_count": 67,
     "metadata": {},
     "output_type": "execute_result"
    }
   ],
   "source": [
    "test_df.head()"
   ]
  },
  {
   "cell_type": "code",
   "execution_count": 68,
   "metadata": {},
   "outputs": [
    {
     "data": {
      "text/html": [
       "<div>\n",
       "<style scoped>\n",
       "    .dataframe tbody tr th:only-of-type {\n",
       "        vertical-align: middle;\n",
       "    }\n",
       "\n",
       "    .dataframe tbody tr th {\n",
       "        vertical-align: top;\n",
       "    }\n",
       "\n",
       "    .dataframe thead th {\n",
       "        text-align: right;\n",
       "    }\n",
       "</style>\n",
       "<table border=\"1\" class=\"dataframe\">\n",
       "  <thead>\n",
       "    <tr style=\"text-align: right;\">\n",
       "      <th></th>\n",
       "      <th>comments</th>\n",
       "      <th>frontpage</th>\n",
       "      <th>user</th>\n",
       "      <th>votes</th>\n",
       "      <th>word_count</th>\n",
       "      <th>domain_name</th>\n",
       "      <th>TFIDF_Scores</th>\n",
       "      <th>compound_score</th>\n",
       "    </tr>\n",
       "  </thead>\n",
       "  <tbody>\n",
       "    <tr>\n",
       "      <th>2012</th>\n",
       "      <td>0</td>\n",
       "      <td>0.0</td>\n",
       "      <td>nowhereai</td>\n",
       "      <td>3</td>\n",
       "      <td>540</td>\n",
       "      <td>ai-gen</td>\n",
       "      <td>{'11': 0.01657256444457039, '13': 0.0179734072...</td>\n",
       "      <td>0.9957</td>\n",
       "    </tr>\n",
       "    <tr>\n",
       "      <th>391</th>\n",
       "      <td>0</td>\n",
       "      <td>0.0</td>\n",
       "      <td>gone35</td>\n",
       "      <td>1</td>\n",
       "      <td>652</td>\n",
       "      <td>ncatlab</td>\n",
       "      <td>{'14': 0.004913113157741634, '145234': 0.01644...</td>\n",
       "      <td>0.9590</td>\n",
       "    </tr>\n",
       "    <tr>\n",
       "      <th>2051</th>\n",
       "      <td>0</td>\n",
       "      <td>0.0</td>\n",
       "      <td>wjb3</td>\n",
       "      <td>1</td>\n",
       "      <td>2591</td>\n",
       "      <td>nytimes</td>\n",
       "      <td>{'050week': 0.0093295782345452, '050weeklog': ...</td>\n",
       "      <td>0.9998</td>\n",
       "    </tr>\n",
       "    <tr>\n",
       "      <th>1373</th>\n",
       "      <td>0</td>\n",
       "      <td>0.0</td>\n",
       "      <td>doomlaser</td>\n",
       "      <td>2</td>\n",
       "      <td>24</td>\n",
       "      <td>venturebeat</td>\n",
       "      <td>{'87d3d659eb255c14': 0.2800287836542828, 'clou...</td>\n",
       "      <td>0.8225</td>\n",
       "    </tr>\n",
       "    <tr>\n",
       "      <th>2341</th>\n",
       "      <td>0</td>\n",
       "      <td>0.0</td>\n",
       "      <td>underseacables</td>\n",
       "      <td>2</td>\n",
       "      <td>954</td>\n",
       "      <td>co</td>\n",
       "      <td>{'01': 0.016747326405612474, '2013': 0.0163600...</td>\n",
       "      <td>0.9969</td>\n",
       "    </tr>\n",
       "  </tbody>\n",
       "</table>\n",
       "</div>"
      ],
      "text/plain": [
       "      comments  frontpage            user  votes  word_count  domain_name  \\\n",
       "2012         0        0.0       nowhereai      3         540       ai-gen   \n",
       "391          0        0.0          gone35      1         652      ncatlab   \n",
       "2051         0        0.0            wjb3      1        2591      nytimes   \n",
       "1373         0        0.0       doomlaser      2          24  venturebeat   \n",
       "2341         0        0.0  underseacables      2         954           co   \n",
       "\n",
       "                                           TFIDF_Scores  compound_score  \n",
       "2012  {'11': 0.01657256444457039, '13': 0.0179734072...          0.9957  \n",
       "391   {'14': 0.004913113157741634, '145234': 0.01644...          0.9590  \n",
       "2051  {'050week': 0.0093295782345452, '050weeklog': ...          0.9998  \n",
       "1373  {'87d3d659eb255c14': 0.2800287836542828, 'clou...          0.8225  \n",
       "2341  {'01': 0.016747326405612474, '2013': 0.0163600...          0.9969  "
      ]
     },
     "execution_count": 68,
     "metadata": {},
     "output_type": "execute_result"
    }
   ],
   "source": [
    "train_df.head()"
   ]
  },
  {
   "cell_type": "markdown",
   "metadata": {},
   "source": [
    "Calculate the average TF-IDF score for each word based on the scores for each word found in the main body of the text of the articles."
   ]
  },
  {
   "cell_type": "code",
   "execution_count": 69,
   "metadata": {},
   "outputs": [],
   "source": [
    "def average_tfidf(tfidf_dict):\n",
    "    if not tfidf_dict:\n",
    "        return 0 \n",
    "    return sum(tfidf_dict.values()) / len(tfidf_dict)\n",
    "\n",
    "train_df['TFIDF_Scores'] = train_df['TFIDF_Scores'].apply(average_tfidf)\n",
    "test_df['TFIDF_Scores'] = test_df['TFIDF_Scores'].apply(average_tfidf)"
   ]
  },
  {
   "cell_type": "code",
   "execution_count": 70,
   "metadata": {},
   "outputs": [
    {
     "data": {
      "text/html": [
       "<div>\n",
       "<style scoped>\n",
       "    .dataframe tbody tr th:only-of-type {\n",
       "        vertical-align: middle;\n",
       "    }\n",
       "\n",
       "    .dataframe tbody tr th {\n",
       "        vertical-align: top;\n",
       "    }\n",
       "\n",
       "    .dataframe thead th {\n",
       "        text-align: right;\n",
       "    }\n",
       "</style>\n",
       "<table border=\"1\" class=\"dataframe\">\n",
       "  <thead>\n",
       "    <tr style=\"text-align: right;\">\n",
       "      <th></th>\n",
       "      <th>comments</th>\n",
       "      <th>frontpage</th>\n",
       "      <th>user</th>\n",
       "      <th>votes</th>\n",
       "      <th>word_count</th>\n",
       "      <th>domain_name</th>\n",
       "      <th>TFIDF_Scores</th>\n",
       "      <th>compound_score</th>\n",
       "    </tr>\n",
       "  </thead>\n",
       "  <tbody>\n",
       "    <tr>\n",
       "      <th>2012</th>\n",
       "      <td>0</td>\n",
       "      <td>0.0</td>\n",
       "      <td>nowhereai</td>\n",
       "      <td>3</td>\n",
       "      <td>540</td>\n",
       "      <td>ai-gen</td>\n",
       "      <td>0.038733</td>\n",
       "      <td>0.9957</td>\n",
       "    </tr>\n",
       "    <tr>\n",
       "      <th>391</th>\n",
       "      <td>0</td>\n",
       "      <td>0.0</td>\n",
       "      <td>gone35</td>\n",
       "      <td>1</td>\n",
       "      <td>652</td>\n",
       "      <td>ncatlab</td>\n",
       "      <td>0.020435</td>\n",
       "      <td>0.9590</td>\n",
       "    </tr>\n",
       "    <tr>\n",
       "      <th>2051</th>\n",
       "      <td>0</td>\n",
       "      <td>0.0</td>\n",
       "      <td>wjb3</td>\n",
       "      <td>1</td>\n",
       "      <td>2591</td>\n",
       "      <td>nytimes</td>\n",
       "      <td>0.021053</td>\n",
       "      <td>0.9998</td>\n",
       "    </tr>\n",
       "    <tr>\n",
       "      <th>1373</th>\n",
       "      <td>0</td>\n",
       "      <td>0.0</td>\n",
       "      <td>doomlaser</td>\n",
       "      <td>2</td>\n",
       "      <td>24</td>\n",
       "      <td>venturebeat</td>\n",
       "      <td>0.145071</td>\n",
       "      <td>0.8225</td>\n",
       "    </tr>\n",
       "    <tr>\n",
       "      <th>2341</th>\n",
       "      <td>0</td>\n",
       "      <td>0.0</td>\n",
       "      <td>underseacables</td>\n",
       "      <td>2</td>\n",
       "      <td>954</td>\n",
       "      <td>co</td>\n",
       "      <td>0.024964</td>\n",
       "      <td>0.9969</td>\n",
       "    </tr>\n",
       "  </tbody>\n",
       "</table>\n",
       "</div>"
      ],
      "text/plain": [
       "      comments  frontpage            user  votes  word_count  domain_name  \\\n",
       "2012         0        0.0       nowhereai      3         540       ai-gen   \n",
       "391          0        0.0          gone35      1         652      ncatlab   \n",
       "2051         0        0.0            wjb3      1        2591      nytimes   \n",
       "1373         0        0.0       doomlaser      2          24  venturebeat   \n",
       "2341         0        0.0  underseacables      2         954           co   \n",
       "\n",
       "      TFIDF_Scores  compound_score  \n",
       "2012      0.038733          0.9957  \n",
       "391       0.020435          0.9590  \n",
       "2051      0.021053          0.9998  \n",
       "1373      0.145071          0.8225  \n",
       "2341      0.024964          0.9969  "
      ]
     },
     "execution_count": 70,
     "metadata": {},
     "output_type": "execute_result"
    }
   ],
   "source": [
    "train_df.head()"
   ]
  },
  {
   "cell_type": "code",
   "execution_count": 71,
   "metadata": {},
   "outputs": [
    {
     "data": {
      "text/html": [
       "<div>\n",
       "<style scoped>\n",
       "    .dataframe tbody tr th:only-of-type {\n",
       "        vertical-align: middle;\n",
       "    }\n",
       "\n",
       "    .dataframe tbody tr th {\n",
       "        vertical-align: top;\n",
       "    }\n",
       "\n",
       "    .dataframe thead th {\n",
       "        text-align: right;\n",
       "    }\n",
       "</style>\n",
       "<table border=\"1\" class=\"dataframe\">\n",
       "  <thead>\n",
       "    <tr style=\"text-align: right;\">\n",
       "      <th></th>\n",
       "      <th>comments</th>\n",
       "      <th>frontpage</th>\n",
       "      <th>user</th>\n",
       "      <th>votes</th>\n",
       "      <th>word_count</th>\n",
       "      <th>domain_name</th>\n",
       "      <th>TFIDF_Scores</th>\n",
       "      <th>compound_score</th>\n",
       "    </tr>\n",
       "  </thead>\n",
       "  <tbody>\n",
       "    <tr>\n",
       "      <th>1138</th>\n",
       "      <td>0</td>\n",
       "      <td>0.0</td>\n",
       "      <td>dewblue</td>\n",
       "      <td>2</td>\n",
       "      <td>6599</td>\n",
       "      <td>guruwebtools</td>\n",
       "      <td>0.008692</td>\n",
       "      <td>0.9997</td>\n",
       "    </tr>\n",
       "    <tr>\n",
       "      <th>3068</th>\n",
       "      <td>0</td>\n",
       "      <td>0.0</td>\n",
       "      <td>mooreds</td>\n",
       "      <td>2</td>\n",
       "      <td>4672</td>\n",
       "      <td>nytimes</td>\n",
       "      <td>0.013419</td>\n",
       "      <td>0.9999</td>\n",
       "    </tr>\n",
       "    <tr>\n",
       "      <th>79</th>\n",
       "      <td>0</td>\n",
       "      <td>0.0</td>\n",
       "      <td>impish9208</td>\n",
       "      <td>3</td>\n",
       "      <td>52</td>\n",
       "      <td>bls</td>\n",
       "      <td>0.136210</td>\n",
       "      <td>-0.8360</td>\n",
       "    </tr>\n",
       "    <tr>\n",
       "      <th>2414</th>\n",
       "      <td>0</td>\n",
       "      <td>0.0</td>\n",
       "      <td>skilled</td>\n",
       "      <td>2</td>\n",
       "      <td>897</td>\n",
       "      <td>talosintelligence</td>\n",
       "      <td>0.023534</td>\n",
       "      <td>0.8998</td>\n",
       "    </tr>\n",
       "    <tr>\n",
       "      <th>272</th>\n",
       "      <td>0</td>\n",
       "      <td>0.0</td>\n",
       "      <td>TheAlchemist</td>\n",
       "      <td>2</td>\n",
       "      <td>2373</td>\n",
       "      <td>github</td>\n",
       "      <td>0.017691</td>\n",
       "      <td>0.9872</td>\n",
       "    </tr>\n",
       "  </tbody>\n",
       "</table>\n",
       "</div>"
      ],
      "text/plain": [
       "      comments  frontpage          user  votes  word_count        domain_name  \\\n",
       "1138         0        0.0       dewblue      2        6599       guruwebtools   \n",
       "3068         0        0.0       mooreds      2        4672            nytimes   \n",
       "79           0        0.0    impish9208      3          52                bls   \n",
       "2414         0        0.0       skilled      2         897  talosintelligence   \n",
       "272          0        0.0  TheAlchemist      2        2373             github   \n",
       "\n",
       "      TFIDF_Scores  compound_score  \n",
       "1138      0.008692          0.9997  \n",
       "3068      0.013419          0.9999  \n",
       "79        0.136210         -0.8360  \n",
       "2414      0.023534          0.8998  \n",
       "272       0.017691          0.9872  "
      ]
     },
     "execution_count": 71,
     "metadata": {},
     "output_type": "execute_result"
    }
   ],
   "source": [
    "test_df.head()"
   ]
  },
  {
   "cell_type": "code",
   "execution_count": 72,
   "metadata": {},
   "outputs": [],
   "source": [
    "train_df = train_df.reset_index(drop=True)\n",
    "test_df = test_df.reset_index(drop=True)"
   ]
  },
  {
   "cell_type": "markdown",
   "metadata": {},
   "source": [
    "# Correlation Matrix for Training Set"
   ]
  },
  {
   "cell_type": "code",
   "execution_count": 73,
   "metadata": {},
   "outputs": [
    {
     "name": "stderr",
     "output_type": "stream",
     "text": [
      "/var/folders/vd/sx8lymr54nn48mfgp_wmqbk00000gn/T/ipykernel_28601/1585693808.py:4: FutureWarning: The default value of numeric_only in DataFrame.corr is deprecated. In a future version, it will default to False. Select only valid columns or specify the value of numeric_only to silence this warning.\n",
      "  correlation_matrix = train_df.corr(method='pearson')\n"
     ]
    },
    {
     "data": {
      "image/png": "[encoded data removed]",
      "text/plain": [
       "<Figure size 800x600 with 2 Axes>"
      ]
     },
     "metadata": {},
     "output_type": "display_data"
    }
   ],
   "source": [
    "import matplotlib.pyplot as plt\n",
    "import seaborn as sns\n",
    "\n",
    "correlation_matrix = train_df.corr(method='pearson')\n",
    "\n",
    "high_correlation_mask = (correlation_matrix > 0.75) | (correlation_matrix < -0.75)\n",
    "\n",
    "plt.figure(figsize=(8, 6))\n",
    "sns.heatmap(high_correlation_mask.astype(int), annot=correlation_matrix, cmap='coolwarm', fmt='.2f')\n",
    "plt.title(\"Correlations Highlighted (1 = High Correlation, 0 = Low Correlation)\")\n",
    "plt.show()"
   ]
  },
  {
   "cell_type": "markdown",
   "metadata": {},
   "source": [
    "# R-Square score for the independent variables against dependent variable"
   ]
  },
  {
   "cell_type": "code",
   "execution_count": 74,
   "metadata": {},
   "outputs": [
    {
     "name": "stdout",
     "output_type": "stream",
     "text": [
      "R-squared: 49.65025204482858 %\n"
     ]
    }
   ],
   "source": [
    "from sklearn.linear_model import LinearRegression\n",
    "from sklearn.metrics import r2_score\n",
    "\n",
    "X = train_df[['comments', 'votes', 'word_count', 'TFIDF_Scores', 'compound_score']]\n",
    "Y = train_df['frontpage']\n",
    "\n",
    "model = LinearRegression()\n",
    "model.fit(X, Y)\n",
    "\n",
    "Y_pred = model.predict(X)\n",
    "\n",
    "r2 = r2_score(Y, Y_pred)\n",
    "\n",
    "print(\"R-squared:\", r2*100, \"%\")"
   ]
  },
  {
   "cell_type": "markdown",
   "metadata": {},
   "source": [
    "# Model"
   ]
  },
  {
   "cell_type": "code",
   "execution_count": 75,
   "metadata": {},
   "outputs": [],
   "source": [
    "from pyspark.ml.classification import LogisticRegression\n",
    "from pyspark.ml.feature import VectorAssembler\n",
    "from pyspark.ml.evaluation import BinaryClassificationEvaluator\n",
    "from pyspark.ml.pipeline import Pipeline"
   ]
  },
  {
   "cell_type": "code",
   "execution_count": 76,
   "metadata": {},
   "outputs": [],
   "source": [
    "train_df = spark.createDataFrame(train_df)\n",
    "\n",
    "test_df = spark.createDataFrame(test_df)"
   ]
  },
  {
   "cell_type": "code",
   "execution_count": 77,
   "metadata": {},
   "outputs": [],
   "source": [
    "feature_cols = [\"comments\", \"votes\", \"word_count\", \"TFIDF_Scores\", \"compound_score\"]\n",
    "\n",
    "vector_assembler = VectorAssembler(inputCols=feature_cols, outputCol=\"features\")"
   ]
  },
  {
   "cell_type": "code",
   "execution_count": 78,
   "metadata": {},
   "outputs": [],
   "source": [
    "log_reg = LogisticRegression(featuresCol=\"features\", labelCol=\"frontpage\")"
   ]
  },
  {
   "cell_type": "code",
   "execution_count": 79,
   "metadata": {},
   "outputs": [],
   "source": [
    "pipeline = Pipeline(stages=[vector_assembler, log_reg])"
   ]
  },
  {
   "cell_type": "code",
   "execution_count": 80,
   "metadata": {},
   "outputs": [
    {
     "name": "stderr",
     "output_type": "stream",
     "text": [
      "24/05/13 15:02:50 WARN InstanceBuilder: Failed to load implementation from:dev.ludovic.netlib.blas.JNIBLAS\n"
     ]
    }
   ],
   "source": [
    "pipeline_model = pipeline.fit(train_df)"
   ]
  },
  {
   "cell_type": "code",
   "execution_count": 81,
   "metadata": {},
   "outputs": [],
   "source": [
    "test_predictions = pipeline_model.transform(test_df)"
   ]
  },
  {
   "cell_type": "markdown",
   "metadata": {},
   "source": [
    "# Evaluation metrics"
   ]
  },
  {
   "cell_type": "code",
   "execution_count": 82,
   "metadata": {},
   "outputs": [],
   "source": [
    "evaluator = BinaryClassificationEvaluator(labelCol=\"frontpage\", rawPredictionCol=\"rawPrediction\", metricName=\"areaUnderROC\")\n",
    "auc = evaluator.evaluate(test_predictions)"
   ]
  },
  {
   "cell_type": "code",
   "execution_count": 83,
   "metadata": {},
   "outputs": [
    {
     "name": "stdout",
     "output_type": "stream",
     "text": [
      "Test set AUC: 0.9831687747591947\n"
     ]
    }
   ],
   "source": [
    "print(\"Test set AUC:\", auc)"
   ]
  },
  {
   "cell_type": "code",
   "execution_count": 84,
   "metadata": {},
   "outputs": [
    {
     "name": "stderr",
     "output_type": "stream",
     "text": [
      "/Users/stantschal/Desktop/spark/spark-3.5.1-bin-hadoop3/python/pyspark/sql/context.py:158: FutureWarning: Deprecated in 3.0.0. Use SparkSession.builder.getOrCreate() instead.\n",
      "  warnings.warn(\n"
     ]
    },
    {
     "data": {
      "image/png": "[encoded data removed]",
      "text/plain": [
       "<Figure size 600x600 with 2 Axes>"
      ]
     },
     "metadata": {},
     "output_type": "display_data"
    }
   ],
   "source": [
    "from pyspark.ml.evaluation import MulticlassClassificationEvaluator\n",
    "from pyspark.mllib.evaluation import MulticlassMetrics\n",
    "import seaborn as sns\n",
    "import matplotlib.pyplot as plt\n",
    "\n",
    "prediction_and_labels = test_predictions.select(\"prediction\", \"frontpage\").rdd\n",
    "metrics = MulticlassMetrics(prediction_and_labels)\n",
    "\n",
    "confusion_matrix = metrics.confusionMatrix().toArray()\n",
    "\n",
    "cm_df = pd.DataFrame(confusion_matrix, index=['Actual Negative', 'Actual Positive'], columns=['Predicted Negative', 'Predicted Positive'])\n",
    "\n",
    "plt.figure(figsize=(6, 6))\n",
    "sns.heatmap(cm_df, annot=True, fmt='g', cmap='Blues')  # 'g' format ensures integers\n",
    "plt.title(\"Confusion Matrix\")\n",
    "plt.xlabel(\"Predicted\")\n",
    "plt.ylabel(\"Actual\")\n",
    "plt.show()"
   ]
  },
  {
   "cell_type": "code",
   "execution_count": 85,
   "metadata": {},
   "outputs": [
    {
     "name": "stdout",
     "output_type": "stream",
     "text": [
      "Accuracy: 0.9495515695067265\n"
     ]
    }
   ],
   "source": [
    "accuracy = metrics.accuracy\n",
    "print(\"Accuracy:\", accuracy)"
   ]
  },
  {
   "cell_type": "code",
   "execution_count": 86,
   "metadata": {},
   "outputs": [
    {
     "name": "stdout",
     "output_type": "stream",
     "text": [
      "Precision: 0.9512051749105643\n",
      "Recall: 0.9495515695067265\n",
      "F1-Score: 0.9495053054652267\n"
     ]
    }
   ],
   "source": [
    "#precision\n",
    "precision_evaluator = MulticlassClassificationEvaluator(\n",
    "    labelCol=\"frontpage\",\n",
    "    predictionCol=\"prediction\",\n",
    "    metricName=\"weightedPrecision\"\n",
    ")\n",
    "precision = precision_evaluator.evaluate(test_predictions)\n",
    "\n",
    "# recall\n",
    "recall_evaluator = MulticlassClassificationEvaluator(\n",
    "    labelCol=\"frontpage\",\n",
    "    predictionCol=\"prediction\",\n",
    "    metricName=\"weightedRecall\"\n",
    ")\n",
    "recall = recall_evaluator.evaluate(test_predictions)\n",
    "\n",
    "# F1-score\n",
    "f1_evaluator = MulticlassClassificationEvaluator(\n",
    "    labelCol=\"frontpage\",\n",
    "    predictionCol=\"prediction\",\n",
    "    metricName=\"f1\"\n",
    ")\n",
    "f1 = f1_evaluator.evaluate(test_predictions)\n",
    "\n",
    "print(\"Precision:\", precision)\n",
    "print(\"Recall:\", recall)\n",
    "print(\"F1-Score:\", f1)"
   ]
  },
  {
   "cell_type": "markdown",
   "metadata": {},
   "source": [
    "# Overfitting Check"
   ]
  },
  {
   "cell_type": "code",
   "execution_count": 87,
   "metadata": {},
   "outputs": [
    {
     "name": "stdout",
     "output_type": "stream",
     "text": [
      "Training Set Accuracy: 0.9547767100056529\n",
      "Test Set Accuracy: 0.9495515695067265\n"
     ]
    }
   ],
   "source": [
    "from pyspark.ml.tuning import CrossValidator, ParamGridBuilder\n",
    "\n",
    "feature_cols = [\"comments\", \"votes\", \"word_count\", \"TFIDF_Scores\", \"compound_score\"]\n",
    "label_col = \"frontpage\"  # Modify with your label column name\n",
    "\n",
    "\n",
    "assembler = VectorAssembler(inputCols=feature_cols, outputCol=\"features\")\n",
    "\n",
    "\n",
    "train_df = assembler.transform(train_df)\n",
    "test_df = assembler.transform(test_df)\n",
    "\n",
    "\n",
    "lr = LogisticRegression(featuresCol=\"features\", labelCol=label_col)\n",
    "lr_model = lr.fit(train_df)\n",
    "\n",
    "\n",
    "train_predictions = lr_model.transform(train_df)\n",
    "test_predictions = lr_model.transform(test_df)\n",
    "\n",
    "evaluator = MulticlassClassificationEvaluator(labelCol=label_col, predictionCol=\"prediction\", metricName=\"accuracy\")\n",
    "\n",
    "train_accuracy = evaluator.evaluate(train_predictions)\n",
    "test_accuracy = evaluator.evaluate(test_predictions)\n",
    "\n",
    "print(\"Training Set Accuracy:\", train_accuracy)\n",
    "print(\"Test Set Accuracy:\", test_accuracy)"
   ]
  },
  {
   "cell_type": "code",
   "execution_count": 88,
   "metadata": {},
   "outputs": [
    {
     "name": "stdout",
     "output_type": "stream",
     "text": [
      "Cross-Validation Test Set Accuracy: 0.9495515695067265\n"
     ]
    }
   ],
   "source": [
    "\n",
    "param_grid = ParamGridBuilder() \\\n",
    "    .addGrid(lr.regParam, [0.0, 0.1, 0.01]) \\\n",
    "    .addGrid(lr.elasticNetParam, [0.0, 0.5, 1.0]) \\\n",
    "    .build()\n",
    "\n",
    "crossval = CrossValidator(estimator=lr,\n",
    "                          estimatorParamMaps=param_grid,\n",
    "                          evaluator=evaluator,\n",
    "                          numFolds=5)  # 5-Fold Cross-Validation\n",
    "\n",
    "\n",
    "cv_model = crossval.fit(train_df)\n",
    "\n",
    "\n",
    "cv_test_predictions = cv_model.transform(test_df)\n",
    "cv_test_accuracy = evaluator.evaluate(cv_test_predictions)\n",
    "\n",
    "print(\"Cross-Validation Test Set Accuracy:\", cv_test_accuracy)"
   ]
  },
  {
   "cell_type": "code",
   "execution_count": 89,
   "metadata": {},
   "outputs": [
    {
     "name": "stderr",
     "output_type": "stream",
     "text": [
      "                                                                                \r"
     ]
    }
   ],
   "source": [
    "model_path = \"/Users/stantschal/Desktop/spark/notebooks/lr_model/\"\n",
    "\n",
    "pipeline_model.write().overwrite().save(model_path)"
   ]
  },
  {
   "cell_type": "markdown",
   "metadata": {},
   "source": [
    "# Predicting"
   ]
  },
  {
   "cell_type": "code",
   "execution_count": 107,
   "metadata": {},
   "outputs": [],
   "source": [
    "import threading\n",
    "\n",
    "# Helper thread to avoid the Spark StreamingContext from blocking Jupyter\n",
    "        \n",
    "class StreamingThread(threading.Thread):\n",
    "    def __init__(self, ssc):\n",
    "        super().__init__()\n",
    "        self.ssc = ssc\n",
    "    def run(self):\n",
    "        self.ssc.start()\n",
    "        self.ssc.awaitTermination()\n",
    "    def stop(self):\n",
    "        print('----- Stopping... this may take a few seconds -----')\n",
    "        self.ssc.stop(stopSparkContext=False, stopGraceFully=True)"
   ]
  },
  {
   "cell_type": "code",
   "execution_count": 108,
   "metadata": {},
   "outputs": [],
   "source": [
    "import random\n",
    "from pyspark.streaming import StreamingContext\n",
    "from pyspark.sql import Row\n",
    "from pyspark.sql.functions import udf, struct, array, col, lit\n",
    "from pyspark.sql.types import StringType"
   ]
  },
  {
   "cell_type": "code",
   "execution_count": 109,
   "metadata": {},
   "outputs": [
    {
     "name": "stderr",
     "output_type": "stream",
     "text": [
      "                                                                                \r"
     ]
    }
   ],
   "source": [
    "from pyspark.ml.classification import LogisticRegressionModel\n",
    "from pyspark.ml import PipelineModel\n",
    "\n",
    "model_path = \"/Users/stantschal/Desktop/spark/notebooks/lr_model/\"\n",
    "\n",
    "my_logistic_regression = PipelineModel.load(model_path)"
   ]
  },
  {
   "cell_type": "code",
   "execution_count": 110,
   "metadata": {},
   "outputs": [],
   "source": [
    "globals()['models_loaded'] = False\n",
    "globals()['my_model'] = None\n",
    "\n",
    "def process(time, rdd):\n",
    "    if rdd.isEmpty():\n",
    "        return\n",
    "    \n",
    "    print(\"========= %s =========\" % str(time))\n",
    "    \n",
    "    # Convert to data frame\n",
    "    df = spark.read.json(rdd)\n",
    "\n",
    "    df = df.toPandas()\n",
    "\n",
    "    df = df.dropna()\n",
    "\n",
    "    mask = df['source_text'].str.contains(\"403 Forbidden\", case=False) | df['source_title'].str.contains(\"403 Forbidden\", case=False)\n",
    "    rows_to_remove = df[mask]\n",
    "    df = df[~mask]\n",
    "\n",
    "    df['is_english'] = df['title'].apply(is_english)\n",
    "    df = df[df['is_english']]\n",
    "    df = df.drop(columns=['is_english'])\n",
    "\n",
    "    df['clean_source_text'] = df['source_text'].apply(clean_text)\n",
    "    df['clean_source_title'] = df['title'].apply(clean_text)\n",
    "\n",
    "    #word_count\n",
    "    df['word_count'] = df['clean_source_text'].apply(count_words)\n",
    "\n",
    "    #domain_name\n",
    "    df['domain_name'] = df['domain'].apply(extract_domain)\n",
    "\n",
    "    #TF_IDF\n",
    "    df['tfidf_source_text'] = df['clean_source_text'].apply(lambda x: ' '.join(x))\n",
    "    tfidf_vectorizer = TfidfVectorizer()\n",
    "    tfidf_matrix = tfidf_vectorizer.fit_transform(df['tfidf_source_text'])\n",
    "    features = tfidf_vectorizer.get_feature_names_out()\n",
    "    df['TFIDF_Scores'] = [get_tfidf_dict(i) for i in range(tfidf_matrix.shape[0])]\n",
    "\n",
    "    #sentiment\n",
    "    df['clean_source_text_sentence'] = df['clean_source_text'].apply(lambda words: ' '.join(words))\n",
    "    analyzer = SentimentIntensityAnalyzer()\n",
    "    df['sentiment'] = df['clean_source_text_sentence'].apply(lambda sentence: analyzer.polarity_scores(sentence))\n",
    "    df['compound_score'] = df['sentiment'].apply(lambda x: x['compound'])\n",
    "\n",
    "    #drop columns\n",
    "    df = df.drop(columns=['aid', 'domain', 'posted_at', 'source_text', 'source_title', 'title', 'url', 'clean_source_text', 'clean_source_title', 'tfidf_source_text', 'clean_source_text_sentence', 'sentiment'])\n",
    "\n",
    "    #normalization\n",
    "    columns_to_normalize = ['frontpage']\n",
    "    scaler = MinMaxScaler()\n",
    "    df = df.copy()\n",
    "    df[columns_to_normalize] = scaler.fit_transform(df[columns_to_normalize])\n",
    "\n",
    "    df['TFIDF_Scores'] = df['TFIDF_Scores'].apply(average_tfidf)\n",
    "\n",
    "    df = df.reset_index(drop=True)\n",
    "\n",
    "    df = spark.createDataFrame(df)\n",
    "\n",
    "    df.show()\n",
    "    \n",
    "    # Normally, you wouldn't use a UDF (User Defined Function) Python function to predict as we did here (you can)\n",
    "    # but an MLlib model you've built and saved with Spark\n",
    "    # In this case, you need to prevent loading your model in every call to \"process\" as follows:\n",
    "    \n",
    "    # Load in the model if not yet loaded:\n",
    "    if not globals()['models_loaded']:\n",
    "        # load in your models here\n",
    "        globals()['my_model'] = my_logistic_regression # Replace '***' with e.g.:    [...].load('my_logistic_regression')\n",
    "        globals()['models_loaded'] = True\n",
    "        \n",
    "    # And then predict using the loaded model (uncomment below):\n",
    "    \n",
    "    df_result = globals()['my_model'].transform(df)\n",
    "    df_result.show()"
   ]
  },
  {
   "cell_type": "code",
   "execution_count": 111,
   "metadata": {},
   "outputs": [
    {
     "name": "stderr",
     "output_type": "stream",
     "text": [
      "/Users/stantschal/Desktop/spark/spark-3.5.1-bin-hadoop3/python/pyspark/streaming/context.py:72: FutureWarning: DStream is deprecated as of Spark 3.4.0. Migrate to Structured Streaming.\n",
      "  warnings.warn(\n"
     ]
    }
   ],
   "source": [
    "ssc = StreamingContext(sc, 10)"
   ]
  },
  {
   "cell_type": "code",
   "execution_count": 112,
   "metadata": {},
   "outputs": [],
   "source": [
    "lines = ssc.socketTextStream(\"seppe.net\", 7778)\n",
    "lines.foreachRDD(process)"
   ]
  },
  {
   "cell_type": "code",
   "execution_count": 113,
   "metadata": {},
   "outputs": [
    {
     "name": "stderr",
     "output_type": "stream",
     "text": [
      "24/05/13 15:09:29 WARN RandomBlockReplicationPolicy: Expecting 1 replicas with only 0 peer/s.\n",
      "24/05/13 15:09:29 WARN BlockManager: Block input-0-1715602169400 replicated to only 0 peer(s) instead of 1 peers\n",
      "                                                                                \r"
     ]
    },
    {
     "name": "stdout",
     "output_type": "stream",
     "text": [
      "========= 2024-05-13 15:09:30 =========\n",
      "+--------+---------+-------+-----+----------+-----------+--------------------+--------------+\n",
      "|comments|frontpage|   user|votes|word_count|domain_name|        TFIDF_Scores|compound_score|\n",
      "+--------+---------+-------+-----+----------+-----------+--------------------+--------------+\n",
      "|       0|      0.0|chadsix|    1|       206|       ipv6|0.008691586819499712|        0.6705|\n",
      "+--------+---------+-------+-----+----------+-----------+--------------------+--------------+\n",
      "\n",
      "+--------+---------+-------+-----+----------+-----------+--------------------+--------------+--------------------+--------------------+--------------------+----------+\n",
      "|comments|frontpage|   user|votes|word_count|domain_name|        TFIDF_Scores|compound_score|            features|       rawPrediction|         probability|prediction|\n",
      "+--------+---------+-------+-----+----------+-----------+--------------------+--------------+--------------------+--------------------+--------------------+----------+\n",
      "|       0|      0.0|chadsix|    1|       206|       ipv6|0.008691586819499712|        0.6705|[0.0,1.0,206.0,0....|[4.54498617993299...|[0.98949128640700...|       0.0|\n",
      "+--------+---------+-------+-----+----------+-----------+--------------------+--------------+--------------------+--------------------+--------------------+----------+\n",
      "\n"
     ]
    },
    {
     "name": "stderr",
     "output_type": "stream",
     "text": [
      "24/05/13 15:09:31 WARN RandomBlockReplicationPolicy: Expecting 1 replicas with only 0 peer/s.\n",
      "24/05/13 15:09:31 WARN BlockManager: Block input-0-1715602171400 replicated to only 0 peer(s) instead of 1 peers\n",
      "24/05/13 15:09:36 WARN RandomBlockReplicationPolicy: Expecting 1 replicas with only 0 peer/s.\n",
      "24/05/13 15:09:36 WARN BlockManager: Block input-0-1715602176400 replicated to only 0 peer(s) instead of 1 peers\n",
      "                                                                                \r"
     ]
    },
    {
     "name": "stdout",
     "output_type": "stream",
     "text": [
      "========= 2024-05-13 15:09:40 =========\n",
      "+--------+---------+----------+-----+----------+---------------+--------------------+--------------+\n",
      "|comments|frontpage|      user|votes|word_count|    domain_name|        TFIDF_Scores|compound_score|\n",
      "+--------+---------+----------+-----+----------+---------------+--------------------+--------------+\n",
      "|       0|      0.0|    jt2190|    2|        24|         medium|0.008691586819499712|        0.8225|\n",
      "|       0|      0.0|walterbell|    2|      1914|engelsbergideas|0.013419104362602173|          0.93|\n",
      "+--------+---------+----------+-----+----------+---------------+--------------------+--------------+\n",
      "\n",
      "+--------+---------+----------+-----+----------+---------------+--------------------+--------------+--------------------+--------------------+--------------------+----------+\n",
      "|comments|frontpage|      user|votes|word_count|    domain_name|        TFIDF_Scores|compound_score|            features|       rawPrediction|         probability|prediction|\n",
      "+--------+---------+----------+-----+----------+---------------+--------------------+--------------+--------------------+--------------------+--------------------+----------+\n",
      "|       0|      0.0|    jt2190|    2|        24|         medium|0.008691586819499712|        0.8225|[0.0,2.0,24.0,0.0...|[2.28421776409577...|[0.90756149917706...|       0.0|\n",
      "|       0|      0.0|walterbell|    2|      1914|engelsbergideas|0.013419104362602173|          0.93|[0.0,2.0,1914.0,0...|[2.03300803110360...|[0.88421938260583...|       0.0|\n",
      "+--------+---------+----------+-----+----------+---------------+--------------------+--------------+--------------------+--------------------+--------------------+----------+\n",
      "\n"
     ]
    },
    {
     "name": "stderr",
     "output_type": "stream",
     "text": [
      "24/05/13 15:09:40 WARN RandomBlockReplicationPolicy: Expecting 1 replicas with only 0 peer/s.\n",
      "24/05/13 15:09:40 WARN BlockManager: Block input-0-1715602180600 replicated to only 0 peer(s) instead of 1 peers\n",
      "24/05/13 15:09:41 WARN RandomBlockReplicationPolicy: Expecting 1 replicas with only 0 peer/s.\n",
      "24/05/13 15:09:41 WARN BlockManager: Block input-0-1715602181600 replicated to only 0 peer(s) instead of 1 peers\n",
      "24/05/13 15:09:45 WARN RandomBlockReplicationPolicy: Expecting 1 replicas with only 0 peer/s.\n",
      "24/05/13 15:09:45 WARN BlockManager: Block input-0-1715602185600 replicated to only 0 peer(s) instead of 1 peers\n",
      "24/05/13 15:09:49 WARN RandomBlockReplicationPolicy: Expecting 1 replicas with only 0 peer/s.\n",
      "24/05/13 15:09:49 WARN BlockManager: Block input-0-1715602189400 replicated to only 0 peer(s) instead of 1 peers\n",
      "                                                                                \r"
     ]
    },
    {
     "name": "stdout",
     "output_type": "stream",
     "text": [
      "========= 2024-05-13 15:09:50 =========\n"
     ]
    },
    {
     "name": "stderr",
     "output_type": "stream",
     "text": [
      "                                                                                \r"
     ]
    },
    {
     "name": "stdout",
     "output_type": "stream",
     "text": [
      "+--------+---------+-----------+-----+----------+-----------+--------------------+--------------+\n",
      "|comments|frontpage|       user|votes|word_count|domain_name|        TFIDF_Scores|compound_score|\n",
      "+--------+---------+-----------+-----+----------+-----------+--------------------+--------------+\n",
      "|       2|      1.0|     spenvo|    6|      4519|    nytimes|0.008691586819499712|        0.9999|\n",
      "|       0|      0.0|joshagilend|    2|       992|arstechnica|0.013419104362602173|        0.9886|\n",
      "|       0|      0.0|theogravity|    3|         5|   engadget|  0.1362095160823194|           0.0|\n",
      "+--------+---------+-----------+-----+----------+-----------+--------------------+--------------+\n",
      "\n",
      "+--------+---------+-----------+-----+----------+-----------+--------------------+--------------+--------------------+--------------------+--------------------+----------+\n",
      "|comments|frontpage|       user|votes|word_count|domain_name|        TFIDF_Scores|compound_score|            features|       rawPrediction|         probability|prediction|\n",
      "+--------+---------+-----------+-----+----------+-----------+--------------------+--------------+--------------------+--------------------+--------------------+----------+\n",
      "|       2|      1.0|     spenvo|    6|      4519|    nytimes|0.008691586819499712|        0.9999|[2.0,6.0,4519.0,0...|[-6.7406373785517...|[0.00118049837937...|       1.0|\n",
      "|       0|      0.0|joshagilend|    2|       992|arstechnica|0.013419104362602173|        0.9886|[0.0,2.0,992.0,0....|[2.16482102648739...|[0.89704564630249...|       0.0|\n",
      "|       0|      0.0|theogravity|    3|         5|   engadget|  0.1362095160823194|           0.0|[0.0,3.0,5.0,0.13...|[-0.1936697536086...|[0.45173333277717...|       1.0|\n",
      "+--------+---------+-----------+-----+----------+-----------+--------------------+--------------+--------------------+--------------------+--------------------+----------+\n",
      "\n"
     ]
    },
    {
     "name": "stderr",
     "output_type": "stream",
     "text": [
      "24/05/13 15:09:52 WARN RandomBlockReplicationPolicy: Expecting 1 replicas with only 0 peer/s.\n",
      "24/05/13 15:09:52 WARN BlockManager: Block input-0-1715602192600 replicated to only 0 peer(s) instead of 1 peers\n",
      "24/05/13 15:09:53 WARN RandomBlockReplicationPolicy: Expecting 1 replicas with only 0 peer/s.\n",
      "24/05/13 15:09:53 WARN BlockManager: Block input-0-1715602193600 replicated to only 0 peer(s) instead of 1 peers\n",
      "24/05/13 15:09:55 WARN RandomBlockReplicationPolicy: Expecting 1 replicas with only 0 peer/s.\n",
      "24/05/13 15:09:55 WARN BlockManager: Block input-0-1715602195600 replicated to only 0 peer(s) instead of 1 peers\n",
      "                                                                                \r"
     ]
    },
    {
     "name": "stdout",
     "output_type": "stream",
     "text": [
      "========= 2024-05-13 15:10:00 =========\n",
      "+--------+---------+---------+-----+----------+-----------+--------------------+--------------+\n",
      "|comments|frontpage|     user|votes|word_count|domain_name|        TFIDF_Scores|compound_score|\n",
      "+--------+---------+---------+-----+----------+-----------+--------------------+--------------+\n",
      "|       0|      0.0|anonymfus|    1|       322|    youtube|0.008691586819499712|       -0.9526|\n",
      "|       2|      1.0|   Anon84|   20|       431|        ted|0.013419104362602173|        0.9959|\n",
      "|       0|      0.0|      htk|    2|       354|    youtube|  0.1362095160823194|       -0.6369|\n",
      "+--------+---------+---------+-----+----------+-----------+--------------------+--------------+\n",
      "\n",
      "+--------+---------+---------+-----+----------+-----------+--------------------+--------------+--------------------+--------------------+--------------------+----------+\n",
      "|comments|frontpage|     user|votes|word_count|domain_name|        TFIDF_Scores|compound_score|            features|       rawPrediction|         probability|prediction|\n",
      "+--------+---------+---------+-----+----------+-----------+--------------------+--------------+--------------------+--------------------+--------------------+----------+\n",
      "|       0|      0.0|anonymfus|    1|       322|    youtube|0.008691586819499712|       -0.9526|[0.0,1.0,322.0,0....|[4.36780343187728...|[0.98747968540262...|       0.0|\n",
      "|       2|      1.0|   Anon84|   20|       431|        ted|0.013419104362602173|        0.9959|[2.0,20.0,431.0,0...|[-38.396506745048...|[2.11158708102344...|       1.0|\n",
      "|       0|      0.0|      htk|    2|       354|    youtube|  0.1362095160823194|       -0.6369|[0.0,2.0,354.0,0....|[1.99608091231363...|[0.88038498443865...|       0.0|\n",
      "+--------+---------+---------+-----+----------+-----------+--------------------+--------------+--------------------+--------------------+--------------------+----------+\n",
      "\n"
     ]
    },
    {
     "name": "stderr",
     "output_type": "stream",
     "text": [
      "24/05/13 15:10:00 WARN RandomBlockReplicationPolicy: Expecting 1 replicas with only 0 peer/s.\n",
      "24/05/13 15:10:00 WARN BlockManager: Block input-0-1715602200600 replicated to only 0 peer(s) instead of 1 peers\n",
      "24/05/13 15:10:02 WARN RandomBlockReplicationPolicy: Expecting 1 replicas with only 0 peer/s.\n",
      "24/05/13 15:10:02 WARN BlockManager: Block input-0-1715602202600 replicated to only 0 peer(s) instead of 1 peers\n",
      "24/05/13 15:10:04 WARN RandomBlockReplicationPolicy: Expecting 1 replicas with only 0 peer/s.\n",
      "24/05/13 15:10:04 WARN BlockManager: Block input-0-1715602204600 replicated to only 0 peer(s) instead of 1 peers\n",
      "24/05/13 15:10:09 WARN RandomBlockReplicationPolicy: Expecting 1 replicas with only 0 peer/s.\n",
      "24/05/13 15:10:09 WARN BlockManager: Block input-0-1715602209600 replicated to only 0 peer(s) instead of 1 peers\n",
      "                                                                                \r"
     ]
    },
    {
     "name": "stdout",
     "output_type": "stream",
     "text": [
      "========= 2024-05-13 15:10:10 =========\n",
      "+--------+---------+----------+-----+----------+--------------+--------------------+--------------+\n",
      "|comments|frontpage|      user|votes|word_count|   domain_name|        TFIDF_Scores|compound_score|\n",
      "+--------+---------+----------+-----+----------+--------------+--------------------+--------------+\n",
      "|       0|      0.0|petethomas|    1|       317|washingtonpost|0.008691586819499712|        0.9793|\n",
      "|       0|      0.0|  grugagag|    2|        85|       youtube|0.013419104362602173|        0.3818|\n",
      "|       0|      0.0|       _kb|    2|         4|      pi-clock|  0.1362095160823194|           0.0|\n",
      "+--------+---------+----------+-----+----------+--------------+--------------------+--------------+\n",
      "\n",
      "+--------+---------+----------+-----+----------+--------------+--------------------+--------------+--------------------+--------------------+--------------------+----------+\n",
      "|comments|frontpage|      user|votes|word_count|   domain_name|        TFIDF_Scores|compound_score|            features|       rawPrediction|         probability|prediction|\n",
      "+--------+---------+----------+-----+----------+--------------+--------------------+--------------+--------------------+--------------------+--------------------+----------+\n",
      "|       0|      0.0|petethomas|    1|       317|washingtonpost|0.008691586819499712|        0.9793|[0.0,1.0,317.0,0....|[4.56051226909021...|[0.98965151013703...|       0.0|\n",
      "|       0|      0.0|  grugagag|    2|        85|       youtube|0.013419104362602173|        0.3818|[0.0,2.0,85.0,0.0...|[2.22844537095532...|[0.90277499105277...|       0.0|\n",
      "|       0|      0.0|       _kb|    2|         4|      pi-clock|  0.1362095160823194|           0.0|[0.0,2.0,4.0,0.13...|[2.10721340614363...|[0.89160230928507...|       0.0|\n",
      "+--------+---------+----------+-----+----------+--------------+--------------------+--------------+--------------------+--------------------+--------------------+----------+\n",
      "\n"
     ]
    },
    {
     "name": "stderr",
     "output_type": "stream",
     "text": [
      "24/05/13 15:10:12 WARN RandomBlockReplicationPolicy: Expecting 1 replicas with only 0 peer/s.\n",
      "24/05/13 15:10:12 WARN BlockManager: Block input-0-1715602212600 replicated to only 0 peer(s) instead of 1 peers\n",
      "24/05/13 15:10:13 WARN RandomBlockReplicationPolicy: Expecting 1 replicas with only 0 peer/s.\n",
      "24/05/13 15:10:13 WARN BlockManager: Block input-0-1715602213600 replicated to only 0 peer(s) instead of 1 peers\n",
      "24/05/13 15:10:18 WARN RandomBlockReplicationPolicy: Expecting 1 replicas with only 0 peer/s.\n",
      "24/05/13 15:10:18 WARN BlockManager: Block input-0-1715602217800 replicated to only 0 peer(s) instead of 1 peers\n",
      "                                                                                \r"
     ]
    },
    {
     "name": "stdout",
     "output_type": "stream",
     "text": [
      "========= 2024-05-13 15:10:20 =========\n",
      "+--------+---------+-----------+-----+----------+-----------+--------------------+--------------+\n",
      "|comments|frontpage|       user|votes|word_count|domain_name|        TFIDF_Scores|compound_score|\n",
      "+--------+---------+-----------+-----+----------+-----------+--------------------+--------------+\n",
      "|       0|      0.0|  ipster_io|    2|       391|  hypermink|0.008691586819499712|        0.9948|\n",
      "|       2|      0.0|thisislife2|    1|      1557| indiatimes|0.013419104362602173|        0.9992|\n",
      "|       0|      0.0|  peterb0yd|    2|       108| foodlogger|  0.1362095160823194|        0.9786|\n",
      "+--------+---------+-----------+-----+----------+-----------+--------------------+--------------+\n",
      "\n",
      "+--------+---------+-----------+-----+----------+-----------+--------------------+--------------+--------------------+--------------------+--------------------+----------+\n",
      "|comments|frontpage|       user|votes|word_count|domain_name|        TFIDF_Scores|compound_score|            features|       rawPrediction|         probability|prediction|\n",
      "+--------+---------+-----------+-----+----------+-----------+--------------------+--------------+--------------------+--------------------+--------------------+----------+\n",
      "|       0|      0.0|  ipster_io|    2|       391|  hypermink|0.008691586819499712|        0.9948|[0.0,2.0,391.0,0....|[2.25119455351611...|[0.90475352503653...|       0.0|\n",
      "|       2|      0.0|thisislife2|    1|      1557| indiatimes|0.013419104362602173|        0.9992|[2.0,1.0,1557.0,0...|[5.16414075844311...|[0.99431453548782...|       0.0|\n",
      "|       0|      0.0|  peterb0yd|    2|       108| foodlogger|  0.1362095160823194|        0.9786|[0.0,2.0,108.0,0....|[2.19027232014623...|[0.89937255451518...|       0.0|\n",
      "+--------+---------+-----------+-----+----------+-----------+--------------------+--------------+--------------------+--------------------+--------------------+----------+\n",
      "\n"
     ]
    },
    {
     "name": "stderr",
     "output_type": "stream",
     "text": [
      "24/05/13 15:10:23 WARN RandomBlockReplicationPolicy: Expecting 1 replicas with only 0 peer/s.\n",
      "24/05/13 15:10:23 WARN BlockManager: Block input-0-1715602222800 replicated to only 0 peer(s) instead of 1 peers\n",
      "24/05/13 15:10:27 WARN RandomBlockReplicationPolicy: Expecting 1 replicas with only 0 peer/s.\n",
      "24/05/13 15:10:27 WARN BlockManager: Block input-0-1715602226800 replicated to only 0 peer(s) instead of 1 peers\n",
      "                                                                                \r"
     ]
    },
    {
     "name": "stdout",
     "output_type": "stream",
     "text": [
      "========= 2024-05-13 15:10:30 =========\n"
     ]
    },
    {
     "name": "stderr",
     "output_type": "stream",
     "text": [
      "                                                                                \r"
     ]
    },
    {
     "name": "stdout",
     "output_type": "stream",
     "text": [
      "+--------+---------+-----------+-----+----------+-----------+--------------------+--------------+\n",
      "|comments|frontpage|       user|votes|word_count|domain_name|        TFIDF_Scores|compound_score|\n",
      "+--------+---------+-----------+-----+----------+-----------+--------------------+--------------+\n",
      "|       0|      0.0|wahnfrieden|    1|      2796|     apnews|0.008691586819499712|       -0.9983|\n",
      "|       0|      0.0|   peutetre|    1|      1199|   newatlas|0.013419104362602173|        0.9989|\n",
      "+--------+---------+-----------+-----+----------+-----------+--------------------+--------------+\n",
      "\n",
      "+--------+---------+-----------+-----+----------+-----------+--------------------+--------------+--------------------+--------------------+--------------------+----------+\n",
      "|comments|frontpage|       user|votes|word_count|domain_name|        TFIDF_Scores|compound_score|            features|       rawPrediction|         probability|prediction|\n",
      "+--------+---------+-----------+-----+----------+-----------+--------------------+--------------+--------------------+--------------------+--------------------+----------+\n",
      "|       0|      0.0|wahnfrieden|    1|      2796|     apnews|0.008691586819499712|       -0.9983|[0.0,1.0,2796.0,0...|[4.02519688631929...|[0.98245347193143...|       0.0|\n",
      "|       0|      0.0|   peutetre|    1|      1199|   newatlas|0.013419104362602173|        0.9989|[0.0,1.0,1199.0,0...|[4.43830545165758...|[0.98832204184913...|       0.0|\n",
      "+--------+---------+-----------+-----+----------+-----------+--------------------+--------------+--------------------+--------------------+--------------------+----------+\n",
      "\n"
     ]
    },
    {
     "name": "stderr",
     "output_type": "stream",
     "text": [
      "24/05/13 15:10:32 WARN RandomBlockReplicationPolicy: Expecting 1 replicas with only 0 peer/s.\n",
      "24/05/13 15:10:32 WARN BlockManager: Block input-0-1715602231800 replicated to only 0 peer(s) instead of 1 peers\n",
      "24/05/13 15:10:34 WARN RandomBlockReplicationPolicy: Expecting 1 replicas with only 0 peer/s.\n",
      "24/05/13 15:10:34 WARN BlockManager: Block input-0-1715602233800 replicated to only 0 peer(s) instead of 1 peers\n",
      "24/05/13 15:10:39 WARN RandomBlockReplicationPolicy: Expecting 1 replicas with only 0 peer/s.\n",
      "24/05/13 15:10:39 WARN BlockManager: Block input-0-1715602238800 replicated to only 0 peer(s) instead of 1 peers\n",
      "                                                                                \r"
     ]
    },
    {
     "name": "stdout",
     "output_type": "stream",
     "text": [
      "========= 2024-05-13 15:10:40 =========\n",
      "+--------+---------+-------------+-----+----------+-----------+--------------------+--------------+\n",
      "|comments|frontpage|         user|votes|word_count|domain_name|        TFIDF_Scores|compound_score|\n",
      "+--------+---------+-------------+-----+----------+-----------+--------------------+--------------+\n",
      "|       0|      0.0|    hanson108|    1|       649|         un|0.008691586819499712|       -0.9882|\n",
      "|       0|      0.0|    nateb2022|    1|       410|     github|0.013419104362602173|        0.9936|\n",
      "|       0|      0.0|kixpanganiban|    1|       102|    youtube|  0.1362095160823194|         0.765|\n",
      "+--------+---------+-------------+-----+----------+-----------+--------------------+--------------+\n",
      "\n",
      "+--------+---------+-------------+-----+----------+-----------+--------------------+--------------+--------------------+--------------------+--------------------+----------+\n",
      "|comments|frontpage|         user|votes|word_count|domain_name|        TFIDF_Scores|compound_score|            features|       rawPrediction|         probability|prediction|\n",
      "+--------+---------+-------------+-----+----------+-----------+--------------------+--------------+--------------------+--------------------+--------------------+----------+\n",
      "|       0|      0.0|    hanson108|    1|       649|         un|0.008691586819499712|       -0.9882|[0.0,1.0,649.0,0....|[4.31958139747420...|[0.98686925838058...|       0.0|\n",
      "|       0|      0.0|    nateb2022|    1|       410|     github|0.013419104362602173|        0.9936|[0.0,1.0,410.0,0....|[4.54559294152536...|[0.98949759381074...|       0.0|\n",
      "|       0|      0.0|kixpanganiban|    1|       102|    youtube|  0.1362095160823194|         0.765|[0.0,1.0,102.0,0....|[4.47060745490432...|[0.98868903729917...|       0.0|\n",
      "+--------+---------+-------------+-----+----------+-----------+--------------------+--------------+--------------------+--------------------+--------------------+----------+\n",
      "\n"
     ]
    },
    {
     "name": "stderr",
     "output_type": "stream",
     "text": [
      "24/05/13 15:10:43 WARN RandomBlockReplicationPolicy: Expecting 1 replicas with only 0 peer/s.\n",
      "24/05/13 15:10:43 WARN BlockManager: Block input-0-1715602242800 replicated to only 0 peer(s) instead of 1 peers\n",
      "24/05/13 15:10:48 WARN RandomBlockReplicationPolicy: Expecting 1 replicas with only 0 peer/s.\n",
      "24/05/13 15:10:48 WARN BlockManager: Block input-0-1715602248000 replicated to only 0 peer(s) instead of 1 peers\n",
      "24/05/13 15:10:50 WARN RandomBlockReplicationPolicy: Expecting 1 replicas with only 0 peer/s.\n",
      "24/05/13 15:10:50 WARN BlockManager: Block input-0-1715602249800 replicated to only 0 peer(s) instead of 1 peers\n",
      "                                                                                \r"
     ]
    },
    {
     "name": "stdout",
     "output_type": "stream",
     "text": [
      "========= 2024-05-13 15:10:50 =========\n"
     ]
    },
    {
     "name": "stderr",
     "output_type": "stream",
     "text": [
      "                                                                                \r"
     ]
    },
    {
     "name": "stdout",
     "output_type": "stream",
     "text": [
      "+--------+---------+-------+-----+----------+------------------+--------------------+--------------+\n",
      "|comments|frontpage|   user|votes|word_count|       domain_name|        TFIDF_Scores|compound_score|\n",
      "+--------+---------+-------+-----+----------+------------------+--------------------+--------------+\n",
      "|       0|      0.0|mooreds|    1|      1356|             slate|0.008691586819499712|        0.9991|\n",
      "|       0|      0.0|mooreds|    1|      3115|everybodyinthepool|0.013419104362602173|           1.0|\n",
      "+--------+---------+-------+-----+----------+------------------+--------------------+--------------+\n",
      "\n",
      "+--------+---------+-------+-----+----------+------------------+--------------------+--------------+--------------------+--------------------+--------------------+----------+\n",
      "|comments|frontpage|   user|votes|word_count|       domain_name|        TFIDF_Scores|compound_score|            features|       rawPrediction|         probability|prediction|\n",
      "+--------+---------+-------+-----+----------+------------------+--------------------+--------------+--------------------+--------------------+--------------------+----------+\n",
      "|       0|      0.0|mooreds|    1|      1356|             slate|0.008691586819499712|        0.9991|[0.0,1.0,1356.0,0...|[4.42050434919621...|[0.98811479286521...|       0.0|\n",
      "|       0|      0.0|mooreds|    1|      3115|everybodyinthepool|0.013419104362602173|           1.0|[0.0,1.0,3115.0,0...|[4.17659959211703...|[0.98488146161715...|       0.0|\n",
      "+--------+---------+-------+-----+----------+------------------+--------------------+--------------+--------------------+--------------------+--------------------+----------+\n",
      "\n"
     ]
    },
    {
     "name": "stderr",
     "output_type": "stream",
     "text": [
      "24/05/13 15:10:51 WARN RandomBlockReplicationPolicy: Expecting 1 replicas with only 0 peer/s.\n",
      "24/05/13 15:10:51 WARN BlockManager: Block input-0-1715602251000 replicated to only 0 peer(s) instead of 1 peers\n",
      "24/05/13 15:10:55 WARN RandomBlockReplicationPolicy: Expecting 1 replicas with only 0 peer/s.\n",
      "24/05/13 15:10:55 WARN BlockManager: Block input-0-1715602255000 replicated to only 0 peer(s) instead of 1 peers\n",
      "24/05/13 15:10:56 WARN RandomBlockReplicationPolicy: Expecting 1 replicas with only 0 peer/s.\n",
      "24/05/13 15:10:56 WARN BlockManager: Block input-0-1715602256000 replicated to only 0 peer(s) instead of 1 peers\n",
      "24/05/13 15:11:00 WARN RandomBlockReplicationPolicy: Expecting 1 replicas with only 0 peer/s.\n",
      "24/05/13 15:11:00 WARN BlockManager: Block input-0-1715602260000 replicated to only 0 peer(s) instead of 1 peers\n"
     ]
    },
    {
     "name": "stdout",
     "output_type": "stream",
     "text": [
      "========= 2024-05-13 15:11:00 =========\n",
      "+--------+---------+---------+-----+----------+-----------+--------------------+--------------+\n",
      "|comments|frontpage|     user|votes|word_count|domain_name|        TFIDF_Scores|compound_score|\n",
      "+--------+---------+---------+-----+----------+-----------+--------------------+--------------+\n",
      "|       0|      0.0| peutetre|    1|       875|   newatlas|0.008691586819499712|         0.999|\n",
      "|       0|      0.0|  mooreds|    1|      1434|     rubrik|0.013419104362602173|        0.9994|\n",
      "|       0|      0.0|  testrun|    1|        64|        com|  0.1362095160823194|        0.7783|\n",
      "|       0|      0.0|PaulHoule|    1|       411|      arxiv|0.023534489399530217|        0.9957|\n",
      "+--------+---------+---------+-----+----------+-----------+--------------------+--------------+\n",
      "\n",
      "+--------+---------+---------+-----+----------+-----------+--------------------+--------------+--------------------+--------------------+--------------------+----------+\n",
      "|comments|frontpage|     user|votes|word_count|domain_name|        TFIDF_Scores|compound_score|            features|       rawPrediction|         probability|prediction|\n",
      "+--------+---------+---------+-----+----------+-----------+--------------------+--------------+--------------------+--------------------+--------------------+----------+\n",
      "|       0|      0.0| peutetre|    1|       875|   newatlas|0.008691586819499712|         0.999|[0.0,1.0,875.0,0....|[4.48622150212976...|[0.98886232380856...|       0.0|\n",
      "|       0|      0.0|  mooreds|    1|      1434|     rubrik|0.013419104362602173|        0.9994|[0.0,1.0,1434.0,0...|[4.40624316115897...|[0.98794613904324...|       0.0|\n",
      "|       0|      0.0|  testrun|    1|        64|        com|  0.1362095160823194|        0.7783|[0.0,1.0,64.0,0.1...|[4.47712201568274...|[0.98876165834129...|       0.0|\n",
      "|       0|      0.0|PaulHoule|    1|       411|      arxiv|0.023534489399530217|        0.9957|[0.0,1.0,411.0,0....|[4.53789250566218...|[0.98941726768773...|       0.0|\n",
      "+--------+---------+---------+-----+----------+-----------+--------------------+--------------+--------------------+--------------------+--------------------+----------+\n",
      "\n"
     ]
    },
    {
     "name": "stderr",
     "output_type": "stream",
     "text": [
      "24/05/13 15:11:03 WARN RandomBlockReplicationPolicy: Expecting 1 replicas with only 0 peer/s.\n",
      "24/05/13 15:11:03 WARN BlockManager: Block input-0-1715602263000 replicated to only 0 peer(s) instead of 1 peers\n",
      "24/05/13 15:11:04 WARN RandomBlockReplicationPolicy: Expecting 1 replicas with only 0 peer/s.\n",
      "24/05/13 15:11:04 WARN BlockManager: Block input-0-1715602264000 replicated to only 0 peer(s) instead of 1 peers\n",
      "24/05/13 15:11:08 WARN RandomBlockReplicationPolicy: Expecting 1 replicas with only 0 peer/s.\n",
      "24/05/13 15:11:08 WARN BlockManager: Block input-0-1715602268000 replicated to only 0 peer(s) instead of 1 peers\n",
      "                                                                                \r"
     ]
    },
    {
     "name": "stdout",
     "output_type": "stream",
     "text": [
      "========= 2024-05-13 15:11:10 =========\n",
      "+--------+---------+-----------+-----+----------+-----------+--------------------+--------------+\n",
      "|comments|frontpage|       user|votes|word_count|domain_name|        TFIDF_Scores|compound_score|\n",
      "+--------+---------+-----------+-----+----------+-----------+--------------------+--------------+\n",
      "|       6|      0.0|perihelions|   12|       428|theguardian|0.008691586819499712|       -0.8512|\n",
      "|       0|      0.0|  chris1993|    9|      1205|        net|0.013419104362602173|        0.8625|\n",
      "+--------+---------+-----------+-----+----------+-----------+--------------------+--------------+\n",
      "\n",
      "+--------+---------+-----------+-----+----------+-----------+--------------------+--------------+--------------------+--------------------+--------------------+----------+\n",
      "|comments|frontpage|       user|votes|word_count|domain_name|        TFIDF_Scores|compound_score|            features|       rawPrediction|         probability|prediction|\n",
      "+--------+---------+-----------+-----+----------+-----------+--------------------+--------------+--------------------+--------------------+--------------------+----------+\n",
      "|       6|      0.0|perihelions|   12|       428|theguardian|0.008691586819499712|       -0.8512|[6.0,12.0,428.0,0...|[-18.620638798214...|[8.18765089360219...|       1.0|\n",
      "|       0|      0.0|  chris1993|    9|      1205|        net|0.013419104362602173|        0.8625|[0.0,9.0,1205.0,0...|[-13.982044321698...|[8.46593515548956...|       1.0|\n",
      "+--------+---------+-----------+-----+----------+-----------+--------------------+--------------+--------------------+--------------------+--------------------+----------+\n",
      "\n"
     ]
    },
    {
     "name": "stderr",
     "output_type": "stream",
     "text": [
      "24/05/13 15:11:12 WARN RandomBlockReplicationPolicy: Expecting 1 replicas with only 0 peer/s.\n",
      "24/05/13 15:11:12 WARN BlockManager: Block input-0-1715602272200 replicated to only 0 peer(s) instead of 1 peers\n",
      "24/05/13 15:11:16 WARN RandomBlockReplicationPolicy: Expecting 1 replicas with only 0 peer/s.\n",
      "24/05/13 15:11:16 WARN BlockManager: Block input-0-1715602276000 replicated to only 0 peer(s) instead of 1 peers\n",
      "24/05/13 15:11:18 WARN RandomBlockReplicationPolicy: Expecting 1 replicas with only 0 peer/s.\n",
      "24/05/13 15:11:18 WARN BlockManager: Block input-0-1715602278000 replicated to only 0 peer(s) instead of 1 peers\n",
      "24/05/13 15:11:19 WARN RandomBlockReplicationPolicy: Expecting 1 replicas with only 0 peer/s.\n",
      "24/05/13 15:11:19 WARN BlockManager: Block input-0-1715602279000 replicated to only 0 peer(s) instead of 1 peers\n",
      "                                                                                \r"
     ]
    },
    {
     "name": "stdout",
     "output_type": "stream",
     "text": [
      "========= 2024-05-13 15:11:20 =========\n",
      "+--------+---------+----------+-----+----------+-------------+--------------------+--------------+\n",
      "|comments|frontpage|      user|votes|word_count|  domain_name|        TFIDF_Scores|compound_score|\n",
      "+--------+---------+----------+-----+----------+-------------+--------------------+--------------+\n",
      "|      13|      1.0|aurareturn|   15|       285|    geekbench|0.008691586819499712|        0.4019|\n",
      "|       3|      1.0|    packjc|    9|       360|       github|0.013419104362602173|        0.9922|\n",
      "|       4|      1.0|  grugagag|    4|        72|      youtube|  0.1362095160823194|        0.4215|\n",
      "|       0|      0.0|  qzervaas|    2|      1039|flightradar24|0.023534489399530217|        0.9995|\n",
      "+--------+---------+----------+-----+----------+-------------+--------------------+--------------+\n",
      "\n",
      "+--------+---------+----------+-----+----------+-------------+--------------------+--------------+--------------------+--------------------+--------------------+----------+\n",
      "|comments|frontpage|      user|votes|word_count|  domain_name|        TFIDF_Scores|compound_score|            features|       rawPrediction|         probability|prediction|\n",
      "+--------+---------+----------+-----+----------+-------------+--------------------+--------------+--------------------+--------------------+--------------------+----------+\n",
      "|      13|      1.0|aurareturn|   15|       285|    geekbench|0.008691586819499712|        0.4019|[13.0,15.0,285.0,...|[-22.667245520040...|[1.43133190052420...|       1.0|\n",
      "|       3|      1.0|    packjc|    9|       360|       github|0.013419104362602173|        0.9922|[3.0,9.0,360.0,0....|[-12.691598437718...|[3.07685829831500...|       1.0|\n",
      "|       4|      1.0|  grugagag|    4|        72|      youtube|  0.1362095160823194|        0.4215|[4.0,4.0,72.0,0.1...|[-0.9122255895481...|[0.28654462876709...|       1.0|\n",
      "|       0|      0.0|  qzervaas|    2|      1039|flightradar24|0.023534489399530217|        0.9995|[0.0,2.0,1039.0,0...|[2.15170953561455...|[0.89582841849838...|       0.0|\n",
      "+--------+---------+----------+-----+----------+-------------+--------------------+--------------+--------------------+--------------------+--------------------+----------+\n",
      "\n"
     ]
    },
    {
     "name": "stderr",
     "output_type": "stream",
     "text": [
      "24/05/13 15:11:23 WARN RandomBlockReplicationPolicy: Expecting 1 replicas with only 0 peer/s.\n",
      "24/05/13 15:11:23 WARN BlockManager: Block input-0-1715602283200 replicated to only 0 peer(s) instead of 1 peers\n",
      "24/05/13 15:11:26 WARN RandomBlockReplicationPolicy: Expecting 1 replicas with only 0 peer/s.\n",
      "24/05/13 15:11:26 WARN BlockManager: Block input-0-1715602286200 replicated to only 0 peer(s) instead of 1 peers\n",
      "24/05/13 15:11:28 WARN RandomBlockReplicationPolicy: Expecting 1 replicas with only 0 peer/s.\n",
      "24/05/13 15:11:28 WARN BlockManager: Block input-0-1715602288200 replicated to only 0 peer(s) instead of 1 peers\n",
      "                                                                                \r"
     ]
    },
    {
     "name": "stdout",
     "output_type": "stream",
     "text": [
      "========= 2024-05-13 15:11:30 =========\n"
     ]
    },
    {
     "name": "stderr",
     "output_type": "stream",
     "text": [
      "24/05/13 15:11:30 WARN RandomBlockReplicationPolicy: Expecting 1 replicas with only 0 peer/s.\n",
      "24/05/13 15:11:30 WARN BlockManager: Block input-0-1715602290200 replicated to only 0 peer(s) instead of 1 peers\n"
     ]
    },
    {
     "name": "stdout",
     "output_type": "stream",
     "text": [
      "+--------+---------+------+-----+----------+-----------+--------------------+--------------+\n",
      "|comments|frontpage|  user|votes|word_count|domain_name|        TFIDF_Scores|compound_score|\n",
      "+--------+---------+------+-----+----------+-----------+--------------------+--------------+\n",
      "|       0|      0.0|Paulvu|    1|       439|      apple|0.008691586819499712|        0.9983|\n",
      "|       0|      0.0| rolph|    1|        24|techatpower|0.013419104362602173|        0.8225|\n",
      "|       0|      0.0| rolph|    1|      1422| resecurity|  0.1362095160823194|       -0.9464|\n",
      "+--------+---------+------+-----+----------+-----------+--------------------+--------------+\n",
      "\n",
      "+--------+---------+------+-----+----------+-----------+--------------------+--------------+--------------------+--------------------+--------------------+----------+\n",
      "|comments|frontpage|  user|votes|word_count|domain_name|        TFIDF_Scores|compound_score|            features|       rawPrediction|         probability|prediction|\n",
      "+--------+---------+------+-----+----------+-----------+--------------------+--------------+--------------------+--------------------+--------------------+----------+\n",
      "|       0|      0.0|Paulvu|    1|       439|      apple|0.008691586819499712|        0.9983|[0.0,1.0,439.0,0....|[4.54572991239284...|[0.98949901713103...|       0.0|\n",
      "|       0|      0.0| rolph|    1|        24|techatpower|0.013419104362602173|        0.8225|[0.0,1.0,24.0,0.0...|[4.58133171732339...|[0.98986257116778...|       0.0|\n",
      "|       0|      0.0| rolph|    1|      1422| resecurity|  0.1362095160823194|       -0.9464|[0.0,1.0,1422.0,0...|[4.12012522531121...|[0.98401712124903...|       0.0|\n",
      "+--------+---------+------+-----+----------+-----------+--------------------+--------------+--------------------+--------------------+--------------------+----------+\n",
      "\n"
     ]
    },
    {
     "name": "stderr",
     "output_type": "stream",
     "text": [
      "24/05/13 15:11:31 WARN RandomBlockReplicationPolicy: Expecting 1 replicas with only 0 peer/s.\n",
      "24/05/13 15:11:31 WARN BlockManager: Block input-0-1715602291200 replicated to only 0 peer(s) instead of 1 peers\n",
      "24/05/13 15:11:34 WARN RandomBlockReplicationPolicy: Expecting 1 replicas with only 0 peer/s.\n",
      "24/05/13 15:11:34 WARN BlockManager: Block input-0-1715602294200 replicated to only 0 peer(s) instead of 1 peers\n",
      "24/05/13 15:11:38 WARN RandomBlockReplicationPolicy: Expecting 1 replicas with only 0 peer/s.\n",
      "24/05/13 15:11:38 WARN BlockManager: Block input-0-1715602298200 replicated to only 0 peer(s) instead of 1 peers\n",
      "                                                                                \r"
     ]
    },
    {
     "name": "stdout",
     "output_type": "stream",
     "text": [
      "========= 2024-05-13 15:11:40 =========\n",
      "+--------+---------+----------+-----+----------+---------------+--------------------+--------------+\n",
      "|comments|frontpage|      user|votes|word_count|    domain_name|        TFIDF_Scores|compound_score|\n",
      "+--------+---------+----------+-----+----------+---------------+--------------------+--------------+\n",
      "|       0|      0.0|    sak5sk|    1|        22|         satcom|0.008691586819499712|        0.1779|\n",
      "|       0|      0.0|loongloong|    1|       623|thebadgeronline|0.013419104362602173|        0.9882|\n",
      "|       0|      0.0|   gshakir|    1|       388|         github|  0.1362095160823194|        0.9738|\n",
      "|       0|      1.0|     rolph|    3|      1144|            gnu|0.023534489399530217|         0.999|\n",
      "+--------+---------+----------+-----+----------+---------------+--------------------+--------------+\n",
      "\n",
      "+--------+---------+----------+-----+----------+---------------+--------------------+--------------+--------------------+--------------------+--------------------+----------+\n",
      "|comments|frontpage|      user|votes|word_count|    domain_name|        TFIDF_Scores|compound_score|            features|       rawPrediction|         probability|prediction|\n",
      "+--------+---------+----------+-----+----------+---------------+--------------------+--------------+--------------------+--------------------+--------------------+----------+\n",
      "|       0|      0.0|    sak5sk|    1|        22|         satcom|0.008691586819499712|        0.1779|[0.0,1.0,22.0,0.0...|[4.52116608453308...|[0.98924068831582...|       0.0|\n",
      "|       0|      0.0|loongloong|    1|       623|thebadgeronline|0.013419104362602173|        0.9882|[0.0,1.0,623.0,0....|[4.51595043585072...|[0.98918503341517...|       0.0|\n",
      "|       0|      0.0|   gshakir|    1|       388|         github|  0.1362095160823194|        0.9738|[0.0,1.0,388.0,0....|[4.45228063275556...|[0.98848224169454...|       0.0|\n",
      "|       0|      1.0|     rolph|    3|      1144|            gnu|0.023534489399530217|         0.999|[0.0,3.0,1144.0,0...|[-0.1634345860553...|[0.45923205869133...|       1.0|\n",
      "+--------+---------+----------+-----+----------+---------------+--------------------+--------------+--------------------+--------------------+--------------------+----------+\n",
      "\n"
     ]
    },
    {
     "name": "stderr",
     "output_type": "stream",
     "text": [
      "24/05/13 15:11:43 WARN RandomBlockReplicationPolicy: Expecting 1 replicas with only 0 peer/s.\n",
      "24/05/13 15:11:43 WARN BlockManager: Block input-0-1715602303200 replicated to only 0 peer(s) instead of 1 peers\n",
      "24/05/13 15:11:46 WARN RandomBlockReplicationPolicy: Expecting 1 replicas with only 0 peer/s.\n",
      "24/05/13 15:11:46 WARN BlockManager: Block input-0-1715602306200 replicated to only 0 peer(s) instead of 1 peers\n",
      "24/05/13 15:11:48 WARN RandomBlockReplicationPolicy: Expecting 1 replicas with only 0 peer/s.\n",
      "24/05/13 15:11:48 WARN BlockManager: Block input-0-1715602308200 replicated to only 0 peer(s) instead of 1 peers\n",
      "                                                                                \r"
     ]
    },
    {
     "name": "stdout",
     "output_type": "stream",
     "text": [
      "========= 2024-05-13 15:11:50 =========\n"
     ]
    },
    {
     "name": "stderr",
     "output_type": "stream",
     "text": [
      "24/05/13 15:11:50 WARN RandomBlockReplicationPolicy: Expecting 1 replicas with only 0 peer/s.\n",
      "24/05/13 15:11:50 WARN BlockManager: Block input-0-1715602310400 replicated to only 0 peer(s) instead of 1 peers\n"
     ]
    },
    {
     "name": "stdout",
     "output_type": "stream",
     "text": [
      "+--------+---------+----------+-----+----------+--------------+--------------------+--------------+\n",
      "|comments|frontpage|      user|votes|word_count|   domain_name|        TFIDF_Scores|compound_score|\n",
      "+--------+---------+----------+-----+----------+--------------+--------------------+--------------+\n",
      "|       0|      0.0|ghostdogpr|    1|      1238|pierre-ricadat|0.008691586819499712|        0.9969|\n",
      "|       0|      1.0|meysamazad|    7|      1435|       shuttle|0.013419104362602173|        0.9992|\n",
      "|       0|      0.0| FillMaths|    2|      1702|infinitelymore|  0.1362095160823194|        0.9988|\n",
      "+--------+---------+----------+-----+----------+--------------+--------------------+--------------+\n",
      "\n",
      "+--------+---------+----------+-----+----------+--------------+--------------------+--------------+--------------------+--------------------+--------------------+----------+\n",
      "|comments|frontpage|      user|votes|word_count|   domain_name|        TFIDF_Scores|compound_score|            features|       rawPrediction|         probability|prediction|\n",
      "+--------+---------+----------+-----+----------+--------------+--------------------+--------------+--------------------+--------------------+--------------------+----------+\n",
      "|       0|      0.0|ghostdogpr|    1|      1238|pierre-ricadat|0.008691586819499712|        0.9969|[0.0,1.0,1238.0,0...|[4.43640999313251...|[0.98830014499535...|       0.0|\n",
      "|       0|      1.0|meysamazad|    7|      1435|       shuttle|0.013419104362602173|        0.9992|[0.0,7.0,1435.0,0...|[-9.3983924429988...|[8.28502914145448...|       1.0|\n",
      "|       0|      0.0| FillMaths|    2|      1702|infinitelymore|  0.1362095160823194|        0.9988|[0.0,2.0,1702.0,0...|[1.97446520609294...|[0.87808991217713...|       0.0|\n",
      "+--------+---------+----------+-----+----------+--------------+--------------------+--------------+--------------------+--------------------+--------------------+----------+\n",
      "\n"
     ]
    },
    {
     "name": "stderr",
     "output_type": "stream",
     "text": [
      "24/05/13 15:11:53 WARN RandomBlockReplicationPolicy: Expecting 1 replicas with only 0 peer/s.\n",
      "24/05/13 15:11:53 WARN BlockManager: Block input-0-1715602313200 replicated to only 0 peer(s) instead of 1 peers\n",
      "24/05/13 15:11:54 WARN RandomBlockReplicationPolicy: Expecting 1 replicas with only 0 peer/s.\n",
      "24/05/13 15:11:54 WARN BlockManager: Block input-0-1715602314200 replicated to only 0 peer(s) instead of 1 peers\n",
      "24/05/13 15:11:57 WARN RandomBlockReplicationPolicy: Expecting 1 replicas with only 0 peer/s.\n",
      "24/05/13 15:11:57 WARN BlockManager: Block input-0-1715602317400 replicated to only 0 peer(s) instead of 1 peers\n",
      "                                                                                \r"
     ]
    },
    {
     "name": "stdout",
     "output_type": "stream",
     "text": [
      "========= 2024-05-13 15:12:00 =========\n",
      "+--------+---------+-----------+-----+----------+-----------+--------------------+--------------+\n",
      "|comments|frontpage|       user|votes|word_count|domain_name|        TFIDF_Scores|compound_score|\n",
      "+--------+---------+-----------+-----+----------+-----------+--------------------+--------------+\n",
      "|       0|      0.0|thunderbong|    1|       657|     github|0.008691586819499712|        0.9894|\n",
      "|       0|      0.0|    mooreds|    1|       457|  typesense|0.013419104362602173|        0.9817|\n",
      "|       0|      0.0|   RafelMri|    1|      1157|  aljazeera|  0.1362095160823194|        0.9965|\n",
      "|       0|      0.0|thunderbong|    1|      1547|   blogspot|0.023534489399530217|        0.9818|\n",
      "+--------+---------+-----------+-----+----------+-----------+--------------------+--------------+\n",
      "\n",
      "+--------+---------+-----------+-----+----------+-----------+--------------------+--------------+--------------------+--------------------+--------------------+----------+\n",
      "|comments|frontpage|       user|votes|word_count|domain_name|        TFIDF_Scores|compound_score|            features|       rawPrediction|         probability|prediction|\n",
      "+--------+---------+-----------+-----+----------+-----------+--------------------+--------------+--------------------+--------------------+--------------------+----------+\n",
      "|       0|      0.0|thunderbong|    1|       657|     github|0.008691586819499712|        0.9894|[0.0,1.0,657.0,0....|[4.51505628243006...|[0.98917546357385...|       0.0|\n",
      "|       0|      0.0|    mooreds|    1|       457|  typesense|0.013419104362602173|        0.9817|[0.0,1.0,457.0,0....|[4.53798771607701...|[0.98941826456460...|       0.0|\n",
      "|       0|      0.0|   RafelMri|    1|      1157|  aljazeera|  0.1362095160823194|        0.9965|[0.0,1.0,1157.0,0...|[4.3494555907891,...|[0.98725080006077...|       0.0|\n",
      "|       0|      0.0|thunderbong|    1|      1547|   blogspot|0.023534489399530217|        0.9818|[0.0,1.0,1547.0,0...|[4.38128016152199...|[0.98764521572994...|       0.0|\n",
      "+--------+---------+-----------+-----+----------+-----------+--------------------+--------------+--------------------+--------------------+--------------------+----------+\n",
      "\n"
     ]
    },
    {
     "name": "stderr",
     "output_type": "stream",
     "text": [
      "[Stage 1065:>                                                       (0 + 1) / 1]\r"
     ]
    }
   ],
   "source": [
    "ssc_t = StreamingThread(ssc)\n",
    "ssc_t.start()"
   ]
  },
  {
   "cell_type": "code",
   "execution_count": 114,
   "metadata": {},
   "outputs": [
    {
     "name": "stdout",
     "output_type": "stream",
     "text": [
      "----- Stopping... this may take a few seconds -----\n"
     ]
    },
    {
     "name": "stderr",
     "output_type": "stream",
     "text": [
      "24/05/13 15:12:29 ERROR ReceiverTracker: Deregistered receiver for stream 0: Stopped by driver\n",
      "24/05/13 15:12:29 WARN SocketReceiver: Error receiving data\n",
      "java.net.SocketException: Socket closed\n",
      "\tat java.base/java.net.SocketInputStream.socketRead0(Native Method)\n",
      "\tat java.base/java.net.SocketInputStream.socketRead(SocketInputStream.java:115)\n",
      "\tat java.base/java.net.SocketInputStream.read(SocketInputStream.java:168)\n",
      "\tat java.base/java.net.SocketInputStream.read(SocketInputStream.java:140)\n",
      "\tat java.base/sun.nio.cs.StreamDecoder.readBytes(StreamDecoder.java:284)\n",
      "\tat java.base/sun.nio.cs.StreamDecoder.implRead(StreamDecoder.java:326)\n",
      "\tat java.base/sun.nio.cs.StreamDecoder.read(StreamDecoder.java:178)\n",
      "\tat java.base/java.io.InputStreamReader.read(InputStreamReader.java:181)\n",
      "\tat java.base/java.io.BufferedReader.fill(BufferedReader.java:161)\n",
      "\tat java.base/java.io.BufferedReader.readLine(BufferedReader.java:326)\n",
      "\tat java.base/java.io.BufferedReader.readLine(BufferedReader.java:392)\n",
      "\tat org.apache.spark.streaming.dstream.SocketReceiver$$anon$2.getNext(SocketInputDStream.scala:121)\n",
      "\tat org.apache.spark.streaming.dstream.SocketReceiver$$anon$2.getNext(SocketInputDStream.scala:119)\n",
      "\tat org.apache.spark.util.NextIterator.hasNext(NextIterator.scala:73)\n",
      "\tat org.apache.spark.streaming.dstream.SocketReceiver.receive(SocketInputDStream.scala:91)\n",
      "\tat org.apache.spark.streaming.dstream.SocketReceiver$$anon$1.run(SocketInputDStream.scala:72)\n",
      "24/05/13 15:12:29 WARN ReceiverSupervisorImpl: Restarting receiver with delay 2000 ms: Error receiving data\n",
      "java.net.SocketException: Socket closed\n",
      "\tat java.base/java.net.SocketInputStream.socketRead0(Native Method)\n",
      "\tat java.base/java.net.SocketInputStream.socketRead(SocketInputStream.java:115)\n",
      "\tat java.base/java.net.SocketInputStream.read(SocketInputStream.java:168)\n",
      "\tat java.base/java.net.SocketInputStream.read(SocketInputStream.java:140)\n",
      "\tat java.base/sun.nio.cs.StreamDecoder.readBytes(StreamDecoder.java:284)\n",
      "\tat java.base/sun.nio.cs.StreamDecoder.implRead(StreamDecoder.java:326)\n",
      "\tat java.base/sun.nio.cs.StreamDecoder.read(StreamDecoder.java:178)\n",
      "\tat java.base/java.io.InputStreamReader.read(InputStreamReader.java:181)\n",
      "\tat java.base/java.io.BufferedReader.fill(BufferedReader.java:161)\n",
      "\tat java.base/java.io.BufferedReader.readLine(BufferedReader.java:326)\n",
      "\tat java.base/java.io.BufferedReader.readLine(BufferedReader.java:392)\n",
      "\tat org.apache.spark.streaming.dstream.SocketReceiver$$anon$2.getNext(SocketInputDStream.scala:121)\n",
      "\tat org.apache.spark.streaming.dstream.SocketReceiver$$anon$2.getNext(SocketInputDStream.scala:119)\n",
      "\tat org.apache.spark.util.NextIterator.hasNext(NextIterator.scala:73)\n",
      "\tat org.apache.spark.streaming.dstream.SocketReceiver.receive(SocketInputDStream.scala:91)\n",
      "\tat org.apache.spark.streaming.dstream.SocketReceiver$$anon$1.run(SocketInputDStream.scala:72)\n",
      "24/05/13 15:12:29 WARN ReceiverSupervisorImpl: Receiver has been stopped\n",
      "Exception in thread \"receiver-supervisor-future-0\" java.lang.InterruptedException: sleep interrupted\n",
      "\tat java.base/java.lang.Thread.sleep(Native Method)\n",
      "\tat org.apache.spark.streaming.receiver.ReceiverSupervisor.$anonfun$restartReceiver$1(ReceiverSupervisor.scala:196)\n",
      "\tat scala.runtime.java8.JFunction0$mcV$sp.apply(JFunction0$mcV$sp.java:23)\n",
      "\tat scala.concurrent.Future$.$anonfun$apply$1(Future.scala:659)\n",
      "\tat scala.util.Success.$anonfun$map$1(Try.scala:255)\n",
      "\tat scala.util.Success.map(Try.scala:213)\n",
      "\tat scala.concurrent.Future.$anonfun$map$1(Future.scala:292)\n",
      "\tat scala.concurrent.impl.Promise.liftedTree1$1(Promise.scala:33)\n",
      "\tat scala.concurrent.impl.Promise.$anonfun$transform$1(Promise.scala:33)\n",
      "\tat scala.concurrent.impl.CallbackRunnable.run(Promise.scala:64)\n",
      "\tat java.base/java.util.concurrent.ThreadPoolExecutor.runWorker(ThreadPoolExecutor.java:1128)\n",
      "\tat java.base/java.util.concurrent.ThreadPoolExecutor$Worker.run(ThreadPoolExecutor.java:628)\n",
      "\tat java.base/java.lang.Thread.run(Thread.java:829)\n"
     ]
    }
   ],
   "source": [
    "ssc_t.stop()"
   ]
  }
 ],
 "metadata": {
  "kernelspec": {
   "display_name": "Python 3 (ipykernel)",
   "language": "python",
   "name": "python3"
  },
  "language_info": {
   "codemirror_mode": {
    "name": "ipython",
    "version": 3
   },
   "file_extension": ".py",
   "mimetype": "text/x-python",
   "name": "python",
   "nbconvert_exporter": "python",
   "pygments_lexer": "ipython3",
   "version": "3.8.19"
  },
  "toc": {
   "base_numbering": 1,
   "nav_menu": {},
   "number_sections": true,
   "sideBar": true,
   "skip_h1_title": false,
   "title_cell": "Table of Contents",
   "title_sidebar": "Contents",
   "toc_cell": false,
   "toc_position": {},
   "toc_section_display": true,
   "toc_window_display": false
  }
 },
 "nbformat": 4,
 "nbformat_minor": 4
}
